{
 "cells": [
  {
   "metadata": {
    "ExecuteTime": {
     "end_time": "2024-09-16T11:10:45.185837Z",
     "start_time": "2024-09-16T11:10:45.182111Z"
    }
   },
   "cell_type": "code",
   "source": [
    "import sys\n",
    "print(sys.executable)"
   ],
   "id": "72519ba95ad4e2e5",
   "outputs": [
    {
     "name": "stdout",
     "output_type": "stream",
     "text": [
      "C:\\Users\\filip\\Desktop\\venvs\\wireenv\\Scripts\\python.exe\n"
     ]
    }
   ],
   "execution_count": 3
  },
  {
   "metadata": {
    "ExecuteTime": {
     "end_time": "2024-09-16T11:11:45.303633Z",
     "start_time": "2024-09-16T11:11:44.045300Z"
    }
   },
   "cell_type": "code",
   "source": [
    "import sys\n",
    "import subprocess\n",
    "\n",
    "python_path = sys.executable\n",
    "packages = [\"haystack-ai\", \"python-dotenv\", \"openai\", \"transformers\", \"huggingface_hub\"]\n",
    "command = [python_path, '-m', 'pip', 'install'] + packages\n",
    "subprocess.check_call(command)"
   ],
   "id": "ab81011d69aea125",
   "outputs": [
    {
     "data": {
      "text/plain": "0"
     },
     "execution_count": 5,
     "metadata": {},
     "output_type": "execute_result"
    }
   ],
   "execution_count": 5
  },
  {
   "metadata": {
    "ExecuteTime": {
     "end_time": "2024-09-16T11:15:11.563576Z",
     "start_time": "2024-09-16T11:15:11.025425Z"
    }
   },
   "cell_type": "code",
   "source": [
    "from dotenv import load_dotenv\n",
    "from huggingface_hub import HfApi\n",
    "import os\n",
    "\n",
    "load_dotenv()\n",
    "openai_key = os.getenv(\"OPENAI_API_KEY\")\n",
    "hf_key = os.getenv(\"HF_API_KEY\")\n",
    "print(\"Keys loaded:\", openai_key is not None and hf_key is not None)\n",
    "\n",
    "api = HfApi(token=hf_key)\n",
    "try:\n",
    "    print(\"HF credentials:\", api.whoami()['email'])\n",
    "except Exception as e:\n",
    "    print(f\"Error: {e}\")"
   ],
   "id": "5ac6ff1084d7d34e",
   "outputs": [
    {
     "name": "stdout",
     "output_type": "stream",
     "text": [
      "Keys loaded: True\n",
      "HF credentials: filip@tapoczta.pl\n"
     ]
    }
   ],
   "execution_count": 6
  },
  {
   "cell_type": "code",
   "outputs": [
    {
     "name": "stdout",
     "output_type": "stream",
     "text": [
      "['__builtins__', '__cached__', '__doc__', '__file__', '__loader__', '__name__', '__package__', '__path__', '__spec__']\n"
     ]
    }
   ],
   "source": [
    "import haystack.document_stores\n",
    "print(dir(haystack.document_stores))"
   ],
   "metadata": {
    "collapsed": false,
    "ExecuteTime": {
     "end_time": "2024-09-16T11:25:01.925917Z",
     "start_time": "2024-09-16T11:25:01.921254Z"
    }
   },
   "id": "dc027fa7d7b713b2",
   "execution_count": 11
  }
 ],
 "metadata": {
  "kernelspec": {
   "name": "wireenv",
   "language": "python",
   "display_name": "Python3.12 (wireenv)"
  },
  "language_info": {
   "codemirror_mode": {
    "name": "ipython",
    "version": 2
   },
   "file_extension": ".py",
   "mimetype": "text/x-python",
   "name": "python",
   "nbconvert_exporter": "python",
   "pygments_lexer": "ipython2",
   "version": "2.7.6"
  }
 },
 "nbformat": 4,
 "nbformat_minor": 5
}
