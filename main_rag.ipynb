{
 "cells": [
  {
   "cell_type": "markdown",
   "id": "ac9e9f500c62e007",
   "metadata": {
    "collapsed": false,
    "id": "ac9e9f500c62e007"
   },
   "source": [
    "# Wire RAG"
   ]
  },
  {
   "cell_type": "markdown",
   "source": [
    "<a href=\"https://colab.research.google.com/github/appunite/Wire-RAG/blob/main/main_rag.ipynb\" target=\"_parent\"><img src=\"https://colab.research.google.com/assets/colab-badge.svg\" alt=\"Open In Colab\"/></a>"
   ],
   "metadata": {
    "id": "view-in-github",
    "colab_type": "text"
   },
   "id": "780d3dac3fa3a702"
  },
  {
   "cell_type": "markdown",
   "source": [
    "## Setup"
   ],
   "metadata": {
    "collapsed": false
   },
   "id": "7d3909fd99fe64ed"
  },
  {
   "cell_type": "markdown",
   "source": [
    "Install dependencies and input keys on Colab"
   ],
   "metadata": {
    "collapsed": false
   },
   "id": "b4ef237387298e05"
  },
  {
   "cell_type": "code",
   "execution_count": null,
   "id": "L5aAdbvCNIME",
   "metadata": {
    "id": "L5aAdbvCNIME"
   },
   "outputs": [],
   "source": "!pip install haystack-ai pinecone-haystack sentence-transformers pinecone transformers"
  },
  {
   "cell_type": "code",
   "outputs": [],
   "source": [
    "import os\n",
    "import getpass\n",
    "os.environ[\"PINECONE_API_KEY\"] = getpass.getpass(\"pinecone api key\")\n",
    "os.environ[\"OPENAI_API_KEY\"] = getpass.getpass(\"open ai api key\")"
   ],
   "metadata": {
    "id": "hgvsByZlcsN7",
    "ExecuteTime": {
     "end_time": "2024-09-23T08:16:51.569319Z",
     "start_time": "2024-09-23T08:16:49.423772Z"
    }
   },
   "id": "hgvsByZlcsN7",
   "execution_count": 6
  },
  {
   "cell_type": "markdown",
   "source": [
    "Or load keys from .env file"
   ],
   "metadata": {
    "collapsed": false
   },
   "id": "e56187b91fd48f4c"
  },
  {
   "cell_type": "code",
   "source": [
    "from dotenv import load_dotenv\n",
    "load_dotenv()"
   ],
   "metadata": {
    "collapsed": false,
    "ExecuteTime": {
     "end_time": "2024-09-25T08:13:45.231830Z",
     "start_time": "2024-09-25T08:13:45.227388Z"
    }
   },
   "id": "c4ff7e3293da16da",
   "outputs": [
    {
     "data": {
      "text/plain": [
       "True"
      ]
     },
     "execution_count": 1,
     "metadata": {},
     "output_type": "execute_result"
    }
   ],
   "execution_count": 1
  },
  {
   "cell_type": "markdown",
   "id": "b36f5fc7",
   "metadata": {
    "id": "b36f5fc7"
   },
   "source": [
    "## Populate Pinecone Database"
   ]
  },
  {
   "cell_type": "markdown",
   "source": [
    "### Scrape URLs"
   ],
   "metadata": {
    "collapsed": false
   },
   "id": "f9debb5e3cf24851"
  },
  {
   "metadata": {},
   "cell_type": "markdown",
   "source": [
    "Whitelist: Allow any URL that begins with any element from the white_list.\\\n",
    "Blacklist: Block any URL that begins with any element from the black_list."
   ],
   "id": "369c0a80c52edb9a"
  },
  {
   "metadata": {
    "id": "393ea1e7",
    "ExecuteTime": {
     "end_time": "2024-09-25T14:20:02.053389Z",
     "start_time": "2024-09-25T14:20:01.998606Z"
    }
   },
   "cell_type": "code",
   "outputs": [],
   "execution_count": 1,
   "source": [
    "import aiohttp\n",
    "import asyncio\n",
    "from bs4 import BeautifulSoup\n",
    "from urllib.parse import urljoin, urlparse\n",
    "import nest_asyncio\n",
    "\n",
    "# Apply the nest_asyncio patch to allow nested event loops in Jupyter\n",
    "nest_asyncio.apply()\n",
    "\n",
    "# Asynchronous URL fetching with retry logic\n",
    "async def fetch_urls(url_to_fetch: str, session: aiohttp.ClientSession, retries=3) -> set[str]:\n",
    "    attempt = 0\n",
    "    while attempt < retries:\n",
    "        try:\n",
    "            async with session.get(url_to_fetch, timeout=15) as response:\n",
    "                if response.status != 200:\n",
    "                    # print(f\"Couldn't fetch {url} - status {response.status}\")\n",
    "                    return set()  # Return an empty set if the page doesn't load\n",
    "                text_content = await response.text()\n",
    "                soup = BeautifulSoup(text_content, \"html.parser\")\n",
    "                urls = set(\n",
    "                    urljoin(url_to_fetch, link['href'])\n",
    "                    for link in soup.find_all('a', href=True)\n",
    "                    if urlparse(urljoin(url_to_fetch, link['href'])).scheme in ('http', 'https')\n",
    "                )\n",
    "                # if attempt > 0: print(f\"Successfully fetched URL: {url} on attempt {attempt + 1}\")\n",
    "                return urls\n",
    "        except (aiohttp.ClientError, asyncio.TimeoutError):\n",
    "            attempt += 1\n",
    "            if attempt < retries:\n",
    "                await asyncio.sleep(2 ** attempt)  # Exponential backoff\n",
    "        except Exception as e:\n",
    "            print(e)\n",
    "            return set()\n",
    "\n",
    "    print(f\"Failed to fetch URL {u} after {retries} attempts.\")\n",
    "    return set()\n",
    "\n",
    "# Check if URL should be allowed\n",
    "def is_url_allowed(url_to_check: str, special_list: dict[str, list[str]] | None) -> bool:\n",
    "    if special_list is None: return True\n",
    "    \n",
    "    # Return False if url is not in white_list\n",
    "    if not any(url_to_check.startswith(i) for i in special_list[\"white_list\"]): return False\n",
    "    \n",
    "    # Return False if url is in black_list \n",
    "    if any(url_to_check.startswith(i) for i in special_list[\"black_list\"]): return False\n",
    "    return True\n",
    "\n",
    "# Asynchronous scraping with blacklist/whitelist and depth handling\n",
    "async def scrape_urls(current_url: str, session: aiohttp.ClientSession, max_depth: int, current_depth=0, visited=None, list_data=None) -> list[str]:\n",
    "    if visited is None:\n",
    "        visited = []\n",
    "\n",
    "    if current_depth > max_depth:\n",
    "        return visited  # Stop recursion if depth limit exceeded\n",
    "\n",
    "    visited.append(current_url)  # Store URL with its depth\n",
    "    # Extract URLs from the current page\n",
    "    urls = await fetch_urls(current_url, session)\n",
    "    \n",
    "    tasks = []\n",
    "    for new_url in urls:\n",
    "        if new_url not in visited and is_url_allowed(new_url, list_data):\n",
    "            # Continue scraping at the next depth level if within depth limit\n",
    "            if current_depth < max_depth:\n",
    "                tasks.append(scrape_urls(new_url, session, max_depth, current_depth + 1, visited, list_data))\n",
    "\n",
    "    # Await all the tasks concurrently\n",
    "    await asyncio.gather(*tasks)\n",
    "    return visited\n",
    "\n",
    "# Entry point for asynchronous scraping\n",
    "async def start_scraping(entry_url: str, depth: int, list_data=None) -> list[str]:\n",
    "    async with aiohttp.ClientSession() as session:\n",
    "        found_urls = await scrape_urls(entry_url, session, depth, list_data=list_data)\n",
    "    return found_urls"
   ],
   "id": "393ea1e7"
  },
  {
   "cell_type": "code",
   "id": "c20d222d",
   "metadata": {
    "id": "c20d222d",
    "ExecuteTime": {
     "end_time": "2024-09-25T14:24:06.707690Z",
     "start_time": "2024-09-25T14:23:46.659460Z"
    }
   },
   "source": [
    "starting_url = \"https://docs.wire.com\"\n",
    "depth_limit = 2\n",
    "filter_list = {\"white_list\": [\"https://docs.wire.com\"], \"black_list\": []}\n",
    "\n",
    "scraped_urls = await start_scraping(starting_url, depth_limit, filter_list)\n",
    "\n",
    "print(f\"Total URLs found: {len(scraped_urls)}\")"
   ],
   "outputs": [
    {
     "name": "stdout",
     "output_type": "stream",
     "text": [
      "Total URLs found: 428\n"
     ]
    }
   ],
   "execution_count": 3
  },
  {
   "cell_type": "markdown",
   "id": "b5a20874",
   "metadata": {
    "id": "b5a20874"
   },
   "source": [
    "### Extract metadata and content"
   ]
  },
  {
   "cell_type": "markdown",
   "source": [
    "Prepare function to extract date based on regex patterns"
   ],
   "metadata": {
    "collapsed": false
   },
   "id": "fc2202fa4f24428a"
  },
  {
   "cell_type": "code",
   "source": [
    "import requests\n",
    "import re\n",
    "from datetime import datetime\n",
    "\n",
    "# Regular expression patterns for various date formats\n",
    "date_patterns = [\n",
    "    r'\\b\\d{4}-\\d{2}-\\d{2}\\b',            # Matches YYYY-MM-DD (e.g., 2024-09-20)\n",
    "    r'\\b\\d{4}/\\d{2}/\\d{2}\\b',            # Matches YYYY/MM/DD (e.g., 2024/09/20)\n",
    "    r'\\b\\d{2}-\\d{2}-\\d{4}\\b',            # Matches MM-DD-YYYY (e.g., 09-20-2024)\n",
    "    r'\\b\\d{2}/\\d{2}/\\d{4}\\b',            # Matches MM/DD/YYYY (e.g., 09/20/2024)\n",
    "    r'\\b\\d{2}-\\d{2}-\\d{4}\\b',            # Matches DD-MM-YYYY (e.g., 20-09-2024)\n",
    "    r'\\b\\d{2}/\\d{2}/\\d{4}\\b',            # Matches DD/MM/YYYY (e.g., 20/09/2024)\n",
    "    r'\\b\\d{1,2}\\s+[A-Za-z]+\\s+\\d{4}\\b',  # Matches 20 September 2024\n",
    "    r'\\b[A-Za-z]+\\s+\\d{1,2},\\s+\\d{4}\\b', # Matches September 20, 2024\n",
    "    r'\\b\\d{1,2}\\s+[A-Za-z]{3}\\s+\\d{4}\\b', # Matches 20 Sep 2024 (short month)\n",
    "    r'\\b[A-Za-z]{3}\\s+\\d{1,2},\\s+\\d{4}\\b', # Matches Sep 20, 2024 (short month)\n",
    "    r'\\b\\d{1,2}-[A-Za-z]{3}-\\d{4}\\b',    # Matches 20-Sep-2024 (short month)\n",
    "    r'\\b[A-Za-z]{3}-\\d{1,2}-\\d{4}\\b',    # Matches Sep-20-2024 (short month)\n",
    "    r'\\b[A-Za-z]+,\\s+\\d{1,2}\\s+[A-Za-z]+\\s+\\d{4}\\b', # Matches Friday, 20 September 2024 (with weekday)\n",
    "    r'\\b[A-Za-z]+,\\s+[A-Za-z]+\\s+\\d{1,2},\\s+\\d{4}\\b', # Matches Friday, September 20, 2024 (with weekday)\n",
    "    r'\\b\\d{4}\\.\\d{2}\\.\\d{2}\\b',          # Matches YYYY.MM.DD (e.g., 2024.09.20)\n",
    "    r'\\b\\d{2}\\.\\d{2}\\.\\d{4}\\b',          # Matches DD.MM.YYYY (e.g., 20.09.2024)\n",
    "    r'\\b\\d{4}\\s+[A-Za-z]{3}\\s+\\d{1,2}\\b',# Matches 2024 Sep 20\n",
    "    r'\\b\\d{4}\\s+[A-Za-z]+\\s+\\d{1,2}\\b',  # Matches 2024 September 20\n",
    "    r'\\b\\d{1,2}\\s+[A-Za-z]+,\\s+\\d{4}\\b', # Matches 20 September, 2024 (comma after day)\n",
    "    r'\\b[A-Za-z]+\\s+\\d{1,2}\\s+\\d{4}\\b'   # Matches September 20 2024 (no comma)\n",
    "]\n",
    "\n",
    "\n",
    "def find_all_dates_with_regex(text):\n",
    "    \"\"\"Search for all date matches using regex patterns.\"\"\"\n",
    "    dates = []\n",
    "    for pattern in date_patterns:\n",
    "        matches = re.findall(pattern, text)  # Find all matches for the pattern\n",
    "        dates.extend(matches)\n",
    "    return dates\n",
    "\n",
    "def parse_date(date_str):\n",
    "    \"\"\"Convert a date string to a datetime object, trying different formats.\"\"\"\n",
    "    date_formats = [\n",
    "        '%Y-%m-%d',        # Format: 2024-09-20\n",
    "        '%Y/%m/%d',        # Format: 2024/09/20\n",
    "        '%m-%d-%Y',        # Format: 09-20-2024\n",
    "        '%m/%d/%Y',        # Format: 09/20/2024\n",
    "        '%d-%m-%Y',        # Format: 20-09-2024\n",
    "        '%d/%m/%Y',        # Format: 20/09/2024\n",
    "        '%d %B %Y',        # Format: 20 September 2024\n",
    "        '%B %d, %Y',       # Format: September 20, 2024\n",
    "        '%d %b %Y',        # Format: 20 Sep 2024 (short month)\n",
    "        '%b %d, %Y',       # Format: Sep 20, 2024 (short month)\n",
    "        '%d-%b-%Y',        # Format: 20-Sep-2024 (short month)\n",
    "        '%b-%d-%Y',        # Format: Sep-20-2024 (short month)\n",
    "        '%A, %d %B %Y',    # Format: Friday, 20 September 2024 (with weekday)\n",
    "        '%A, %B %d, %Y',   # Format: Friday, September 20, 2024 (with weekday)\n",
    "        '%Y.%m.%d',        # Format: 2024.09.20\n",
    "        '%d.%m.%Y',        # Format: 20.09.2024 (European format)\n",
    "        '%Y %b %d',        # Format: 2024 Sep 20 (short month)\n",
    "        '%Y %B %d',        # Format: 2024 September 20\n",
    "        '%d %B, %Y',       # Format: 20 September, 2024 (comma after day)\n",
    "        '%B %d %Y'         # Format: September 20 2024 (no comma)\n",
    "    ]\n",
    "    \n",
    "    for date_format in date_formats:\n",
    "        try:\n",
    "            return datetime.strptime(date_str, date_format)\n",
    "        except ValueError:\n",
    "            pass\n",
    "    return None\n",
    "\n",
    "def get_latest_date(dates):\n",
    "    \"\"\"Return the latest valid date from a list of date strings.\"\"\"\n",
    "    parsed_dates = [parse_date(date) for date in dates]\n",
    "    # Filter out any dates that couldn't be parsed and return the latest one\n",
    "    valid_dates = [d for d in parsed_dates if d is not None]\n",
    "    return max(valid_dates).strftime('%Y-%m-%d') if valid_dates else \"None\"\n",
    "\n",
    "def extract_date(my_soup: BeautifulSoup) -> str:\n",
    "    # Extract all text content to search for a date pattern\n",
    "    text_content = my_soup.get_text(separator=' ', strip=True)\n",
    "\n",
    "    # Use regex to find all dates in the page's text content\n",
    "    dates = find_all_dates_with_regex(text_content)\n",
    "\n",
    "    # Get the latest date found\n",
    "    latest_date = get_latest_date(dates)\n",
    "    return latest_date"
   ],
   "metadata": {
    "collapsed": false,
    "ExecuteTime": {
     "end_time": "2024-09-25T08:14:12.869457Z",
     "start_time": "2024-09-25T08:14:12.794433Z"
    }
   },
   "id": "51c110ba3f6ac5e9",
   "outputs": [],
   "execution_count": 4
  },
  {
   "cell_type": "markdown",
   "source": [
    "Prepare function to extract content and metadata from a URL"
   ],
   "metadata": {
    "collapsed": false
   },
   "id": "abee5c0a5f584b32"
  },
  {
   "cell_type": "code",
   "id": "8005a467",
   "metadata": {
    "id": "8005a467",
    "ExecuteTime": {
     "end_time": "2024-09-25T08:14:12.885900Z",
     "start_time": "2024-09-25T08:14:12.883035Z"
    }
   },
   "source": [
    "from requests.adapters import HTTPAdapter\n",
    "from urllib3.util.retry import Retry\n",
    "\n",
    "def requests_retry_session(\n",
    "    retries=3,\n",
    "    backoff_factor=0.3,\n",
    "    status_forcelist=(500, 502, 504),\n",
    "    session=None,\n",
    "):\n",
    "    session = session or requests.Session()\n",
    "    retry = Retry(\n",
    "        total=retries,\n",
    "        read=retries,\n",
    "        connect=retries,\n",
    "        backoff_factor=backoff_factor,\n",
    "        status_forcelist=status_forcelist,\n",
    "    )\n",
    "    adapter = HTTPAdapter(max_retries=retry)\n",
    "    session.mount('http://', adapter)\n",
    "    session.mount('https://', adapter)\n",
    "    return session\n",
    "\n",
    "\n",
    "def extract_content_and_metadata(url: str) -> list[dict] | None:\n",
    "    try:\n",
    "        # Use retry session for robust requests\n",
    "        session = requests_retry_session()\n",
    "        response = session.get(url, timeout=10)\n",
    "\n",
    "        # Check if request was successful\n",
    "        response.raise_for_status()\n",
    "\n",
    "        soup = BeautifulSoup(response.content, 'html.parser')\n",
    "        title = soup.title.string if soup.title else \"None\"\n",
    "        date = extract_date(soup)\n",
    "        \n",
    "        content_by_headline = {}\n",
    "        current_header = None\n",
    "\n",
    "        # Loop through the elements, keeping track of headlines and paragraphs\n",
    "        for element in soup.find_all(['h1', 'h2', 'h3', 'h4', 'h5', 'h6', 'p', 'ul', 'ol']):\n",
    "            if element.name.startswith('h'):\n",
    "                # Headline\n",
    "                current_header = element.get_text(strip=True)\n",
    "                current_header = current_header.replace(\"\\n\", \"\")\n",
    "                current_header = re.sub(r\"\\s+\", \" \", current_header)\n",
    "\n",
    "            elif element.name in ['p', 'ul', 'ol'] and current_header:\n",
    "                # Append the text under the last seen headline\n",
    "                value = content_by_headline[current_header] if current_header in content_by_headline else \"\"\n",
    "                content_by_headline[current_header] = f\"{value} {element.get_text(strip=True).replace('\\n', ' ')}\"\n",
    "    \n",
    "        result_dicts = []\n",
    "        for headline, content in content_by_headline.items():\n",
    "            result_dicts.append({\"content\": content, \"metadata\": {\"url\": url, \"title\": title, \"headline\": headline, \"date\": date}})\n",
    "            \n",
    "        return result_dicts\n",
    "\n",
    "    except requests.exceptions.RequestException as e:\n",
    "        print(f\"Error fetching {url}: {e}\")\n",
    "        return None\n"
   ],
   "outputs": [],
   "execution_count": 5
  },
  {
   "cell_type": "code",
   "source": [
    "all_documents = []\n",
    "for u in scraped_urls:\n",
    "    all_documents += extract_content_and_metadata(u)\n",
    "print(len(all_documents))"
   ],
   "metadata": {
    "collapsed": false,
    "ExecuteTime": {
     "end_time": "2024-09-25T08:15:01.944169Z",
     "start_time": "2024-09-25T08:14:12.937942Z"
    }
   },
   "id": "d325cb8712e2670f",
   "outputs": [
    {
     "name": "stdout",
     "output_type": "stream",
     "text": [
      "6670\n"
     ]
    }
   ],
   "execution_count": 6
  },
  {
   "cell_type": "markdown",
   "source": [
    "To delete all records u need to `pip install \"pinecone[grpc]\"` and run the following code."
   ],
   "metadata": {
    "collapsed": false
   },
   "id": "17ee68b0c460d0d6"
  },
  {
   "cell_type": "code",
   "source": [
    "from dotenv import load_dotenv\n",
    "from pinecone.grpc import PineconeGRPC as Pinecone\n",
    "import os\n",
    "\n",
    "load_dotenv()\n",
    "\n",
    "# Uncomment to delete all db records\n",
    "# Pinecone(api_key=os.getenv(\"PINECONE_API_KEY\")).Index(\"default\").delete(delete_all=True, namespace='default')"
   ],
   "metadata": {
    "collapsed": false,
    "ExecuteTime": {
     "end_time": "2024-09-25T07:46:03.763238Z",
     "start_time": "2024-09-25T07:46:03.698299Z"
    }
   },
   "id": "eaa67c386a4cf554",
   "outputs": [
    {
     "data": {
      "text/plain": [
       "True"
      ]
     },
     "execution_count": 9,
     "metadata": {},
     "output_type": "execute_result"
    }
   ],
   "execution_count": 9
  },
  {
   "cell_type": "markdown",
   "source": [
    "Initialize Pinecone Document Store"
   ],
   "metadata": {
    "collapsed": false
   },
   "id": "e757de5fa7764edb"
  },
  {
   "cell_type": "code",
   "id": "5142cfb8161abc1",
   "metadata": {
    "id": "5142cfb8161abc1",
    "ExecuteTime": {
     "end_time": "2024-09-25T08:15:03.410469Z",
     "start_time": "2024-09-25T08:15:01.990704Z"
    }
   },
   "source": [
    "from haystack.components.preprocessors import DocumentSplitter, DocumentCleaner\n",
    "from haystack.components.embedders import SentenceTransformersDocumentEmbedder\n",
    "from haystack.components.writers import DocumentWriter\n",
    "from haystack import Pipeline\n",
    "from haystack import Document\n",
    "from haystack_integrations.document_stores.pinecone import PineconeDocumentStore\n",
    "\n",
    "document_store = PineconeDocumentStore(\n",
    "    index=\"default\",\n",
    "    namespace=\"default\",\n",
    "    dimension=384,\n",
    "    metric=\"cosine\",\n",
    "    spec={\"serverless\": {\"region\": \"us-east-1\", \"cloud\": \"aws\"}}\n",
    ")\n",
    "\n",
    "ready_list = []\n",
    "for doc in all_documents:\n",
    "    ready_list.append(Document(content=doc[\"content\"], meta=doc[\"metadata\"]))"
   ],
   "outputs": [],
   "execution_count": 7
  },
  {
   "cell_type": "markdown",
   "source": [
    "Prepare pipeline components"
   ],
   "metadata": {
    "collapsed": false
   },
   "id": "c6d758d8f5128cf9"
  },
  {
   "cell_type": "code",
   "source": [
    "document_cleaner = DocumentCleaner()\n",
    "# For all-MiniLM-L6-v2 input text longer than 256 word pieces is truncated.\n",
    "document_splitter = DocumentSplitter(split_by=\"word\", split_length=256, split_overlap=20)\n",
    "document_embedder = SentenceTransformersDocumentEmbedder(model=\"sentence-transformers/all-MiniLM-L6-v2\")\n",
    "document_writer = DocumentWriter(document_store)"
   ],
   "metadata": {
    "collapsed": false,
    "ExecuteTime": {
     "end_time": "2024-09-25T08:36:30.805370Z",
     "start_time": "2024-09-25T08:36:30.799852Z"
    }
   },
   "id": "5cc22adbea6c1c7e",
   "outputs": [],
   "execution_count": 39
  },
  {
   "cell_type": "markdown",
   "id": "3bfe34af87648a2a",
   "metadata": {
    "collapsed": false,
    "id": "3bfe34af87648a2a"
   },
   "source": [
    "Create a pipeline to populate the Pinecone Document Store with test case documents"
   ]
  },
  {
   "cell_type": "code",
   "id": "f0df56147ec0fad8",
   "metadata": {
    "id": "f0df56147ec0fad8",
    "ExecuteTime": {
     "end_time": "2024-09-25T08:36:36.827601Z",
     "start_time": "2024-09-25T08:36:36.816505Z"
    }
   },
   "source": [
    "preprocessing_pipeline = Pipeline()\n",
    "\n",
    "preprocessing_pipeline.add_component(instance=document_cleaner, name=\"document_cleaner\")\n",
    "preprocessing_pipeline.add_component(instance=document_splitter, name=\"document_splitter\")\n",
    "preprocessing_pipeline.add_component(instance=document_embedder, name=\"document_embedder\")\n",
    "preprocessing_pipeline.add_component(instance=document_writer, name=\"document_writer\")\n",
    "\n",
    "preprocessing_pipeline.connect(\"document_cleaner\", \"document_splitter\")\n",
    "preprocessing_pipeline.connect(\"document_splitter\", \"document_embedder\")\n",
    "preprocessing_pipeline.connect(\"document_embedder\", \"document_writer\")"
   ],
   "outputs": [
    {
     "data": {
      "text/plain": [
       "<haystack.core.pipeline.pipeline.Pipeline object at 0x7fe7cf225af0>\n",
       "🚅 Components\n",
       "  - document_cleaner: DocumentCleaner\n",
       "  - document_splitter: DocumentSplitter\n",
       "  - document_embedder: SentenceTransformersDocumentEmbedder\n",
       "  - document_writer: DocumentWriter\n",
       "🛤️ Connections\n",
       "  - document_cleaner.documents -> document_splitter.documents (List[Document])\n",
       "  - document_splitter.documents -> document_embedder.documents (List[Document])\n",
       "  - document_embedder.documents -> document_writer.documents (List[Document])"
      ]
     },
     "execution_count": 40,
     "metadata": {},
     "output_type": "execute_result"
    }
   ],
   "execution_count": 40
  },
  {
   "cell_type": "markdown",
   "id": "c8fddbeb5665f26",
   "metadata": {
    "collapsed": false,
    "id": "c8fddbeb5665f26"
   },
   "source": [
    "Run the pipeline"
   ]
  },
  {
   "cell_type": "code",
   "id": "7a1c47cb85342d86",
   "metadata": {
    "id": "7a1c47cb85342d86"
   },
   "source": [
    "preprocessing_pipeline.run(data = {\"document_joiner\": { \"documents\" : ready_list }})\n",
    "# preprocessing_pipeline.inputs()\n",
    "preprocessing_pipeline.show()"
   ],
   "outputs": [],
   "execution_count": null
  },
  {
   "cell_type": "markdown",
   "id": "9eae0c4f1384253e",
   "metadata": {
    "collapsed": false,
    "id": "9eae0c4f1384253e"
   },
   "source": [
    "## Test RAG with Pinecone Document Store"
   ]
  },
  {
   "cell_type": "markdown",
   "id": "75a635b2d20f0142",
   "metadata": {
    "collapsed": false,
    "id": "75a635b2d20f0142"
   },
   "source": [
    "Restart the kernel and run the following code to test the RAG pipeline with the populated Pinecone Document Store."
   ]
  },
  {
   "cell_type": "markdown",
   "id": "58ebaae516e5343c",
   "metadata": {
    "collapsed": false,
    "id": "58ebaae516e5343c"
   },
   "source": "Create pipeline to run a query"
  },
  {
   "cell_type": "code",
   "id": "1b38c8ef5aacfe0",
   "metadata": {
    "id": "1b38c8ef5aacfe0",
    "ExecuteTime": {
     "end_time": "2024-09-25T11:54:56.859777Z",
     "start_time": "2024-09-25T11:54:56.825330Z"
    }
   },
   "source": [
    "from haystack.components.embedders import SentenceTransformersTextEmbedder\n",
    "from haystack_integrations.components.retrievers.pinecone import PineconeEmbeddingRetriever\n",
    "from haystack.components.generators import OpenAIGenerator\n",
    "from haystack.components.builders.answer_builder import AnswerBuilder\n",
    "from haystack.components.builders.prompt_builder import PromptBuilder\n",
    "from haystack import Pipeline\n",
    "from haystack_integrations.document_stores.pinecone import PineconeDocumentStore\n",
    "from dotenv import load_dotenv\n",
    "\n",
    "template = \"\"\"You are a knowledgeable assistant responsible for creating comprehensive documentation based on the following list of documents that refer to the user’s question. The content of these documents may contradict each other, so please prioritize the information from the documents with the most recent dates. If there are contradicting documents with dates labeled as 'None', provide all alternatives and explicitly indicate which parts contradict one another. However, if a document with date labeled as 'None' does not conflict with others, it should be included without special mention.\n",
    "\n",
    "Instructions:\n",
    "1. Analyze the Documents:\n",
    "   - Review each document, noting any conflicting information.\n",
    "   - Prioritize information from the most recent documents.\n",
    "2. Handling Documents with 'None' Date:\n",
    "   - If a document has a date marked as 'None':\n",
    "     - Include all relevant alternatives and clearly indicate contradictions.\n",
    "     - If it does not conflict with other documents, include it without special mention.\n",
    "\n",
    "Output Format:\n",
    "Your output should be structured using Markdown and include the following sections:\n",
    "1. Summary:\n",
    "   - Provide a brief overview of the key findings from all documents.\n",
    "2. Detailed Analysis:\n",
    "   - Present detailed descriptions of key points, prioritizing the latest information.\n",
    "   - Preserve and format any code snippets from the documents appropriately.\n",
    "3. Contradictions:\n",
    "   - For documents dated 'None', list all relevant alternatives and explicitly highlight any contradictions.\n",
    "\n",
    "General Guidelines:\n",
    "- Ensure thoroughness by including all relevant information, aiming for completeness rather than brevity.\n",
    "- Use headings, lists, and code blocks to enhance readability and organization.\n",
    "\n",
    "User Question: {{question}}\n",
    "Documents to Analyze:\n",
    "{% for doc in documents %}\n",
    "Date: {{doc.meta['date']}}\n",
    "Title: {{doc.meta['title']}} - {{doc.meta['headline']}}\n",
    "Content: {{doc.content}}\n",
    "{% endfor %}\"\"\"\n",
    "\n",
    "load_dotenv()\n",
    "\n",
    "document_store = PineconeDocumentStore(\n",
    "    index=\"default\",\n",
    "    namespace=\"default\",\n",
    "    dimension=384,\n",
    "    metric=\"cosine\",\n",
    "    spec={\"serverless\": {\"region\": \"us-east-1\", \"cloud\": \"aws\"}}\n",
    ")\n",
    "\n",
    "text_embedder = SentenceTransformersTextEmbedder(model=\"sentence-transformers/all-MiniLM-L6-v2\")\n",
    "retriever = PineconeEmbeddingRetriever(document_store=document_store, top_k=20)\n",
    "prompt_builder = PromptBuilder(template=template)\n",
    "generator = OpenAIGenerator(model=\"gpt-4o\")\n",
    "answer_builder = AnswerBuilder()\n",
    "\n",
    "rag_pipeline = Pipeline()\n",
    "rag_pipeline.add_component(\"text_embedder\", text_embedder)\n",
    "rag_pipeline.add_component(\"retriever\", retriever)\n",
    "rag_pipeline.add_component(\"prompt_builder\", prompt_builder)\n",
    "rag_pipeline.add_component(\"generator\", generator)\n",
    "rag_pipeline.add_component(\"answer_builder\", answer_builder)\n",
    "\n",
    "rag_pipeline.connect(\"text_embedder.embedding\", \"retriever.query_embedding\")\n",
    "rag_pipeline.connect(\"retriever\", \"prompt_builder.documents\")\n",
    "rag_pipeline.connect(\"retriever\", \"answer_builder.documents\")\n",
    "rag_pipeline.connect(\"prompt_builder\", \"generator\")\n",
    "rag_pipeline.connect(\"generator.replies\", \"answer_builder.replies\")"
   ],
   "outputs": [
    {
     "data": {
      "text/plain": [
       "<haystack.core.pipeline.pipeline.Pipeline object at 0x7f79fc1641a0>\n",
       "🚅 Components\n",
       "  - text_embedder: SentenceTransformersTextEmbedder\n",
       "  - retriever: PineconeEmbeddingRetriever\n",
       "  - prompt_builder: PromptBuilder\n",
       "  - generator: OpenAIGenerator\n",
       "  - answer_builder: AnswerBuilder\n",
       "🛤️ Connections\n",
       "  - text_embedder.embedding -> retriever.query_embedding (List[float])\n",
       "  - retriever.documents -> prompt_builder.documents (List[Document])\n",
       "  - retriever.documents -> answer_builder.documents (List[Document])\n",
       "  - prompt_builder.prompt -> generator.prompt (str)\n",
       "  - generator.replies -> answer_builder.replies (List[str])"
      ]
     },
     "execution_count": 5,
     "metadata": {},
     "output_type": "execute_result"
    }
   ],
   "execution_count": 5
  },
  {
   "metadata": {
    "collapsed": false,
    "id": "f7c6c62a9fa033a1"
   },
   "cell_type": "markdown",
   "source": "Run the pipeline with a query",
   "id": "f7c6c62a9fa033a1"
  },
  {
   "cell_type": "code",
   "id": "d066fdea1ddd46d3",
   "metadata": {
    "id": "d066fdea1ddd46d3",
    "ExecuteTime": {
     "end_time": "2024-09-25T11:55:11.921503Z",
     "start_time": "2024-09-25T11:55:00.267082Z"
    }
   },
   "source": [
    "query = \"Generate full documentation of stern/ Backoffice tool (basic Swagger based interface)\"\n",
    "result = rag_pipeline.run({\n",
    "    \"text_embedder\": {\"text\": query},\n",
    "    \"prompt_builder\": {\"question\": query},\n",
    "    \"answer_builder\": {\"query\": query}\n",
    "})\n",
    "\n",
    "print(result['answer_builder']['answers'][0].query)\n",
    "print(result['answer_builder']['answers'][0].data)\n",
    "print(result['answer_builder']['answers'][0].documents)\n",
    "\n",
    "with open(\"./Data/Outputs/output.md\", \"w\") as f:\n",
    "    f.write(result['answer_builder']['answers'][0].data)"
   ],
   "outputs": [
    {
     "data": {
      "text/plain": [
       "Batches:   0%|          | 0/1 [00:00<?, ?it/s]"
      ],
      "application/vnd.jupyter.widget-view+json": {
       "version_major": 2,
       "version_minor": 0,
       "model_id": "b6a923c2bc754bab8ef31bbb6c4c1352"
      }
     },
     "metadata": {},
     "output_type": "display_data"
    },
    {
     "name": "stdout",
     "output_type": "stream",
     "text": [
      "Generate full documentation of stern/ Backoffice tool (basic Swagger based interface)\n",
      "# Stern/Backoffice Tool Documentation\n",
      "\n",
      "## Summary\n",
      "This documentation provides an overview of the processes and tools used within the stern/Backoffice tool for generating Swagger-based API documentation. The latest methods, libraries, and integration points are highlighted, with a special focus on the implementation of `servant-swagger-ui` for local Swagger documentation, feature flags, and various SCIM-related documentations.\n",
      "\n",
      "## Detailed Analysis\n",
      "\n",
      "### Latest Information from 2024-07-09 Documents\n",
      "\n",
      "- **Integration of `servant-swagger-ui`**:\n",
      "    - The `servant-swagger-ui` has been integrated with the `brig` service to facilitate easier interaction with API documentation.\n",
      "    - This enables local viewing of Swagger documentation, ensuring users can explore, make requests, and generate client code from the API documentation interactively.\n",
      "\n",
      "- **SCIM Documentation**:\n",
      "    - Features related to SCIM, such as the `validateSAMLemails` feature, are thoroughly documented in `docs/reference/spar-braindump.md`.\n",
      "\n",
      "- **Feature Flags**:\n",
      "    - Documentation includes notes on specific feature flags, such as `setEmailVisibility`, detailing their usage and implications within the API.\n",
      "\n",
      "- **Swagger Documentation Instructions**:\n",
      "    - Detailed instructions on accessing and viewing Swagger documentation locally are provided (referenced as #1388).\n",
      "\n",
      "- **Cassandra Schema**:\n",
      "    - Updated `cassandra-schema.cql` files are included, indicating changes and improvements in the database schema.\n",
      "\n",
      "- **Unused Registration Flow**:\n",
      "    - Notes are added concerning unused registration flows, which may affect how developers interact with and test the APIs.\n",
      "\n",
      "### Semi-Automatic Swagger Documentation with Servant (Date: None)\n",
      "- The system utilizes the `servant-swagger2` library to semi-automatically generate Swagger documentation.\n",
      "- The use of the `schema-profunctor` library aids in creating \"schemas\" for the input and output types used in the Servant APIs, which encapsulate the information needed for JSON serialization/deserialization, alongside documentation and metadata for Swagger generation.\n",
      "\n",
      "### 2023-01-16 Information\n",
      "- Swagger/OpenAPI documentation in the staging system is accurate and complete up to bots/services and event notification payloads.\n",
      "- This documentation facilitates three primary uses:\n",
      "    1. As a reference.\n",
      "    2. For generating client code.\n",
      "    3. For interactively exploring the API by making requests.\n",
      "\n",
      "### Code Snippets and Examples\n",
      "Here is an example of how `servant-swagger-ui` can be integrated:\n",
      "\n",
      "```haskell\n",
      "import Servant\n",
      "import Servant.Swagger.UI\n",
      "\n",
      "type API = ...\n",
      "\n",
      "server :: Server API\n",
      "server = ...\n",
      "\n",
      "main :: IO ()\n",
      "main = run 8080 $ serve (Proxy :: Proxy API) server\n",
      "```\n",
      "\n",
      "To view Swagger documentation locally, you might follow these steps:\n",
      "1. Ensure the `servant-swagger-ui` is properly installed and configured.\n",
      "2. Run the server and open the provided local URL in your browser.\n",
      "\n",
      "## Contradictions\n",
      "\n",
      "**Documents Dated 'None' vs. Other Dated Documents**\n",
      "\n",
      "- **Semi-Automatic Generation vs. Updates in 2024-07-09**:\n",
      "    - The \"None\" dated document discusses semi-automatic Swagger documentation generation using `servant-swagger2`.\n",
      "    - The latest documents from 2024-07-09 detail the specific integration of `servant-swagger-ui` into the `brig` service, emphasizing how Swagger documentation can be accessed locally.\n",
      "\n",
      "These points complement rather than contradict they highlight the toolsets (one for generation and the other for visualization and interaction).\n",
      "\n",
      "**Documents Dated 'None' vs. 2023-01-16**:\n",
      "- **Completeness of Documentation**:\n",
      "    - The \"None\" dated document does not give specifics on the completeness of the Swagger documentation.\n",
      "    - The 2023-01-16 document assures the completeness up to bots/services and event notification payloads.\n",
      "\n",
      "By including both these perspectives, users get a detailed understanding of the documentation's completeness and the evolution of tools used.\n",
      "[Document(id=f80e421cd1b0da0ea86b373722efcdff791d55cf9d69406353a243d91eeb2c96, content: 'We currently use Servant for the public (i.e. client-facing) API in brig, galley and spar, as well a...', meta: {'_split_overlap': [], 'date': 'None', 'headline': 'Servant\\uf0c1', 'page_number': 1, 'source_id': '706c0d1335737e7c525676f7716c37eb14e87c557510c6aa4fbfa6dcc95da627', 'split_id': 0, 'split_idx_start': 0, 'title': 'Servant — Wire 0.0.4 documentation', 'url': 'https://docs.wire.com/developer/developer/servant.html'}, score: 0.622095048, embedding: vector of size 384), Document(id=6de346e40c8244ffd44c3159986b8bda18e2d550f40ecae3bbd295d14e5ebe60, content: 'Our staging system providesSwagger / OpenAPIdocumentation of our HTTP REST API. The swagger docs are...', meta: {'_split_overlap': [], 'date': '2023-01-16', 'headline': 'Swagger API documentation\\uf0c1', 'page_number': 1, 'source_id': 'f28e0f2c823073a6db4f0af912b2a86d1fa77a1c424e001065fe8a82a83f0786', 'split_id': 0, 'split_idx_start': 0, 'title': 'Swagger API documentation — Wire 0.0.4 documentation', 'url': 'https://docs.wire.com/understand/api-client-perspective/swagger.html'}, score: 0.58074677, embedding: vector of size 384), Document(id=2349f4bf633ceb6ebbef34dd12fd830ba6a5e7c09d0d32d60bc072acdea86cf1, content: 'docs around. (#1399) Describe how to look at swagger locally (#1388) [SCIM] DocumentvalidateSAMLemai...', meta: {'date': '2024-07-09', 'headline': 'Documentation\\uf0c1', 'page_number': 1, 'source_id': 'db68befc05c1ad06058b1b3a19d81bca9cf59d4f7f17dac1a3971037eb549d7a', 'split_id': 10, 'split_idx_start': 13471, 'title': '[2024-07-09] (Chart Release 5.5.0) — Wire 0.0.4 documentation', 'url': 'https://docs.wire.com/changelog/changelog.html#id377'}, score: 0.567877769, embedding: vector of size 384), Document(id=8fcf350901c7bda957e39eb1051b67aecf7d63680e90196304c959508921a874, content: 'docs around. (#1399) Describe how to look at swagger locally (#1388) [SCIM] DocumentvalidateSAMLemai...', meta: {'date': '2024-07-09', 'headline': 'Documentation\\uf0c1', 'page_number': 1, 'source_id': 'ef548c9a99e99d833a1f3a319d4aa024cede46f0cc4baf9d931f941a76a9af04', 'split_id': 10, 'split_idx_start': 13471, 'title': '[2024-07-09] (Chart Release 5.5.0) — Wire 0.0.4 documentation', 'url': 'https://docs.wire.com/changelog/changelog.html#chart-release-4-30-0'}, score: 0.567877769, embedding: vector of size 384), Document(id=e7045d4e61e78f146d7b525ed7b79029625a649338fe8bd9be3824f63ae63352, content: 'docs around. (#1399) Describe how to look at swagger locally (#1388) [SCIM] DocumentvalidateSAMLemai...', meta: {'date': '2024-07-09', 'headline': 'Documentation\\uf0c1', 'page_number': 1, 'source_id': '1b5aeaac7453951254cddbeeaafd858d52134dc5bce535c23a5fa0b73eec3883', 'split_id': 10, 'split_idx_start': 13471, 'title': '[2024-07-09] (Chart Release 5.5.0) — Wire 0.0.4 documentation', 'url': 'https://docs.wire.com/changelog/changelog.html#id310'}, score: 0.567877769, embedding: vector of size 384), Document(id=9c566005e92f0f62c1f7c4b0dd03fcf0a17e6c8f6607b7d7680c4e7509fe66bf, content: 'docs around. (#1399) Describe how to look at swagger locally (#1388) [SCIM] DocumentvalidateSAMLemai...', meta: {'date': '2024-07-09', 'headline': 'Documentation\\uf0c1', 'page_number': 1, 'source_id': 'd8d5e887d8ea7ab1016dd260b11a1922e9d8f290d18dcdb3cf21db8b8577e361', 'split_id': 10, 'split_idx_start': 13471, 'title': '[2024-07-09] (Chart Release 5.5.0) — Wire 0.0.4 documentation', 'url': 'https://docs.wire.com/changelog/changelog.html#id430'}, score: 0.567877769, embedding: vector of size 384), Document(id=00332c8b3a057a93f444a4525d1d17a7da4836db3055c98b7ba3ee5cfd8fa421, content: 'docs around. (#1399) Describe how to look at swagger locally (#1388) [SCIM] DocumentvalidateSAMLemai...', meta: {'date': '2024-07-09', 'headline': 'Documentation\\uf0c1', 'page_number': 1, 'source_id': 'de70dab2361b3f4e2205e365a71d30a3667b0f4cac3c1812aafcb07c0a7a8a6f', 'split_id': 10, 'split_idx_start': 13471, 'title': '[2024-07-09] (Chart Release 5.5.0) — Wire 0.0.4 documentation', 'url': 'https://docs.wire.com/changelog/changelog.html#chart-release-4-11-0'}, score: 0.567877769, embedding: vector of size 384), Document(id=afc5796df73b799d41e62f348d2835a2e62584519f4ce8c9371c4bcfeb2da166, content: 'docs around. (#1399) Describe how to look at swagger locally (#1388) [SCIM] DocumentvalidateSAMLemai...', meta: {'date': '2024-07-09', 'headline': 'Documentation\\uf0c1', 'page_number': 1, 'source_id': 'c315c43b3e24c34d3c6e530e30c27ca6f53fdfe44509e591ca46b159c72731e5', 'split_id': 10, 'split_idx_start': 13471, 'title': '[2024-07-09] (Chart Release 5.5.0) — Wire 0.0.4 documentation', 'url': 'https://docs.wire.com/changelog/changelog.html#chart-release-4-21-0'}, score: 0.567877769, embedding: vector of size 384), Document(id=e8139e6bcfc812595213d57fccf014923aa86b9ca1ccb59128c4cee3a9df099c, content: 'docs around. (#1399) Describe how to look at swagger locally (#1388) [SCIM] DocumentvalidateSAMLemai...', meta: {'date': '2024-07-09', 'headline': 'Documentation\\uf0c1', 'page_number': 1, 'source_id': 'a7a9a09bed5d4604837a86cfb7ba05f7abbdd43934c6d7b2dc87763c80a2332f', 'split_id': 10, 'split_idx_start': 13471, 'title': '[2024-07-09] (Chart Release 5.5.0) — Wire 0.0.4 documentation', 'url': 'https://docs.wire.com/changelog/changelog.html#id413'}, score: 0.567877769, embedding: vector of size 384), Document(id=776a92fc0ab61593934033023cb28f0586058351f1c2edd7573426ccd2ae836a, content: 'docs around. (#1399) Describe how to look at swagger locally (#1388) [SCIM] DocumentvalidateSAMLemai...', meta: {'date': '2024-07-09', 'headline': 'Documentation\\uf0c1', 'page_number': 1, 'source_id': '1a0f17694ab06e6bdd68500a61211f9709b07287316af0b30e752bd5464c9533', 'split_id': 10, 'split_idx_start': 13471, 'title': '[2024-07-09] (Chart Release 5.5.0) — Wire 0.0.4 documentation', 'url': 'https://docs.wire.com/changelog/changelog.html#id365'}, score: 0.567877769, embedding: vector of size 384), Document(id=a00eb15142e3e25931150c8010646ee1577f4ca4565ce413cc564b73df83b9ce, content: 'docs around. (#1399) Describe how to look at swagger locally (#1388) [SCIM] DocumentvalidateSAMLemai...', meta: {'date': '2024-07-09', 'headline': 'Documentation\\uf0c1', 'page_number': 1, 'source_id': '8d84156275bdbd31a807818e7c10c7f4ed8370e02d19a0956f37299317363ab5', 'split_id': 10, 'split_idx_start': 13471, 'title': '[2024-07-09] (Chart Release 5.5.0) — Wire 0.0.4 documentation', 'url': 'https://docs.wire.com/changelog/changelog.html#id339'}, score: 0.567877769, embedding: vector of size 384), Document(id=006ca1c5103acc1bef87a7ba50adc6ed2b7858c0d75b4d73d1a265d6bc57deac, content: 'docs around. (#1399) Describe how to look at swagger locally (#1388) [SCIM] DocumentvalidateSAMLemai...', meta: {'date': '2024-07-09', 'headline': 'Documentation\\uf0c1', 'page_number': 1, 'source_id': 'd9da648cad361d2e27085da512ef391858e985ac3ed40973fb2a9ea2bb03369c', 'split_id': 10, 'split_idx_start': 13471, 'title': '[2024-07-09] (Chart Release 5.5.0) — Wire 0.0.4 documentation', 'url': 'https://docs.wire.com/changelog/changelog.html#chart-release-4-2-0'}, score: 0.567877769, embedding: vector of size 384), Document(id=938653c6f4af60f0dd5aeba026fe1e1b4d1462f46c777847e610a4458813d371, content: 'docs around. (#1399) Describe how to look at swagger locally (#1388) [SCIM] DocumentvalidateSAMLemai...', meta: {'date': '2024-07-09', 'headline': 'Documentation\\uf0c1', 'page_number': 1, 'source_id': 'ed82651ea9ccd73e1ac8076f61a5285709242ebc05e4da6feddf5ae3dfa2e292', 'split_id': 10, 'split_idx_start': 13471, 'title': '[2024-07-09] (Chart Release 5.5.0) — Wire 0.0.4 documentation', 'url': 'https://docs.wire.com/changelog/changelog.html#id334'}, score: 0.567877769, embedding: vector of size 384), Document(id=90b4696994d0548da19449024d994699797df3b5d203a6de35d17c920928a221, content: 'docs around. (#1399) Describe how to look at swagger locally (#1388) [SCIM] DocumentvalidateSAMLemai...', meta: {'date': '2024-07-09', 'headline': 'Documentation\\uf0c1', 'page_number': 1, 'source_id': 'bdeec0249cfe45400246a10af17646cd98a293199eec5cf6cd7aeec23ee608c4', 'split_id': 10, 'split_idx_start': 13471, 'title': '[2024-07-09] (Chart Release 5.5.0) — Wire 0.0.4 documentation', 'url': 'https://docs.wire.com/changelog/changelog.html#chart-release-2-101-0'}, score: 0.567877769, embedding: vector of size 384), Document(id=5924cdd2ec109cc9c25e1e50177df945e47628bdd149cb3e78c8cf47279ca32f, content: 'docs around. (#1399) Describe how to look at swagger locally (#1388) [SCIM] DocumentvalidateSAMLemai...', meta: {'date': '2024-07-09', 'headline': 'Documentation\\uf0c1', 'page_number': 1, 'source_id': '6dfba13c7582839c7a200e05c303e9976edc2425941733b78f59654d1d9ab4df', 'split_id': 10, 'split_idx_start': 13471, 'title': '[2024-07-09] (Chart Release 5.5.0) — Wire 0.0.4 documentation', 'url': 'https://docs.wire.com/changelog/changelog.html#id273'}, score: 0.567877769, embedding: vector of size 384), Document(id=cdc7f41db71f0f66220afb5ae92f5b9d61c8458fdf5f1738eb35a289ef240485, content: 'docs around. (#1399) Describe how to look at swagger locally (#1388) [SCIM] DocumentvalidateSAMLemai...', meta: {'date': '2024-07-09', 'headline': 'Documentation\\uf0c1', 'page_number': 1, 'source_id': '29fac7e6440bbe02f6d97e4dfd4342fc8a4694b63da3a364fd0e26557fd2c17a', 'split_id': 10, 'split_idx_start': 13471, 'title': '[2024-07-09] (Chart Release 5.5.0) — Wire 0.0.4 documentation', 'url': 'https://docs.wire.com/changelog/changelog.html#chart-release-4-42-0'}, score: 0.567877769, embedding: vector of size 384), Document(id=ed44d1b05458875ea78e6a565554f56ec0df0c3bb7e02c2f7aced8fd2fd65388, content: 'docs around. (#1399) Describe how to look at swagger locally (#1388) [SCIM] DocumentvalidateSAMLemai...', meta: {'date': '2024-07-09', 'headline': 'Documentation\\uf0c1', 'page_number': 1, 'source_id': 'd1f1655d22b3efed27c6d2c69ba0d8033feda436c74c70bff394ff56b52c9334', 'split_id': 10, 'split_idx_start': 13471, 'title': '[2024-07-09] (Chart Release 5.5.0) — Wire 0.0.4 documentation', 'url': 'https://docs.wire.com/changelog/changelog.html#chart-release-2-108-0'}, score: 0.567877769, embedding: vector of size 384), Document(id=a3312b4845dac1a56ac4c2ee9184c12b9419a32ceb81183b678e368e974bb0c0, content: 'docs around. (#1399) Describe how to look at swagger locally (#1388) [SCIM] DocumentvalidateSAMLemai...', meta: {'date': '2024-07-09', 'headline': 'Documentation\\uf0c1', 'page_number': 1, 'source_id': '94a22635f25ad50c486a808d72977764765a1232a613b22f33a0201c256bd55d', 'split_id': 10, 'split_idx_start': 13471, 'title': '[2024-07-09] (Chart Release 5.5.0) — Wire 0.0.4 documentation', 'url': 'https://docs.wire.com/changelog/changelog.html#id468'}, score: 0.567877769, embedding: vector of size 384), Document(id=a050e53febbad07c9f9c2bc9d4add7cf752eecf8e609bc20894f5485d8e6f683, content: 'docs around. (#1399) Describe how to look at swagger locally (#1388) [SCIM] DocumentvalidateSAMLemai...', meta: {'date': '2024-07-09', 'headline': 'Documentation\\uf0c1', 'page_number': 1, 'source_id': 'fe18b863eaecbfc0184e415694af3ea966ad5c07cc1921df18c34bb5578ab4e2', 'split_id': 10, 'split_idx_start': 13471, 'title': '[2024-07-09] (Chart Release 5.5.0) — Wire 0.0.4 documentation', 'url': 'https://docs.wire.com/changelog/changelog.html#chart-release-2-110-0'}, score: 0.567877769, embedding: vector of size 384), Document(id=cf25875bea7e0ea343d96895246d15f7139f53f919ca1ae0c96b1d6013e17109, content: 'docs around. (#1399) Describe how to look at swagger locally (#1388) [SCIM] DocumentvalidateSAMLemai...', meta: {'date': '2024-07-09', 'headline': 'Documentation\\uf0c1', 'page_number': 1, 'source_id': '985cf7c05ee138667f8a749a7d7c84d7a5d5c53ad2a72d5281520efc00023b6f', 'split_id': 10, 'split_idx_start': 13471, 'title': '[2024-07-09] (Chart Release 5.5.0) — Wire 0.0.4 documentation', 'url': 'https://docs.wire.com/changelog/changelog.html#id319'}, score: 0.567877769, embedding: vector of size 384)]\n"
     ]
    }
   ],
   "execution_count": 6
  }
 ],
 "metadata": {
  "colab": {
   "provenance": [],
   "include_colab_link": true
  },
  "kernelspec": {
   "display_name": "Python 3.12.6 (haystack)",
   "language": "python",
   "name": "haystack"
  },
  "language_info": {
   "codemirror_mode": {
    "name": "ipython",
    "version": 2
   },
   "file_extension": ".py",
   "mimetype": "text/x-python",
   "name": "python",
   "nbconvert_exporter": "python",
   "pygments_lexer": "ipython2",
   "version": "2.7.6"
  }
 },
 "nbformat": 4,
 "nbformat_minor": 5
}
