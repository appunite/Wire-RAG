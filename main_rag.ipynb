{
 "cells": [
  {
   "cell_type": "markdown",
   "source": "# Wire RAG <a href=\"https://colab.research.google.com/github/appunite/Wire-RAG/blob/main/main_rag.ipynb\" target=\"_parent\"><img src=\"https://colab.research.google.com/assets/colab-badge.svg\" alt=\"Open In Colab\"/></a>",
   "metadata": {
    "id": "view-in-github",
    "colab_type": "text"
   },
   "id": "780d3dac3fa3a702"
  },
  {
   "cell_type": "markdown",
   "source": [
    "## Setup"
   ],
   "metadata": {
    "collapsed": false
   },
   "id": "7d3909fd99fe64ed"
  },
  {
   "cell_type": "markdown",
   "source": "Install dependencies for colab",
   "metadata": {
    "collapsed": false
   },
   "id": "b4ef237387298e05"
  },
  {
   "cell_type": "code",
   "execution_count": null,
   "id": "L5aAdbvCNIME",
   "metadata": {
    "id": "L5aAdbvCNIME"
   },
   "outputs": [],
   "source": [
    "!pip install haystack-ai pinecone-haystack sentence-transformers pinecone transformers\n",
    "!wget -P utils https://raw.githubusercontent.com/appunite/Wire-RAG/main/utils/url_scraper.py\n",
    "# !wget -P utils https://raw.githubusercontent.com/appunite/Wire-RAG/main/utils/github_scraper.py"
   ]
  },
  {
   "metadata": {},
   "cell_type": "markdown",
   "source": "Enter api keys",
   "id": "d2ec40ad9144d8d6"
  },
  {
   "cell_type": "code",
   "outputs": [],
   "source": [
    "import os\n",
    "import getpass\n",
    "os.environ[\"PINECONE_API_KEY\"] = getpass.getpass(\"pinecone api key\")\n",
    "os.environ[\"OPENAI_API_KEY\"] = getpass.getpass(\"open ai api key\")\n",
    "os.environ[\"GITHUB_API_TOKEN\"] = getpass.getpass(\"github api token (PAT)\")"
   ],
   "metadata": {
    "id": "hgvsByZlcsN7",
    "ExecuteTime": {
     "end_time": "2024-09-23T08:16:51.569319Z",
     "start_time": "2024-09-23T08:16:49.423772Z"
    }
   },
   "id": "hgvsByZlcsN7",
   "execution_count": 6
  },
  {
   "cell_type": "markdown",
   "source": [
    "Or load keys from .env file"
   ],
   "metadata": {
    "collapsed": false
   },
   "id": "e56187b91fd48f4c"
  },
  {
   "cell_type": "code",
   "source": [
    "from dotenv import load_dotenv\n",
    "import os\n",
    "load_dotenv()"
   ],
   "metadata": {
    "collapsed": false,
    "ExecuteTime": {
     "end_time": "2024-09-27T10:40:00.673117Z",
     "start_time": "2024-09-27T10:40:00.667572Z"
    }
   },
   "id": "c4ff7e3293da16da",
   "outputs": [
    {
     "data": {
      "text/plain": [
       "True"
      ]
     },
     "execution_count": 7,
     "metadata": {},
     "output_type": "execute_result"
    }
   ],
   "execution_count": 7
  },
  {
   "cell_type": "markdown",
   "id": "b36f5fc7",
   "metadata": {
    "id": "b36f5fc7"
   },
   "source": [
    "## Populate Pinecone Database"
   ]
  },
  {
   "cell_type": "markdown",
   "source": "### Scrape URLs\n",
   "metadata": {
    "collapsed": false
   },
   "id": "f9debb5e3cf24851"
  },
  {
   "metadata": {},
   "cell_type": "markdown",
   "source": [
    "Whitelist: Allow any URL that begins with any element from the white_list.\\\n",
    "Blacklist: Block any URL that begins with any element from the black_list."
   ],
   "id": "507b685542fead85"
  },
  {
   "metadata": {
    "id": "393ea1e7",
    "ExecuteTime": {
     "end_time": "2024-09-27T10:36:25.102323Z",
     "start_time": "2024-09-27T10:35:49.078062Z"
    }
   },
   "cell_type": "code",
   "source": [
    "import nest_asyncio\n",
    "from utils.url_scraper import start_scraping\n",
    "\n",
    "# Apply the nest_asyncio patch to allow nested event loops in Jupyter\n",
    "nest_asyncio.apply()\n",
    "\n",
    "starting_url = \"https://docs.wire.com\"\n",
    "depth_limit = 2\n",
    "\n",
    "filter_list = {\"white_list\": [\"https://docs.wire.com\"], \"black_list\": []}\n",
    "scraped_urls = await start_scraping(starting_url, depth_limit, filter_list)\n",
    "\n",
    "print(f\"Total URLs found: {len(scraped_urls)}\")"
   ],
   "id": "393ea1e7",
   "outputs": [
    {
     "name": "stdout",
     "output_type": "stream",
     "text": [
      "Total URLs found: 427\n"
     ]
    }
   ],
   "execution_count": 4
  },
  {
   "cell_type": "markdown",
   "id": "b5a20874",
   "metadata": {
    "id": "b5a20874"
   },
   "source": [
    "### Extract metadata and content"
   ]
  },
  {
   "cell_type": "code",
   "id": "8005a467",
   "metadata": {
    "id": "8005a467",
    "ExecuteTime": {
     "end_time": "2024-09-27T10:39:29.778842Z",
     "start_time": "2024-09-27T10:36:25.182332Z"
    }
   },
   "source": [
    "from utils.url_scraper import extract_content_and_metadata, DATE_FORMATS, DATE_PATTERNS\n",
    "\n",
    "all_documents = []\n",
    "for u in scraped_urls:\n",
    "    all_documents += extract_content_and_metadata(u, DATE_FORMATS, DATE_PATTERNS)\n",
    "print(len(all_documents))"
   ],
   "outputs": [
    {
     "name": "stdout",
     "output_type": "stream",
     "text": [
      "6640\n"
     ]
    }
   ],
   "execution_count": 5
  },
  {
   "metadata": {},
   "cell_type": "markdown",
   "source": "### Scrape Github",
   "id": "65d676deb188d49c"
  },
  {
   "metadata": {},
   "cell_type": "code",
   "source": [
    "from utils.github_scraper import scrape_md_files\n",
    "\n",
    "md_documents = await scrape_md_files(org_name=\"wireapp\", api_key=os.getenv(\"GITHUB_API_TOKEN\"), repo_limit=None)\n",
    "print(len(md_documents))"
   ],
   "id": "1892ddc2fc1323b5",
   "outputs": [],
   "execution_count": null
  },
  {
   "metadata": {},
   "cell_type": "markdown",
   "source": "### Populate database",
   "id": "8e4fd58bcace53ee"
  },
  {
   "cell_type": "markdown",
   "source": [
    "To delete all records u need to `pip install \"pinecone[grpc]\"` and run the following code."
   ],
   "metadata": {
    "collapsed": false
   },
   "id": "17ee68b0c460d0d6"
  },
  {
   "cell_type": "code",
   "source": [
    "# Uncomment to delete all db records\n",
    "# import os\n",
    "# from pinecone import Pinecone\n",
    "# Pinecone(api_key=os.getenv(\"PINECONE_API_KEY\")).Index(\"default\").delete(delete_all=True, namespace='default')"
   ],
   "metadata": {
    "collapsed": false,
    "ExecuteTime": {
     "end_time": "2024-09-27T10:47:58.771377Z",
     "start_time": "2024-09-27T10:47:57.448143Z"
    }
   },
   "id": "eaa67c386a4cf554",
   "outputs": [
    {
     "data": {
      "text/plain": [
       "{}"
      ]
     },
     "execution_count": 12,
     "metadata": {},
     "output_type": "execute_result"
    }
   ],
   "execution_count": 12
  },
  {
   "cell_type": "markdown",
   "source": [
    "Initialize Pinecone Document Store"
   ],
   "metadata": {
    "collapsed": false
   },
   "id": "e757de5fa7764edb"
  },
  {
   "cell_type": "code",
   "id": "5142cfb8161abc1",
   "metadata": {
    "id": "5142cfb8161abc1",
    "ExecuteTime": {
     "end_time": "2024-09-27T11:04:20.102994Z",
     "start_time": "2024-09-27T11:04:19.993009Z"
    }
   },
   "source": [
    "from haystack.components.preprocessors import DocumentSplitter, DocumentCleaner\n",
    "from haystack.components.embedders import SentenceTransformersDocumentEmbedder\n",
    "from haystack.components.writers import DocumentWriter\n",
    "from haystack import Pipeline\n",
    "from haystack import Document\n",
    "from haystack_integrations.document_stores.pinecone import PineconeDocumentStore\n",
    "\n",
    "document_store = PineconeDocumentStore(\n",
    "    index=\"default\",\n",
    "    namespace=\"default\",\n",
    "    dimension=384,\n",
    "    metric=\"cosine\",\n",
    "    spec={\"serverless\": {\"region\": \"us-east-1\", \"cloud\": \"aws\"}}\n",
    ")\n",
    "\n",
    "ready_list = []\n",
    "for doc in all_documents:\n",
    "    ready_list.append(Document(content=doc[\"content\"], meta=doc[\"metadata\"]))\n",
    "for doc in md_documents:\n",
    "    ready_list.append(Document(content=doc[\"content\"], meta=doc[\"metadata\"]))\n",
    "print(len(ready_list))"
   ],
   "outputs": [
    {
     "name": "stdout",
     "output_type": "stream",
     "text": [
      "7134\n"
     ]
    }
   ],
   "execution_count": 18
  },
  {
   "cell_type": "markdown",
   "source": [
    "Prepare pipeline components"
   ],
   "metadata": {
    "collapsed": false
   },
   "id": "c6d758d8f5128cf9"
  },
  {
   "cell_type": "code",
   "source": [
    "document_cleaner = DocumentCleaner()\n",
    "# For all-MiniLM-L6-v2 input text longer than 256 word pieces is truncated.\n",
    "document_splitter = DocumentSplitter(split_by=\"word\", split_length=256, split_overlap=20)\n",
    "document_embedder = SentenceTransformersDocumentEmbedder(model=\"sentence-transformers/all-MiniLM-L6-v2\")\n",
    "document_writer = DocumentWriter(document_store)"
   ],
   "metadata": {
    "collapsed": false,
    "ExecuteTime": {
     "end_time": "2024-09-27T10:50:05.693389Z",
     "start_time": "2024-09-27T10:50:05.658912Z"
    }
   },
   "id": "5cc22adbea6c1c7e",
   "outputs": [],
   "execution_count": 14
  },
  {
   "cell_type": "markdown",
   "id": "3bfe34af87648a2a",
   "metadata": {
    "collapsed": false,
    "id": "3bfe34af87648a2a"
   },
   "source": [
    "Create a pipeline to populate the Pinecone Document Store with test case documents"
   ]
  },
  {
   "cell_type": "code",
   "id": "f0df56147ec0fad8",
   "metadata": {
    "id": "f0df56147ec0fad8",
    "ExecuteTime": {
     "end_time": "2024-09-27T10:50:09.288292Z",
     "start_time": "2024-09-27T10:50:09.283260Z"
    }
   },
   "source": [
    "preprocessing_pipeline = Pipeline()\n",
    "\n",
    "preprocessing_pipeline.add_component(instance=document_cleaner, name=\"document_cleaner\")\n",
    "preprocessing_pipeline.add_component(instance=document_splitter, name=\"document_splitter\")\n",
    "preprocessing_pipeline.add_component(instance=document_embedder, name=\"document_embedder\")\n",
    "preprocessing_pipeline.add_component(instance=document_writer, name=\"document_writer\")\n",
    "\n",
    "preprocessing_pipeline.connect(\"document_cleaner\", \"document_splitter\")\n",
    "preprocessing_pipeline.connect(\"document_splitter\", \"document_embedder\")\n",
    "preprocessing_pipeline.connect(\"document_embedder\", \"document_writer\")"
   ],
   "outputs": [
    {
     "data": {
      "text/plain": [
       "<haystack.core.pipeline.pipeline.Pipeline object at 0x30b9f4110>\n",
       "🚅 Components\n",
       "  - document_cleaner: DocumentCleaner\n",
       "  - document_splitter: DocumentSplitter\n",
       "  - document_embedder: SentenceTransformersDocumentEmbedder\n",
       "  - document_writer: DocumentWriter\n",
       "🛤️ Connections\n",
       "  - document_cleaner.documents -> document_splitter.documents (List[Document])\n",
       "  - document_splitter.documents -> document_embedder.documents (List[Document])\n",
       "  - document_embedder.documents -> document_writer.documents (List[Document])"
      ]
     },
     "execution_count": 15,
     "metadata": {},
     "output_type": "execute_result"
    }
   ],
   "execution_count": 15
  },
  {
   "cell_type": "markdown",
   "id": "c8fddbeb5665f26",
   "metadata": {
    "collapsed": false,
    "id": "c8fddbeb5665f26"
   },
   "source": [
    "Run the pipeline"
   ]
  },
  {
   "cell_type": "code",
   "id": "7a1c47cb85342d86",
   "metadata": {
    "id": "7a1c47cb85342d86"
   },
   "source": [
    "preprocessing_pipeline.run(data = {\"document_cleaner\": { \"documents\" : ready_list }})\n",
    "# preprocessing_pipeline.inputs()\n",
    "preprocessing_pipeline.show()"
   ],
   "outputs": [
    {
     "data": {
      "image/png": "[encoded data removed]",
      "text/plain": [
       "<IPython.core.display.Image object>"
      ]
     },
     "metadata": {},
     "output_type": "display_data"
    }
   ],
   "execution_count": 17
  },
  {
   "cell_type": "markdown",
   "id": "9eae0c4f1384253e",
   "metadata": {
    "collapsed": false,
    "id": "9eae0c4f1384253e"
   },
   "source": [
    "## Test RAG with Pinecone Document Store"
   ]
  },
  {
   "cell_type": "markdown",
   "id": "75a635b2d20f0142",
   "metadata": {
    "collapsed": false,
    "id": "75a635b2d20f0142"
   },
   "source": [
    "Restart the kernel and run the following code to test the RAG pipeline with the populated Pinecone Document Store.\\\n",
    "Create pipeline to run a query"
   ]
  },
  {
   "cell_type": "code",
   "id": "1b38c8ef5aacfe0",
   "metadata": {
    "id": "1b38c8ef5aacfe0",
    "ExecuteTime": {
     "end_time": "2024-09-27T11:55:56.956722Z",
     "start_time": "2024-09-27T11:55:56.932710Z"
    }
   },
   "source": [
    "from haystack.components.embedders import SentenceTransformersTextEmbedder\n",
    "from haystack_integrations.components.retrievers.pinecone import PineconeEmbeddingRetriever\n",
    "from haystack.components.generators import OpenAIGenerator\n",
    "from haystack.components.builders.answer_builder import AnswerBuilder\n",
    "from haystack.components.builders.prompt_builder import PromptBuilder\n",
    "from haystack import Pipeline\n",
    "from haystack_integrations.document_stores.pinecone import PineconeDocumentStore\n",
    "from dotenv import load_dotenv\n",
    "\n",
    "template = \"\"\"You are a knowledgeable assistant responsible for creating comprehensive documentation based on the following list of documents that refer to the user’s question. The content of these documents may contradict each other, so please prioritize the information from the documents with the most recent dates. If there are contradicting documents with dates labeled as 'None', provide all alternatives and explicitly indicate which parts contradict one another. However, if a document with date labeled as 'None' does not conflict with others, it should be included without special mention.\n",
    "\n",
    "Instructions:\n",
    "2. Analyze the Documents:\n",
    "   - Review each document, noting any conflicting information.\n",
    "   - Prioritize information from the most recent documents.\n",
    "3. Handling Documents with 'None' Date:\n",
    "   - If a document has a date marked as 'None':\n",
    "     - Include all relevant alternatives and clearly indicate contradictions.\n",
    "     - If it does not conflict with other documents, include it without special mention.\n",
    "\n",
    "Output Format:\n",
    "Your output should be structured using Markdown and include the following sections:\n",
    "1. Summary:\n",
    "   - Provide a brief overview of the key findings from all documents.\n",
    "2. Detailed Analysis:\n",
    "   - Present detailed descriptions of key points, prioritizing the latest information.\n",
    "   - Preserve and format any code snippets from the documents appropriately.\n",
    "   - Present full semantic context retrieved from given documents.\n",
    "3. Contradictions:\n",
    "   - For documents dated 'None', list all relevant alternatives and explicitly highlight any contradictions.\n",
    "   - Do not generate this section if there are no contradictions.\n",
    "\n",
    "General Guidelines:\n",
    "- Ensure thoroughness by including all relevant information, aiming for completeness rather than brevity.\n",
    "- Use headings, lists, and code blocks to enhance readability and organization.\n",
    "- Given .md files should be the base structure of generated file. If .md files are poor, treat them as regular source.\n",
    "\n",
    "User Question: {{question}}\n",
    "Documents to Analyze:\n",
    "{% for doc in documents %}\n",
    "Date: {{doc.meta['date']}}\n",
    "Title: {{doc.meta['title']}} - {{doc.meta['headline']}}\n",
    "Content: \n",
    "{{doc.content}}\n",
    "{% endfor %}\"\"\"\n",
    "\n",
    "load_dotenv()\n",
    "\n",
    "document_store = PineconeDocumentStore(\n",
    "    index=\"default\",\n",
    "    namespace=\"default\",\n",
    "    dimension=384,\n",
    "    metric=\"cosine\",\n",
    "    spec={\"serverless\": {\"region\": \"us-east-1\", \"cloud\": \"aws\"}}\n",
    ")\n",
    "\n",
    "text_embedder = SentenceTransformersTextEmbedder(model=\"sentence-transformers/all-MiniLM-L6-v2\")\n",
    "retriever = PineconeEmbeddingRetriever(document_store=document_store, top_k=30)\n",
    "prompt_builder = PromptBuilder(template=template)\n",
    "generator = OpenAIGenerator(model=\"gpt-4o-mini\") # \"gpt-4o-mini\" \"gpt-4o\" \"gpt-3.5-turbo\"\n",
    "answer_builder = AnswerBuilder()\n",
    "\n",
    "rag_pipeline = Pipeline()\n",
    "rag_pipeline.add_component(\"text_embedder\", text_embedder)\n",
    "rag_pipeline.add_component(\"retriever\", retriever)\n",
    "rag_pipeline.add_component(\"prompt_builder\", prompt_builder)\n",
    "rag_pipeline.add_component(\"generator\", generator)\n",
    "rag_pipeline.add_component(\"answer_builder\", answer_builder)\n",
    "\n",
    "rag_pipeline.connect(\"text_embedder.embedding\", \"retriever.query_embedding\")\n",
    "rag_pipeline.connect(\"retriever\", \"prompt_builder.documents\")\n",
    "rag_pipeline.connect(\"retriever\", \"answer_builder.documents\")\n",
    "rag_pipeline.connect(\"prompt_builder\", \"generator\")\n",
    "rag_pipeline.connect(\"generator.replies\", \"answer_builder.replies\")"
   ],
   "outputs": [
    {
     "data": {
      "text/plain": [
       "<haystack.core.pipeline.pipeline.Pipeline object at 0x16c01ef00>\n",
       "🚅 Components\n",
       "  - text_embedder: SentenceTransformersTextEmbedder\n",
       "  - retriever: PineconeEmbeddingRetriever\n",
       "  - prompt_builder: PromptBuilder\n",
       "  - generator: OpenAIGenerator\n",
       "  - answer_builder: AnswerBuilder\n",
       "🛤️ Connections\n",
       "  - text_embedder.embedding -> retriever.query_embedding (List[float])\n",
       "  - retriever.documents -> prompt_builder.documents (List[Document])\n",
       "  - retriever.documents -> answer_builder.documents (List[Document])\n",
       "  - prompt_builder.prompt -> generator.prompt (str)\n",
       "  - generator.replies -> answer_builder.replies (List[str])"
      ]
     },
     "execution_count": 18,
     "metadata": {},
     "output_type": "execute_result"
    }
   ],
   "execution_count": 18
  },
  {
   "metadata": {
    "collapsed": false,
    "id": "f7c6c62a9fa033a1"
   },
   "cell_type": "markdown",
   "source": "Run the pipeline with a query",
   "id": "f7c6c62a9fa033a1"
  },
  {
   "cell_type": "code",
   "id": "d066fdea1ddd46d3",
   "metadata": {
    "id": "d066fdea1ddd46d3",
    "ExecuteTime": {
     "end_time": "2024-09-27T11:56:17.229891Z",
     "start_time": "2024-09-27T11:56:04.086355Z"
    }
   },
   "source": [
    "query = \"Federation, how to make requests between two federated backends.\"\n",
    "result = rag_pipeline.run({\n",
    "    \"text_embedder\": {\"text\": query},\n",
    "    \"prompt_builder\": {\"question\": query},\n",
    "    \"answer_builder\": {\"query\": query}\n",
    "})\n",
    "\n",
    "print(result['answer_builder']['answers'][0].query)\n",
    "print(result['answer_builder']['answers'][0].data)\n",
    "for i, doc in enumerate(result['answer_builder']['answers'][0].documents):\n",
    "    print(f\"{i + 1}. {doc.meta['headline']} - {doc.to_dict()['url']}\")\n",
    "\n",
    "with open(\"./output.md\", \"w\") as f:\n",
    "    f.write(result['answer_builder']['answers'][0].data)"
   ],
   "outputs": [
    {
     "data": {
      "text/plain": [
       "Batches:   0%|          | 0/1 [00:00<?, ?it/s]"
      ],
      "application/vnd.jupyter.widget-view+json": {
       "version_major": 2,
       "version_minor": 0,
       "model_id": "6bcdeef0e65742c3a9d5c9ae180ac8d9"
      }
     },
     "metadata": {},
     "output_type": "display_data"
    },
    {
     "name": "stdout",
     "output_type": "stream",
     "text": [
      "Federation, how to make requests between two federated backends.\n",
      "# Summary\n",
      "\n",
      "The documentation collectively outlines the framework and requirements for making requests between two federated backends using the Wire 0.0.4 API. Key points emphasize the roles of the *Federator* and *Federation Ingress* components in facilitating communication between backends, including authentication and authorization processes. The most recent updates highlight enhancements in processing federated requests, the ability to send requests to multiple backends in parallel, and the evolution of API conventions to improve functionality.\n",
      "\n",
      "# Detailed Analysis\n",
      "\n",
      "## Federated Requests Overview\n",
      "- According to the **2023-01-10** document, every federated API request involves a service component (like brig or galley) in one backend, which communicates through the *Federator*. The response is relayed back via the *Federator Ingress* in the other backend.\n",
      "  \n",
      "## Backend to Backend Communication\n",
      "- The document marked **None** specifies critical checks necessary for inter-backend communication:\n",
      "  - **Authentication**: Determine the identity (infrastructure domain name) of the other backend.\n",
      "  - **Discovery**: Ensure that the other backend is properly authorized.\n",
      "  - **Authorization**: Confirm that each backend is approved to federate with each other.\n",
      "\n",
      "## Federation Architecture\n",
      "- In another **None** date document, the architecture is described: each backend consists of *Federation Ingress* and *Federator*, which are key to the backend's incoming and outgoing request management.\n",
      "\n",
      "## Allow List Configuration\n",
      "- According to the documents dated **2020-12-15**, federation is initially disabled, requiring specific backends to be added to an allow list for federated communication. They must also trust each other’s CA certificate for interactions to function correctly.\n",
      "\n",
      "## API Changes and Enhancements\n",
      "- The content released on **2024-07-09** notes recent changes allowing federated requests to multiple backends in parallel, enhancing conversation management by ensuring updates apply to remote users and confirming that the updated API conventions align with existing functionalities.\n",
      "\n",
      "## Example Request Flow\n",
      "The flow of requests between the federated components can include the following pseudocode:\n",
      "\n",
      "```plaintext\n",
      "SenderBackend → Federator → Federation Ingress → ReceiverBackend\n",
      "```\n",
      "\n",
      "## Prerequisites for Testing Federation\n",
      "To verify that federation works, the following prerequisites are needed:\n",
      "- Two configured backends with federation enabled.\n",
      "- An allow list containing each other.\n",
      "- Trust in each other's CA certificate.\n",
      "- Creation of user accounts across both backends.\n",
      "\n",
      "## Updated Functionalities\n",
      "The latest updates include changes to request handling, namespace unification in conversation IDs, and new endpoints for remote connections.\n",
      "\n",
      "# Contradictions\n",
      "\n",
      "The listed documents did not have direct contradictions but provided varying levels of detail regarding the same aspects of federation. However, the general principles in the documentation clearly line up, and to ensure comprehensive coverage, I will present relevant alternatives without special mention of conflicts since they are reconcilable:\n",
      "\n",
      "- **Authentication and Authorization Requirements**:\n",
      "  - From the **2023-01-10** document, requests must be relayed via components while ensuring the appropriate authentication and authorization.\n",
      "  - The document with **None** makes explicit mention of the need for both mutual authentication and authorization for determining backend identities.\n",
      "\n",
      "Each document reinforces these requirements without conflicting information, implying consistent expectations for backend communication within federated systems.\n",
      "1. Federated requests - https://docs.wire.com/understand/federation/api.html\n",
      "2. Backend to backend communication - https://docs.wire.com/understand/federation/backend-communication.html\n",
      "3. Wire Federation - https://docs.wire.com/understand/federation/index.html\n",
      "4. Manually test that federation works - https://docs.wire.com/understand/configure-federation.html#configure-helm-charts-federator-and-ingress-and-webapp-subcharts\n",
      "5. Manually test that federation works - https://docs.wire.com/understand/configure-federation.html#choose-a-backend-domain\n",
      "6. Manually test that federation works - https://docs.wire.com/understand/configure-federation.html\n",
      "7. Manually test that federation works - https://docs.wire.com/understand/configure-federation.html#manually-test-that-your-configurations-work-as-expected\n",
      "8. Manually test that federation works - https://docs.wire.com/understand/configure-federation.html#summary-of-necessary-steps-to-configure-federation\n",
      "9. Manually test that federation works - https://docs.wire.com/understand/configure-federation.html#consequences-of-the-choice-of-a-backend-domain\n",
      "10. Manually test that federation works - https://docs.wire.com/understand/configure-federation.html#generate-and-configure-tls-server-and-client-certificates\n",
      "11. Manually test that federation works - https://docs.wire.com/understand/configure-federation.html#applying-all-configuration-changes\n",
      "12. Manually test that federation works - https://docs.wire.com/understand/configure-federation.html#dns-setup-for-federation\n",
      "13. Configure the allow list - https://docs.wire.com/understand/configure-federation.html#generate-and-configure-tls-server-and-client-certificates\n",
      "14. Configure the allow list - https://docs.wire.com/understand/configure-federation.html#summary-of-necessary-steps-to-configure-federation\n",
      "15. Configure the allow list - https://docs.wire.com/understand/configure-federation.html#manually-test-that-your-configurations-work-as-expected\n",
      "16. Configure the allow list - https://docs.wire.com/understand/configure-federation.html#applying-all-configuration-changes\n",
      "17. Configure the allow list - https://docs.wire.com/understand/configure-federation.html#configure-helm-charts-federator-and-ingress-and-webapp-subcharts\n",
      "18. Configure the allow list - https://docs.wire.com/understand/configure-federation.html\n",
      "19. Configure the allow list - https://docs.wire.com/understand/configure-federation.html#choose-a-backend-domain\n",
      "20. Configure the allow list - https://docs.wire.com/understand/configure-federation.html#consequences-of-the-choice-of-a-backend-domain\n",
      "21. Configure the allow list - https://docs.wire.com/understand/configure-federation.html#dns-setup-for-federation\n",
      "22. Backends - https://docs.wire.com/understand/federation/architecture.html\n",
      "23. Service components - https://docs.wire.com/understand/federation/architecture.html\n",
      "24. Backend domains - https://docs.wire.com/understand/federation/architecture.html\n",
      "25. Federation changes - https://docs.wire.com/changelog/changelog.html#chart-release-4-39-0\n",
      "26. Federation changes - https://docs.wire.com/changelog/changelog.html#id450\n",
      "27. Federation changes - https://docs.wire.com/changelog/changelog.html#id310\n",
      "28. Federation changes - https://docs.wire.com/changelog/changelog.html#chart-release-4-19-0\n",
      "29. Federation changes - https://docs.wire.com/changelog/changelog.html#chart-release-2-115-0\n",
      "30. Federation changes - https://docs.wire.com/changelog/changelog.html#id462\n"
     ]
    }
   ],
   "execution_count": 19
  }
 ],
 "metadata": {
  "colab": {
   "provenance": [],
   "include_colab_link": true
  },
  "kernelspec": {
   "display_name": "Python 3 (ipykernel)",
   "language": "python",
   "name": "python3"
  },
  "language_info": {
   "codemirror_mode": {
    "name": "ipython",
    "version": 2
   },
   "file_extension": ".py",
   "mimetype": "text/x-python",
   "name": "python",
   "nbconvert_exporter": "python",
   "pygments_lexer": "ipython2",
   "version": "2.7.6"
  }
 },
 "nbformat": 4,
 "nbformat_minor": 5
}
