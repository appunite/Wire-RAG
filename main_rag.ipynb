{
  "cells": [
    {
      "cell_type": "markdown",
      "metadata": {
        "id": "view-in-github",
        "colab_type": "text"
      },
      "source": [
        "<a href=\"https://colab.research.google.com/github/appunite/Wire-RAG/blob/main/main_rag.ipynb\" target=\"_parent\"><img src=\"https://colab.research.google.com/assets/colab-badge.svg\" alt=\"Open In Colab\"/></a>"
      ]
    },
    {
      "cell_type": "markdown",
      "id": "ac9e9f500c62e007",
      "metadata": {
        "collapsed": false,
        "id": "ac9e9f500c62e007"
      },
      "source": [
        "## Wire RAG"
      ]
    },
    {
      "cell_type": "code",
      "source": [
        "import os\n",
        "import getpass\n",
        "os.environ[\"PINECONE_API_KEY\"] = getpass.getpass(\"pinecone api key\")\n",
        "os.environ[\"OPENAI_API_KEY\"] = getpass.getpass(\"open ai api key\")"
      ],
      "metadata": {
        "colab": {
          "base_uri": "https://localhost:8080/"
        },
        "id": "hgvsByZlcsN7",
        "outputId": "85f0a68b-83e7-403d-c627-e73f5fbb9881"
      },
      "id": "hgvsByZlcsN7",
      "execution_count": 15,
      "outputs": [
        {
          "name": "stdout",
          "output_type": "stream",
          "text": [
            "pinecone api key··········\n",
            "open ai api key··········\n"
          ]
        }
      ]
    },
    {
      "cell_type": "code",
      "execution_count": null,
      "id": "L5aAdbvCNIME",
      "metadata": {
        "id": "L5aAdbvCNIME"
      },
      "outputs": [],
      "source": [
        "!pip install haystack-ai pinecone-haystack sentence-transformers pinecone transformers"
      ]
    },
    {
      "cell_type": "markdown",
      "id": "b36f5fc7",
      "metadata": {
        "id": "b36f5fc7"
      },
      "source": [
        "### Scrape Urls"
      ]
    },
    {
      "cell_type": "code",
      "execution_count": 2,
      "id": "393ea1e7",
      "metadata": {
        "id": "393ea1e7"
      },
      "outputs": [],
      "source": [
        "import aiohttp\n",
        "import asyncio\n",
        "from bs4 import BeautifulSoup\n",
        "from urllib.parse import urljoin, urlparse\n",
        "import nest_asyncio\n",
        "\n",
        "# Apply the nest_asyncio patch to allow nested event loops in Jupyter\n",
        "nest_asyncio.apply()\n",
        "\n",
        "# Asynchronous URL fetching with retry logic\n",
        "async def fetch_urls(url, session, retries=3):\n",
        "    attempt = 0\n",
        "    while attempt < retries:\n",
        "        try:\n",
        "            async with session.get(url, timeout=15) as response:\n",
        "                if response.status != 200:\n",
        "                    return set()  # Return an empty set if the page doesn't load\n",
        "                content = await response.text()\n",
        "                soup = BeautifulSoup(content, \"html.parser\")\n",
        "                urls = set(\n",
        "                    urljoin(url, link['href'])\n",
        "                    for link in soup.find_all('a', href=True)\n",
        "                    if urlparse(urljoin(url, link['href'])).scheme in ('http', 'https')\n",
        "                )\n",
        "                # if attempt > 0:\n",
        "                #     print(f\"Successfully fetched URL: {url} on attempt {attempt + 1}\")\n",
        "                return urls\n",
        "        except (aiohttp.ClientError, asyncio.TimeoutError) as e:\n",
        "            attempt += 1\n",
        "            if attempt < retries:\n",
        "                await asyncio.sleep(2 ** attempt)  # Exponential backoff\n",
        "        except Exception as e:\n",
        "            return set()\n",
        "\n",
        "    print(f\"Failed to fetch URL {url} after {retries} attempts.\")\n",
        "    return set()\n",
        "\n",
        "# Check if URL should be allowed based on blacklist/whitelist mode\n",
        "def is_url_allowed(url, black_list_data):\n",
        "    url_list = black_list_data[\"list\"]\n",
        "    is_blacklist_mode = black_list_data[\"black_list\"]\n",
        "\n",
        "    parsed_url = urlparse(url)\n",
        "    base_url = f\"{parsed_url.scheme}://{parsed_url.netloc}\"\n",
        "\n",
        "    if is_blacklist_mode:\n",
        "        # Blacklist mode: block URLs matching any blacklist entry\n",
        "        for entry in url_list:\n",
        "            entry_parsed = urlparse(entry)\n",
        "            entry_base = f\"{entry_parsed.scheme}://{entry_parsed.netloc}\"\n",
        "            if entry_base == base_url and url.startswith(entry):\n",
        "                return False\n",
        "            # Specifically check if the entry is a path that should be blocked\n",
        "            if entry_parsed.netloc == parsed_url.netloc and urlparse(entry).path == parsed_url.path:\n",
        "                return False\n",
        "    else:\n",
        "        # Whitelist mode: only allow URLs matching any whitelist entry\n",
        "        return any(\n",
        "            url.startswith(entry) or f\"{urlparse(entry).scheme}://{urlparse(entry).netloc}\" == base_url\n",
        "            for entry in url_list\n",
        "        )\n",
        "\n",
        "    return True\n",
        "\n",
        "# Asynchronous scraping with blacklist/whitelist and depth handling\n",
        "async def scrape_urls(url, session, max_depth, current_depth=0, visited=None, black_list_data=None):\n",
        "    if visited is None:\n",
        "        visited = []\n",
        "\n",
        "    if current_depth > max_depth:\n",
        "        return visited  # Stop recursion if depth limit exceeded\n",
        "\n",
        "    if not is_url_allowed(url, black_list_data):\n",
        "        return visited  # Skip URL if not allowed\n",
        "\n",
        "    visited.append(url)  # Store URL with its depth\n",
        "\n",
        "    # Extract URLs from the current page\n",
        "    urls = await fetch_urls(url, session)\n",
        "\n",
        "    tasks = []\n",
        "    for new_url in urls:\n",
        "        if new_url not in visited and is_url_allowed(new_url, black_list_data):\n",
        "            # Continue scraping at the next depth level if within depth limit\n",
        "            if current_depth < max_depth:\n",
        "                tasks.append(scrape_urls(new_url, session, max_depth, current_depth + 1, visited, black_list_data))\n",
        "\n",
        "    # Await all the tasks concurrently\n",
        "    await asyncio.gather(*tasks)\n",
        "    return visited\n",
        "\n",
        "# Entry point for asynchronous scraping\n",
        "async def start_scraping(url, depth, black_list_data=None):\n",
        "    async with aiohttp.ClientSession() as session:\n",
        "        found_urls = await scrape_urls(url, session, depth, black_list_data=black_list_data)\n",
        "    return found_urls"
      ]
    },
    {
      "cell_type": "code",
      "execution_count": null,
      "id": "c20d222d",
      "metadata": {
        "id": "c20d222d"
      },
      "outputs": [],
      "source": [
        "starting_url = \"https://docs.wire.com\"\n",
        "depth_limit = 2\n",
        "whitelist = {\"list\": [\"https://docs.wire.com\"], \"black_list\": False}\n",
        "\n",
        "scraped_urls = await start_scraping(starting_url, depth_limit, whitelist)\n",
        "\n",
        "print(f\"Total URLs found: {len(scraped_urls)}\")"
      ]
    },
    {
      "cell_type": "markdown",
      "id": "b5a20874",
      "metadata": {
        "id": "b5a20874"
      },
      "source": [
        "Extract headlines and content"
      ]
    },
    {
      "cell_type": "code",
      "execution_count": 4,
      "id": "8005a467",
      "metadata": {
        "id": "8005a467"
      },
      "outputs": [],
      "source": [
        "from genericpath import exists\n",
        "import requests\n",
        "import re\n",
        "\n",
        "from bs4 import BeautifulSoup\n",
        "import requests\n",
        "from requests.adapters import HTTPAdapter\n",
        "from urllib3.util.retry import Retry\n",
        "from collections import defaultdict\n",
        "\n",
        "def requests_retry_session(\n",
        "    retries=3,\n",
        "    backoff_factor=0.3,\n",
        "    status_forcelist=(500, 502, 504),\n",
        "    session=None,\n",
        "):\n",
        "    session = session or requests.Session()\n",
        "    retry = Retry(\n",
        "        total=retries,\n",
        "        read=retries,\n",
        "        connect=retries,\n",
        "        backoff_factor=backoff_factor,\n",
        "        status_forcelist=status_forcelist,\n",
        "    )\n",
        "    adapter = HTTPAdapter(max_retries=retry)\n",
        "    session.mount('http://', adapter)\n",
        "    session.mount('https://', adapter)\n",
        "    return session\n",
        "\n",
        "\n",
        "def extract_headlines_and_content(url):\n",
        "    try:\n",
        "        # Use retry session for robust requests\n",
        "        session = requests_retry_session()\n",
        "        response = session.get(url, timeout=10)\n",
        "\n",
        "        # Check if request was successful\n",
        "        response.raise_for_status()\n",
        "\n",
        "        soup = BeautifulSoup(response.content, 'html.parser')\n",
        "\n",
        "        content_by_headline = {}\n",
        "        current_header = None\n",
        "\n",
        "        # Loop through the elements, keeping track of headlines and paragraphs\n",
        "        for element in soup.find_all(['h1', 'h2', 'h3', 'h4', 'h5', 'h6', 'p', 'ul', 'ol']):\n",
        "            if element.name.startswith('h'):\n",
        "                # Headline\n",
        "                current_header = element.get_text(strip=True)\n",
        "                current_header = current_header.replace(\"\\n\", \"\")\n",
        "                current_header = re.sub(r\"\\s+\", \" \", current_header)\n",
        "\n",
        "            elif element.name in ['p', 'ul', 'ol'] and current_header:\n",
        "                # Append the text under the last seen headline\n",
        "                value = content_by_headline[current_header] if current_header in content_by_headline else \"\"\n",
        "                content_by_headline[current_header] = f\"{value} {element.get_text(strip=True)}\"\n",
        "\n",
        "        return content_by_headline\n",
        "\n",
        "    except requests.exceptions.RequestException as e:\n",
        "        print(f\"Error fetching {url}: {e}\")\n",
        "        return None"
      ]
    },
    {
      "cell_type": "code",
      "execution_count": 5,
      "id": "5bbccafc",
      "metadata": {
        "id": "5bbccafc"
      },
      "outputs": [],
      "source": [
        "all_documents = []\n",
        "\n",
        "for url in scraped_urls:\n",
        "    content_by_headline = extract_headlines_and_content(url)\n",
        "    # print(content_by_headline, \"\\n\\n\\n\")\n",
        "\n",
        "    all_documents.append(content_by_headline)"
      ]
    },
    {
      "cell_type": "markdown",
      "id": "f88dbfb9166fe5db",
      "metadata": {
        "collapsed": false,
        "id": "f88dbfb9166fe5db"
      },
      "source": [
        "To delete all records u need to `pip install \"pinecone[grpc]\"` and run the following code."
      ]
    },
    {
      "cell_type": "code",
      "execution_count": 6,
      "id": "5142cfb8161abc1",
      "metadata": {
        "id": "5142cfb8161abc1"
      },
      "outputs": [],
      "source": [
        "from haystack.components.preprocessors import DocumentSplitter, DocumentCleaner\n",
        "from haystack.components.embedders import SentenceTransformersDocumentEmbedder\n",
        "from haystack.components.joiners import DocumentJoiner\n",
        "from haystack.components.writers import DocumentWriter\n",
        "from haystack import Pipeline\n",
        "from haystack import Document\n",
        "from haystack_integrations.document_stores.pinecone import PineconeDocumentStore\n",
        "\n",
        "document_store = PineconeDocumentStore(\n",
        "\t\tindex=\"default\",\n",
        "\t\tnamespace=\"default\",\n",
        "\t\tdimension=384,\n",
        "  \tmetric=\"cosine\",\n",
        "  \tspec={\"serverless\": {\"region\": \"us-east-1\", \"cloud\": \"aws\"}}\n",
        ")\n",
        "\n",
        "ready_list = []\n",
        "for d in all_documents:\n",
        "\tfor key in d:\n",
        "\t\theadline = key\n",
        "\t\tcontent = d[key]\n",
        "\tdocument = Document(content=content, meta={\"headline\": headline})\n",
        "\tready_list.append(document)\n",
        "\n",
        "document_joiner = DocumentJoiner()\n",
        "document_cleaner = DocumentCleaner()\n",
        "document_splitter = DocumentSplitter(split_by=\"word\", split_length=150, split_overlap=50)\n",
        "document_embedder = SentenceTransformersDocumentEmbedder(model=\"sentence-transformers/all-MiniLM-L6-v2\")\n",
        "document_writer = DocumentWriter(document_store)"
      ]
    },
    {
      "cell_type": "markdown",
      "id": "3bfe34af87648a2a",
      "metadata": {
        "collapsed": false,
        "id": "3bfe34af87648a2a"
      },
      "source": [
        "Create a pipeline to populate the Pinecone Document Store with test case documents"
      ]
    },
    {
      "cell_type": "code",
      "execution_count": null,
      "id": "f0df56147ec0fad8",
      "metadata": {
        "id": "f0df56147ec0fad8"
      },
      "outputs": [],
      "source": [
        "preprocessing_pipeline = Pipeline()\n",
        "\n",
        "preprocessing_pipeline.add_component(instance=document_cleaner, name=\"document_cleaner\")\n",
        "preprocessing_pipeline.add_component(instance=document_splitter, name=\"document_splitter\")\n",
        "preprocessing_pipeline.add_component(instance=document_embedder, name=\"document_embedder\")\n",
        "preprocessing_pipeline.add_component(instance=document_writer, name=\"document_writer\")\n",
        "preprocessing_pipeline.add_component(instance=document_joiner, name=\"document_joiner\")\n",
        "\n",
        "preprocessing_pipeline.connect(\"document_joiner\", \"document_cleaner\")\n",
        "preprocessing_pipeline.connect(\"document_cleaner\", \"document_splitter\")\n",
        "preprocessing_pipeline.connect(\"document_splitter\", \"document_embedder\")\n",
        "preprocessing_pipeline.connect(\"document_embedder\", \"document_writer\")"
      ]
    },
    {
      "cell_type": "markdown",
      "id": "c8fddbeb5665f26",
      "metadata": {
        "collapsed": false,
        "id": "c8fddbeb5665f26"
      },
      "source": [
        "Run the pipeline"
      ]
    },
    {
      "cell_type": "code",
      "execution_count": 12,
      "id": "7a1c47cb85342d86",
      "metadata": {
        "colab": {
          "base_uri": "https://localhost:8080/",
          "height": 1000,
          "referenced_widgets": [
            "57c824bb5a714c89b4f9a238f6d5377e",
            "5cfc43e812b64f12a2dac1325b224736",
            "8d1fb253927348abb7bd014636a3c0af",
            "1eee15fcbeed45cab7c61bccb83739f6",
            "e0e5f2bb922547c58ab7edf6b7974e6c",
            "6bf2372b69ca493a883350b30820497e",
            "1b8f585ca5864599a0d3733f64d192ed",
            "7bf078cf265c45eb9dc9b168207a348f",
            "73ea37dd01e74727955f6c5a3e0c5a28",
            "fe3ac48e84644c0f97af0a0507116c0a",
            "6fd4455d503646e9ad845f7f3cc55b4d",
            "43d06898167a40f7ad18ff1114c97e85",
            "99bdf381bee045afb52ba516bbe11294",
            "ba81b099821e4a328b98cb5c2ca0e4d5",
            "409df05f29b646d8832b18df0c29ce26",
            "1dded6d7c4104bb288b5c49a5b288fd1",
            "603e7814842b4cb5bed3907e00662287",
            "cd217ba5142a42dda8bff43c9b4b5ff7",
            "fcfe7609a3854c698082d9fc1ec0dde9",
            "2a2cb51c212d4f5b993b9bf0bbb79761",
            "1dd674ab392a4d6aa68c7cbbf9defdc9",
            "df413bd0b21b45fb9b171ec605092477"
          ]
        },
        "id": "7a1c47cb85342d86",
        "outputId": "479da5c5-0324-466d-af90-738907292228"
      },
      "outputs": [
        {
          "output_type": "display_data",
          "data": {
            "text/plain": [
              "Batches:   0%|          | 0/7 [00:00<?, ?it/s]"
            ],
            "application/vnd.jupyter.widget-view+json": {
              "version_major": 2,
              "version_minor": 0,
              "model_id": "57c824bb5a714c89b4f9a238f6d5377e"
            }
          },
          "metadata": {}
        },
        {
          "output_type": "stream",
          "name": "stderr",
          "text": [
            "WARNING:haystack_integrations.document_stores.pinecone.document_store:Document 005d1d53ab33bc768e58353125d72d2125a1b5252cb22376b94c3ff0a728c709 has metadata fields with unsupported types: ['_split_overlap']. Only str, int, bool, and List[str] are supported. The values of these fields will be discarded.\n",
            "WARNING:haystack_integrations.document_stores.pinecone.document_store:Document 5c9df7082d4a99f88dd97032ac3e10f4ec0518e421c1810a22bbf47a27edbe25 has metadata fields with unsupported types: ['_split_overlap']. Only str, int, bool, and List[str] are supported. The values of these fields will be discarded.\n",
            "WARNING:haystack_integrations.document_stores.pinecone.document_store:Document a77756629af74b53a988b4063614b10efde56eda91649b9f6e06633b9c8c327a has metadata fields with unsupported types: ['_split_overlap']. Only str, int, bool, and List[str] are supported. The values of these fields will be discarded.\n",
            "WARNING:haystack_integrations.document_stores.pinecone.document_store:Document bca95397af9021ad38c3e97ec4c9897f3a005bc134dd49d93d7b3ba50fd90511 has metadata fields with unsupported types: ['_split_overlap']. Only str, int, bool, and List[str] are supported. The values of these fields will be discarded.\n",
            "WARNING:haystack_integrations.document_stores.pinecone.document_store:Document 18c7d37f2a4acfcada2d7f536390401d418784929b8e2db4960fa5c2d639ae86 has metadata fields with unsupported types: ['_split_overlap']. Only str, int, bool, and List[str] are supported. The values of these fields will be discarded.\n",
            "WARNING:haystack_integrations.document_stores.pinecone.document_store:Document 13d4a62470868a4b3e188e04ae155e247e944004bdce5d3fe1fed6de34e01d0a has metadata fields with unsupported types: ['_split_overlap']. Only str, int, bool, and List[str] are supported. The values of these fields will be discarded.\n",
            "WARNING:haystack_integrations.document_stores.pinecone.document_store:Document 56e385afd99a68a68ee9789c1e190f6f79f02a022f85d52931f80a425139cf03 has metadata fields with unsupported types: ['_split_overlap']. Only str, int, bool, and List[str] are supported. The values of these fields will be discarded.\n",
            "WARNING:haystack_integrations.document_stores.pinecone.document_store:Document 748ffa2bdde0dc450eaaf55ca70f0d23323e6eb623aab3e198623217ff171a09 has metadata fields with unsupported types: ['_split_overlap']. Only str, int, bool, and List[str] are supported. The values of these fields will be discarded.\n",
            "WARNING:haystack_integrations.document_stores.pinecone.document_store:Document b65563bbc65b9363cff11a492ee313ae9ba067c48b34949d9c8ee3e7ce6ca085 has metadata fields with unsupported types: ['_split_overlap']. Only str, int, bool, and List[str] are supported. The values of these fields will be discarded.\n",
            "WARNING:haystack_integrations.document_stores.pinecone.document_store:Document c3a3ba9e34fa904f257af8d62b4e78ed96d14a8e83ce05062d3aaf560b5f0eb1 has metadata fields with unsupported types: ['_split_overlap']. Only str, int, bool, and List[str] are supported. The values of these fields will be discarded.\n",
            "WARNING:haystack_integrations.document_stores.pinecone.document_store:Document 6b10bdd5eed0b8f71800e4c400905bb44b90f9d4bbf0bd93bf39e2134d20d3ab has metadata fields with unsupported types: ['_split_overlap']. Only str, int, bool, and List[str] are supported. The values of these fields will be discarded.\n",
            "WARNING:haystack_integrations.document_stores.pinecone.document_store:Document ef26750a6d26422a591bfd499c8ccf9e2935c598adf701898932232c878ce05f has metadata fields with unsupported types: ['_split_overlap']. Only str, int, bool, and List[str] are supported. The values of these fields will be discarded.\n",
            "WARNING:haystack_integrations.document_stores.pinecone.document_store:Document 91119b39ae86fd582e6b20f6568a670dad6028bbf38fb459971aea1b7dde2f75 has metadata fields with unsupported types: ['_split_overlap']. Only str, int, bool, and List[str] are supported. The values of these fields will be discarded.\n",
            "WARNING:haystack_integrations.document_stores.pinecone.document_store:Document 20f0a891e8c859dd30b12efe4b5bd6de1cedc15b58980b613117e9740f9c8052 has metadata fields with unsupported types: ['_split_overlap']. Only str, int, bool, and List[str] are supported. The values of these fields will be discarded.\n",
            "WARNING:haystack_integrations.document_stores.pinecone.document_store:Document 8713c202a3754c475fe934c63735a0b550ac5edcc3291189d59d76dba7d120dd has metadata fields with unsupported types: ['_split_overlap']. Only str, int, bool, and List[str] are supported. The values of these fields will be discarded.\n",
            "WARNING:haystack_integrations.document_stores.pinecone.document_store:Document 3674a158d208cc123887b60135876205b2f054ca13fa0edba4b535358d2ce727 has metadata fields with unsupported types: ['_split_overlap']. Only str, int, bool, and List[str] are supported. The values of these fields will be discarded.\n",
            "WARNING:haystack_integrations.document_stores.pinecone.document_store:Document fee68915d445f3a847568c6c5cf8d0ef8ad922759ef8cbb4ea85562e37a80376 has metadata fields with unsupported types: ['_split_overlap']. Only str, int, bool, and List[str] are supported. The values of these fields will be discarded.\n",
            "WARNING:haystack_integrations.document_stores.pinecone.document_store:Document 4f35600390fa47232c269b721b457c61a7d5a2811abc2f3a3b14ae3e0850b5b0 has metadata fields with unsupported types: ['_split_overlap']. Only str, int, bool, and List[str] are supported. The values of these fields will be discarded.\n",
            "WARNING:haystack_integrations.document_stores.pinecone.document_store:Document d10a40f37352e60c2ae5f7131426c129cbc6709bbc1a4499ed6f1a76093ae33d has metadata fields with unsupported types: ['_split_overlap']. Only str, int, bool, and List[str] are supported. The values of these fields will be discarded.\n",
            "WARNING:haystack_integrations.document_stores.pinecone.document_store:Document 79c7e536b31c3b1d6418e7d922132452bde7b5322a60b7a2d798b7ead037f943 has metadata fields with unsupported types: ['_split_overlap']. Only str, int, bool, and List[str] are supported. The values of these fields will be discarded.\n",
            "WARNING:haystack_integrations.document_stores.pinecone.document_store:Document 7ed1a19090e1bdeef5b5df82603468ff38a504c74114c9145a51e93e0b7ddc4a has metadata fields with unsupported types: ['_split_overlap']. Only str, int, bool, and List[str] are supported. The values of these fields will be discarded.\n",
            "WARNING:haystack_integrations.document_stores.pinecone.document_store:Document 5eb949cdbf39c84884ad58ee62b2470fb09ea48714b3f31f881e473152fef942 has metadata fields with unsupported types: ['_split_overlap']. Only str, int, bool, and List[str] are supported. The values of these fields will be discarded.\n",
            "WARNING:haystack_integrations.document_stores.pinecone.document_store:Document ed2ce08458b4ef45ddb4d8690a638bc69a11fe146f496bb12b5bfdfaf2e08b67 has metadata fields with unsupported types: ['_split_overlap']. Only str, int, bool, and List[str] are supported. The values of these fields will be discarded.\n",
            "WARNING:haystack_integrations.document_stores.pinecone.document_store:Document d45020d22d75b0b1651e888d8bff0c6500a0c04528c247692c9d61e5b631a89a has metadata fields with unsupported types: ['_split_overlap']. Only str, int, bool, and List[str] are supported. The values of these fields will be discarded.\n",
            "WARNING:haystack_integrations.document_stores.pinecone.document_store:Document 3d935e0e405ad1215404a24af36867fdeec1121ac164ff6cf3ffdfdb0c575120 has metadata fields with unsupported types: ['_split_overlap']. Only str, int, bool, and List[str] are supported. The values of these fields will be discarded.\n",
            "WARNING:haystack_integrations.document_stores.pinecone.document_store:Document b9ea019a80b053ff4c6325b10fe711697b37118673b3a4c41d93e296049fc0f5 has metadata fields with unsupported types: ['_split_overlap']. Only str, int, bool, and List[str] are supported. The values of these fields will be discarded.\n",
            "WARNING:haystack_integrations.document_stores.pinecone.document_store:Document ba18f13677aa0c3965d8482da88ba5ccccf2cf2b70ab5557b4d58d1b646893b6 has metadata fields with unsupported types: ['_split_overlap']. Only str, int, bool, and List[str] are supported. The values of these fields will be discarded.\n",
            "WARNING:haystack_integrations.document_stores.pinecone.document_store:Document 60fe4e376167dcf74e2debebb8812a719a2a4ba4fb8473217dfa4d020070ad62 has metadata fields with unsupported types: ['_split_overlap']. Only str, int, bool, and List[str] are supported. The values of these fields will be discarded.\n",
            "WARNING:haystack_integrations.document_stores.pinecone.document_store:Document b20814917ca3e80a4f6de4ea71229bf0a6fc2ef555fe78fa4bd5532c2315e015 has metadata fields with unsupported types: ['_split_overlap']. Only str, int, bool, and List[str] are supported. The values of these fields will be discarded.\n",
            "WARNING:haystack_integrations.document_stores.pinecone.document_store:Document cd42d2cbad066affba08d84c06e5c4cd3e897b6b159e56369268dde00e98887d has metadata fields with unsupported types: ['_split_overlap']. Only str, int, bool, and List[str] are supported. The values of these fields will be discarded.\n",
            "WARNING:haystack_integrations.document_stores.pinecone.document_store:Document b6009d8b5fd5f72ae8a54360ea9fde66b6d7e2dc900e94c00281ca3a9985d0f6 has metadata fields with unsupported types: ['_split_overlap']. Only str, int, bool, and List[str] are supported. The values of these fields will be discarded.\n",
            "WARNING:haystack_integrations.document_stores.pinecone.document_store:Document fd6c6b84e961a274afe0fd18af340e115fca5590239e989ada013ff3b2f4a3a0 has metadata fields with unsupported types: ['_split_overlap']. Only str, int, bool, and List[str] are supported. The values of these fields will be discarded.\n",
            "WARNING:haystack_integrations.document_stores.pinecone.document_store:Document bf06829efffb0faa5eb222069b08e65cb3395b96bed7ba3d50b734e08f6ecc89 has metadata fields with unsupported types: ['_split_overlap']. Only str, int, bool, and List[str] are supported. The values of these fields will be discarded.\n",
            "WARNING:haystack_integrations.document_stores.pinecone.document_store:Document f88c9f5e13652ede9efff52705df74e72ddb133d3b34e3b4c807924258a2c8c0 has metadata fields with unsupported types: ['_split_overlap']. Only str, int, bool, and List[str] are supported. The values of these fields will be discarded.\n",
            "WARNING:haystack_integrations.document_stores.pinecone.document_store:Document 2e5933fccb33245a48ad64245ebdb6ee891b8e5fca1e23ff9dc018760c9aff3c has metadata fields with unsupported types: ['_split_overlap']. Only str, int, bool, and List[str] are supported. The values of these fields will be discarded.\n",
            "WARNING:haystack_integrations.document_stores.pinecone.document_store:Document 2a54c44336dbac8554be8ea10b5ecab282027433c0f43922818cd3ed266da29b has metadata fields with unsupported types: ['_split_overlap']. Only str, int, bool, and List[str] are supported. The values of these fields will be discarded.\n",
            "WARNING:haystack_integrations.document_stores.pinecone.document_store:Document 7d76b37bc435dfa8668513a754735c6ff0b8c1369c20d5919e78ed0ee0592c28 has metadata fields with unsupported types: ['_split_overlap']. Only str, int, bool, and List[str] are supported. The values of these fields will be discarded.\n",
            "WARNING:haystack_integrations.document_stores.pinecone.document_store:Document 086acc775778f7d53483aab8a3f8b5770f90b0f4dbe3e78e639585b12af16021 has metadata fields with unsupported types: ['_split_overlap']. Only str, int, bool, and List[str] are supported. The values of these fields will be discarded.\n",
            "WARNING:haystack_integrations.document_stores.pinecone.document_store:Document 61828fbe95011d4a76ba98070d9512d7a61aaf4bcd7c9c4ffc7aa52b2d629719 has metadata fields with unsupported types: ['_split_overlap']. Only str, int, bool, and List[str] are supported. The values of these fields will be discarded.\n",
            "WARNING:haystack_integrations.document_stores.pinecone.document_store:Document afdb6c1e94580a1adee6dd2c941825280addd0af13e31100e584a0c845fa5dd3 has metadata fields with unsupported types: ['_split_overlap']. Only str, int, bool, and List[str] are supported. The values of these fields will be discarded.\n",
            "WARNING:haystack_integrations.document_stores.pinecone.document_store:Document 1d3601071b96de2a95604c7641f75b38b110a0213eaff51543a94e5cbf3bf964 has metadata fields with unsupported types: ['_split_overlap']. Only str, int, bool, and List[str] are supported. The values of these fields will be discarded.\n",
            "WARNING:haystack_integrations.document_stores.pinecone.document_store:Document 2b9193ac022a03d0b058d64a64f05033b5464733fe701791976eaab4054045d8 has metadata fields with unsupported types: ['_split_overlap']. Only str, int, bool, and List[str] are supported. The values of these fields will be discarded.\n",
            "WARNING:haystack_integrations.document_stores.pinecone.document_store:Document 6a9ddd0c2eca5c0b584d3b44d22cdb2849deeb3c0317fea95db9f6395457ede6 has metadata fields with unsupported types: ['_split_overlap']. Only str, int, bool, and List[str] are supported. The values of these fields will be discarded.\n",
            "WARNING:haystack_integrations.document_stores.pinecone.document_store:Document b663a4309d4979a264518c15dbd71ef63db629d519d0c69d1b60179e0839dd81 has metadata fields with unsupported types: ['_split_overlap']. Only str, int, bool, and List[str] are supported. The values of these fields will be discarded.\n",
            "WARNING:haystack_integrations.document_stores.pinecone.document_store:Document 07e9a465afb686db330d578df9bff2a95a88f28d16cfe8925d8a468ddad064f9 has metadata fields with unsupported types: ['_split_overlap']. Only str, int, bool, and List[str] are supported. The values of these fields will be discarded.\n",
            "WARNING:haystack_integrations.document_stores.pinecone.document_store:Document 65e809c00726fd5be47bf621e0930baedc48e90c9ac3f8042609f0daca4c1306 has metadata fields with unsupported types: ['_split_overlap']. Only str, int, bool, and List[str] are supported. The values of these fields will be discarded.\n",
            "WARNING:haystack_integrations.document_stores.pinecone.document_store:Document 6e78cd6d2418d64b11ee8f38064f7db8b133b21fa4ed94211a996af4d2057811 has metadata fields with unsupported types: ['_split_overlap']. Only str, int, bool, and List[str] are supported. The values of these fields will be discarded.\n",
            "WARNING:haystack_integrations.document_stores.pinecone.document_store:Document 55b20f9d4b24a7667173cea1f085c19412a3032cc1c8d8e8ccb0dbdca921c829 has metadata fields with unsupported types: ['_split_overlap']. Only str, int, bool, and List[str] are supported. The values of these fields will be discarded.\n",
            "WARNING:haystack_integrations.document_stores.pinecone.document_store:Document d413cf3be081f889dfb196d168b8b03de92e1042699d99d4706e70a4b05d45d4 has metadata fields with unsupported types: ['_split_overlap']. Only str, int, bool, and List[str] are supported. The values of these fields will be discarded.\n",
            "WARNING:haystack_integrations.document_stores.pinecone.document_store:Document 774b7b2d85022f0d42bce53f38866e0c89ecbae30ab8813348adb07faf1b4560 has metadata fields with unsupported types: ['_split_overlap']. Only str, int, bool, and List[str] are supported. The values of these fields will be discarded.\n",
            "WARNING:haystack_integrations.document_stores.pinecone.document_store:Document a7dfca6f9925980e8c3afd9c4dced40c3947bb8ef6893df0225d09e1a03edaab has metadata fields with unsupported types: ['_split_overlap']. Only str, int, bool, and List[str] are supported. The values of these fields will be discarded.\n",
            "WARNING:haystack_integrations.document_stores.pinecone.document_store:Document 2de86d2ed85913106ddf0c639ccb8fa42842fbd76aee047b84e29d0404f1b4d2 has metadata fields with unsupported types: ['_split_overlap']. Only str, int, bool, and List[str] are supported. The values of these fields will be discarded.\n",
            "WARNING:haystack_integrations.document_stores.pinecone.document_store:Document ea3a9120941f95d89f35683261ef289f886e5bc3f6894d88c3793afaa16a3265 has metadata fields with unsupported types: ['_split_overlap']. Only str, int, bool, and List[str] are supported. The values of these fields will be discarded.\n",
            "WARNING:haystack_integrations.document_stores.pinecone.document_store:Document a3f2053d9ac41810ed3ba1ca45623ff5a64fc36582e83ae803176f4d960572b4 has metadata fields with unsupported types: ['_split_overlap']. Only str, int, bool, and List[str] are supported. The values of these fields will be discarded.\n",
            "WARNING:haystack_integrations.document_stores.pinecone.document_store:Document f2521b2744cf028cc2d3c78ffff7067e02cdc12a67e90a1c0300c3cf354ffdc9 has metadata fields with unsupported types: ['_split_overlap']. Only str, int, bool, and List[str] are supported. The values of these fields will be discarded.\n",
            "WARNING:haystack_integrations.document_stores.pinecone.document_store:Document 73ff972b09536a6d6df750e57b0dd30b4f217f0812a19aaad72258cbe22524e2 has metadata fields with unsupported types: ['_split_overlap']. Only str, int, bool, and List[str] are supported. The values of these fields will be discarded.\n",
            "WARNING:haystack_integrations.document_stores.pinecone.document_store:Document 859cfbf7e8c8409cab16d37770bef8e2e40346b592ad95867f790acd8000039c has metadata fields with unsupported types: ['_split_overlap']. Only str, int, bool, and List[str] are supported. The values of these fields will be discarded.\n",
            "WARNING:haystack_integrations.document_stores.pinecone.document_store:Document 7ca0de44fd13acf86b3b3ba208b74890a3facb050d3f460337e2bb3fb40ea083 has metadata fields with unsupported types: ['_split_overlap']. Only str, int, bool, and List[str] are supported. The values of these fields will be discarded.\n",
            "WARNING:haystack_integrations.document_stores.pinecone.document_store:Document 4526057e4f6b631c12de295b3470ce18e671c01fc955b5a20a1c7d452f1b2d54 has metadata fields with unsupported types: ['_split_overlap']. Only str, int, bool, and List[str] are supported. The values of these fields will be discarded.\n",
            "WARNING:haystack_integrations.document_stores.pinecone.document_store:Document 02350146c2c549516d01633c43d4e720d7ee87c5684348907d691fd845a1e0f9 has metadata fields with unsupported types: ['_split_overlap']. Only str, int, bool, and List[str] are supported. The values of these fields will be discarded.\n",
            "WARNING:haystack_integrations.document_stores.pinecone.document_store:Document b8f0639c4ed833e05a134a596d3ec03ece0faff47fcd167ab929a73548ab2a89 has metadata fields with unsupported types: ['_split_overlap']. Only str, int, bool, and List[str] are supported. The values of these fields will be discarded.\n",
            "WARNING:haystack_integrations.document_stores.pinecone.document_store:Document 3d04fc89df82002d5ffa33a6a7dff3327a55d43bb0885617c6b292f6513e8376 has metadata fields with unsupported types: ['_split_overlap']. Only str, int, bool, and List[str] are supported. The values of these fields will be discarded.\n",
            "WARNING:haystack_integrations.document_stores.pinecone.document_store:Document ffb90a5a52f9c2e6d36059c5e2498d9d23563cb530ef1c268f6b7a64ad8527cf has metadata fields with unsupported types: ['_split_overlap']. Only str, int, bool, and List[str] are supported. The values of these fields will be discarded.\n",
            "WARNING:haystack_integrations.document_stores.pinecone.document_store:Document 348a6d3586f3fcf65049e608cdfc2ec363d9f1b16096f848bae110cb8c602cbc has metadata fields with unsupported types: ['_split_overlap']. Only str, int, bool, and List[str] are supported. The values of these fields will be discarded.\n",
            "WARNING:haystack_integrations.document_stores.pinecone.document_store:Document f8678ea9ed5daecbbe83fa77a28266c0293b9c603e52a89f47214045e0eb9152 has metadata fields with unsupported types: ['_split_overlap']. Only str, int, bool, and List[str] are supported. The values of these fields will be discarded.\n",
            "WARNING:haystack_integrations.document_stores.pinecone.document_store:Document 7f8bf7d69bee7d84fc7e30864dc2e4e73171dd16cba1846c58bfa6887dc020e7 has metadata fields with unsupported types: ['_split_overlap']. Only str, int, bool, and List[str] are supported. The values of these fields will be discarded.\n",
            "WARNING:haystack_integrations.document_stores.pinecone.document_store:Document a2cd598a59f8fd68f03cc20c936fc6894957b16ddb36b3ac9df8825f917031aa has metadata fields with unsupported types: ['_split_overlap']. Only str, int, bool, and List[str] are supported. The values of these fields will be discarded.\n",
            "WARNING:haystack_integrations.document_stores.pinecone.document_store:Document a0164d76c79414515612bf82a9a5dd102be94fe42a225fd81f7be5aa11ac35e2 has metadata fields with unsupported types: ['_split_overlap']. Only str, int, bool, and List[str] are supported. The values of these fields will be discarded.\n",
            "WARNING:haystack_integrations.document_stores.pinecone.document_store:Document 05c90c47f66ba2841f2b7ad5e781f2b767bd483c18c5ddf81210450b4d15435d has metadata fields with unsupported types: ['_split_overlap']. Only str, int, bool, and List[str] are supported. The values of these fields will be discarded.\n",
            "WARNING:haystack_integrations.document_stores.pinecone.document_store:Document 96ade9ddda567ef177c60198d7598add8bee6db25165284c183bc72e2766915a has metadata fields with unsupported types: ['_split_overlap']. Only str, int, bool, and List[str] are supported. The values of these fields will be discarded.\n",
            "WARNING:haystack_integrations.document_stores.pinecone.document_store:Document eacb48c62f84528c3021c8752b507acfccdc58b95e2b1557ec292c139f744ecf has metadata fields with unsupported types: ['_split_overlap']. Only str, int, bool, and List[str] are supported. The values of these fields will be discarded.\n",
            "WARNING:haystack_integrations.document_stores.pinecone.document_store:Document 7f7c673ee10d70bb2207b809179f000d34aba4e239111c8eccb92756998c489f has metadata fields with unsupported types: ['_split_overlap']. Only str, int, bool, and List[str] are supported. The values of these fields will be discarded.\n",
            "WARNING:haystack_integrations.document_stores.pinecone.document_store:Document e86034d3f297dcd50131e9a4ca2c47430f1f1db70d7ecc953796c5216b38dca4 has metadata fields with unsupported types: ['_split_overlap']. Only str, int, bool, and List[str] are supported. The values of these fields will be discarded.\n",
            "WARNING:haystack_integrations.document_stores.pinecone.document_store:Document 165267c41b2a214aecbff7ad6230ea9ec1271527b3d4e5758aff48de32487e6f has metadata fields with unsupported types: ['_split_overlap']. Only str, int, bool, and List[str] are supported. The values of these fields will be discarded.\n",
            "WARNING:haystack_integrations.document_stores.pinecone.document_store:Document b87058c91c9c9ca09986d123e9feaab2142dbc5e628150dde56f55effbe0ef3a has metadata fields with unsupported types: ['_split_overlap']. Only str, int, bool, and List[str] are supported. The values of these fields will be discarded.\n",
            "WARNING:haystack_integrations.document_stores.pinecone.document_store:Document f4e7d2d45ea8720386fd5256125b73acbb4cf0b8e4ac447eed89a4cff1f10177 has metadata fields with unsupported types: ['_split_overlap']. Only str, int, bool, and List[str] are supported. The values of these fields will be discarded.\n",
            "WARNING:haystack_integrations.document_stores.pinecone.document_store:Document d47bf1eff0bd75c3fd0627d728a1c6650c21bd8b5cb4d723388c8f03688c48f5 has metadata fields with unsupported types: ['_split_overlap']. Only str, int, bool, and List[str] are supported. The values of these fields will be discarded.\n",
            "WARNING:haystack_integrations.document_stores.pinecone.document_store:Document 574a0e67fd494ba8ae1b9d381ec42a68e07e76966734836c73005f4895e3e03f has metadata fields with unsupported types: ['_split_overlap']. Only str, int, bool, and List[str] are supported. The values of these fields will be discarded.\n",
            "WARNING:haystack_integrations.document_stores.pinecone.document_store:Document 24e33ef5786ae6d89a8d9e1e14557fa285915951dac59c6f08d033acf8ac4a38 has metadata fields with unsupported types: ['_split_overlap']. Only str, int, bool, and List[str] are supported. The values of these fields will be discarded.\n",
            "WARNING:haystack_integrations.document_stores.pinecone.document_store:Document da693e7339d4f0a96cc5bfd41fcfc101f61634743387e876843d3a8712510a22 has metadata fields with unsupported types: ['_split_overlap']. Only str, int, bool, and List[str] are supported. The values of these fields will be discarded.\n",
            "WARNING:haystack_integrations.document_stores.pinecone.document_store:Document 2f4d384fd7228559407230619ed161e2e3d53b506b7468bd0f7db1bbb52c693f has metadata fields with unsupported types: ['_split_overlap']. Only str, int, bool, and List[str] are supported. The values of these fields will be discarded.\n",
            "WARNING:haystack_integrations.document_stores.pinecone.document_store:Document a7e9563344a66f2f92129c889975a07ea69d979005ec6ff4745ecd4f5c8d542c has metadata fields with unsupported types: ['_split_overlap']. Only str, int, bool, and List[str] are supported. The values of these fields will be discarded.\n",
            "WARNING:haystack_integrations.document_stores.pinecone.document_store:Document ece3704d69d58102cc490b6cbbc085c0080673f0f30b9f2da1acd316faed9f85 has metadata fields with unsupported types: ['_split_overlap']. Only str, int, bool, and List[str] are supported. The values of these fields will be discarded.\n",
            "WARNING:haystack_integrations.document_stores.pinecone.document_store:Document a659a64a3663d393f39678db462f2710c2c35a5028c2c5561899560e4c296f3a has metadata fields with unsupported types: ['_split_overlap']. Only str, int, bool, and List[str] are supported. The values of these fields will be discarded.\n",
            "WARNING:haystack_integrations.document_stores.pinecone.document_store:Document 965cede2747db2dce8cca5527013d6bbda63c540741880b9b27714574ec22b82 has metadata fields with unsupported types: ['_split_overlap']. Only str, int, bool, and List[str] are supported. The values of these fields will be discarded.\n",
            "WARNING:haystack_integrations.document_stores.pinecone.document_store:Document 439168377f067b1f821af47ce816fbc986915b706694de3e2ad7cf87b911d6e1 has metadata fields with unsupported types: ['_split_overlap']. Only str, int, bool, and List[str] are supported. The values of these fields will be discarded.\n",
            "WARNING:haystack_integrations.document_stores.pinecone.document_store:Document 92999eab0531995603bfb3b6c0bac2625c977358175442628c55c03588226fe7 has metadata fields with unsupported types: ['_split_overlap']. Only str, int, bool, and List[str] are supported. The values of these fields will be discarded.\n",
            "WARNING:haystack_integrations.document_stores.pinecone.document_store:Document df23714b3292a19dbc22b5815478872d306a29cd1d80dbfa9be505c5b78a7dd2 has metadata fields with unsupported types: ['_split_overlap']. Only str, int, bool, and List[str] are supported. The values of these fields will be discarded.\n",
            "WARNING:haystack_integrations.document_stores.pinecone.document_store:Document 65cc0dc465416863c6f21d7c3c5e444d91a312e30d19ffa64c23c566fcf1e762 has metadata fields with unsupported types: ['_split_overlap']. Only str, int, bool, and List[str] are supported. The values of these fields will be discarded.\n",
            "WARNING:haystack_integrations.document_stores.pinecone.document_store:Document ed6aa830cd583e3c263f21949768378086e70e109006878e0689ddc6b49bff80 has metadata fields with unsupported types: ['_split_overlap']. Only str, int, bool, and List[str] are supported. The values of these fields will be discarded.\n",
            "WARNING:haystack_integrations.document_stores.pinecone.document_store:Document 6db5eed38f34feca6f66cfa7444babd57537efd931a63d67085b30427be9217d has metadata fields with unsupported types: ['_split_overlap']. Only str, int, bool, and List[str] are supported. The values of these fields will be discarded.\n",
            "WARNING:haystack_integrations.document_stores.pinecone.document_store:Document 8514e080ec40ba066f105499158b97c2b645a828468e6e0cf920bce197768da0 has metadata fields with unsupported types: ['_split_overlap']. Only str, int, bool, and List[str] are supported. The values of these fields will be discarded.\n",
            "WARNING:haystack_integrations.document_stores.pinecone.document_store:Document fc6e00ef5593826b7899850739655238e7240026aeeb34d7d2f21a9edc44f6da has metadata fields with unsupported types: ['_split_overlap']. Only str, int, bool, and List[str] are supported. The values of these fields will be discarded.\n",
            "WARNING:haystack_integrations.document_stores.pinecone.document_store:Document a748ef79d2095adf99f332bdc93e9429964523a2107f10a91204524e9445307f has metadata fields with unsupported types: ['_split_overlap']. Only str, int, bool, and List[str] are supported. The values of these fields will be discarded.\n",
            "WARNING:haystack_integrations.document_stores.pinecone.document_store:Document e640b403be66615dc520364ee0821b5726dca1ce8db911c3abd65d4b998b75f6 has metadata fields with unsupported types: ['_split_overlap']. Only str, int, bool, and List[str] are supported. The values of these fields will be discarded.\n",
            "WARNING:haystack_integrations.document_stores.pinecone.document_store:Document 119385d9a1df70e2957a8732b130cea8098cda2d1b678fd885c897d476053b80 has metadata fields with unsupported types: ['_split_overlap']. Only str, int, bool, and List[str] are supported. The values of these fields will be discarded.\n",
            "WARNING:haystack_integrations.document_stores.pinecone.document_store:Document 95f8ff0534a57fd91a90dc6b8b33cc5a3a97c0539dd71ce18fa668bc276cead5 has metadata fields with unsupported types: ['_split_overlap']. Only str, int, bool, and List[str] are supported. The values of these fields will be discarded.\n",
            "WARNING:haystack_integrations.document_stores.pinecone.document_store:Document 278cfb6346638e394a268c67298b97ae97088028f977815b27b5c3dac3b40e4a has metadata fields with unsupported types: ['_split_overlap']. Only str, int, bool, and List[str] are supported. The values of these fields will be discarded.\n",
            "WARNING:haystack_integrations.document_stores.pinecone.document_store:Document 3d18c21f792e041f209c719aaa3f373d36fc2c4fc2b568763d03dcdf0be29246 has metadata fields with unsupported types: ['_split_overlap']. Only str, int, bool, and List[str] are supported. The values of these fields will be discarded.\n",
            "WARNING:haystack_integrations.document_stores.pinecone.document_store:Document 3dd3e37e4db0d4970c9b525b30edb3892524e5fc7cd436cd4fec366c834ed141 has metadata fields with unsupported types: ['_split_overlap']. Only str, int, bool, and List[str] are supported. The values of these fields will be discarded.\n",
            "WARNING:haystack_integrations.document_stores.pinecone.document_store:Document 59c24ad73ff77f219fff66f8feb24f3d9879d5b86b9d954f6ea5aedcfcc48c81 has metadata fields with unsupported types: ['_split_overlap']. Only str, int, bool, and List[str] are supported. The values of these fields will be discarded.\n",
            "WARNING:haystack_integrations.document_stores.pinecone.document_store:Document 501b1dcca36b2b09ebde87fe76f9fde7fb2054c91b769c4161ce157d52c1f371 has metadata fields with unsupported types: ['_split_overlap']. Only str, int, bool, and List[str] are supported. The values of these fields will be discarded.\n",
            "WARNING:haystack_integrations.document_stores.pinecone.document_store:Document 35d320bb7336b1f21c056fbb09a84cdb0178edfe6afcaa3488daf027cda5cbe9 has metadata fields with unsupported types: ['_split_overlap']. Only str, int, bool, and List[str] are supported. The values of these fields will be discarded.\n",
            "WARNING:haystack_integrations.document_stores.pinecone.document_store:Document 89f516cff931dc5583f11a1c8b4894cbedfa1227d5792022f1755da5c198707c has metadata fields with unsupported types: ['_split_overlap']. Only str, int, bool, and List[str] are supported. The values of these fields will be discarded.\n",
            "WARNING:haystack_integrations.document_stores.pinecone.document_store:Document 249e5b49bad3f8b5c04bbf42ed86036864f1be6d6003a7866e7b254ff27909e9 has metadata fields with unsupported types: ['_split_overlap']. Only str, int, bool, and List[str] are supported. The values of these fields will be discarded.\n",
            "WARNING:haystack_integrations.document_stores.pinecone.document_store:Document 21c3ff9069e94414ef5eeb0b0df850fe0174c8919a2aef3c18034f0b1210f444 has metadata fields with unsupported types: ['_split_overlap']. Only str, int, bool, and List[str] are supported. The values of these fields will be discarded.\n",
            "WARNING:haystack_integrations.document_stores.pinecone.document_store:Document b3e413716799f97ab224e6c063c0c7675e064f65e2c8c4b247ec622e1e32eb76 has metadata fields with unsupported types: ['_split_overlap']. Only str, int, bool, and List[str] are supported. The values of these fields will be discarded.\n",
            "WARNING:haystack_integrations.document_stores.pinecone.document_store:Document 04d3efa6406e66b6f8c59692054b42c38bef6313dc163ab4d69805da81b2a9ce has metadata fields with unsupported types: ['_split_overlap']. Only str, int, bool, and List[str] are supported. The values of these fields will be discarded.\n",
            "WARNING:haystack_integrations.document_stores.pinecone.document_store:Document e04fc653c20c3b76dde52b442845f816f046edf167ec1f111e83758a6893b607 has metadata fields with unsupported types: ['_split_overlap']. Only str, int, bool, and List[str] are supported. The values of these fields will be discarded.\n",
            "WARNING:haystack_integrations.document_stores.pinecone.document_store:Document 9d5d256fa6d5538e60edb6640bb017d7a7277da9a3a7abed05a1630d0d5d0f65 has metadata fields with unsupported types: ['_split_overlap']. Only str, int, bool, and List[str] are supported. The values of these fields will be discarded.\n",
            "WARNING:haystack_integrations.document_stores.pinecone.document_store:Document 18130230cc98547f7ef065ff3d5c22208f4e198d671850b22a19b52f8e66f6d0 has metadata fields with unsupported types: ['_split_overlap']. Only str, int, bool, and List[str] are supported. The values of these fields will be discarded.\n",
            "WARNING:haystack_integrations.document_stores.pinecone.document_store:Document 87f2a632e08662b092e11aced404c5dfb886af80a0077ab8a08e8059e05e4ed2 has metadata fields with unsupported types: ['_split_overlap']. Only str, int, bool, and List[str] are supported. The values of these fields will be discarded.\n",
            "WARNING:haystack_integrations.document_stores.pinecone.document_store:Document 3d051609dbd36824ff2be1296936d7651c68f185eb1a144f94b48415fa3fdc7f has metadata fields with unsupported types: ['_split_overlap']. Only str, int, bool, and List[str] are supported. The values of these fields will be discarded.\n",
            "WARNING:haystack_integrations.document_stores.pinecone.document_store:Document 760377005eba14e07875745b89e57ce51693d3930185c101149e712069f206e3 has metadata fields with unsupported types: ['_split_overlap']. Only str, int, bool, and List[str] are supported. The values of these fields will be discarded.\n",
            "WARNING:haystack_integrations.document_stores.pinecone.document_store:Document 76221d4223a4e9e100c2b059b35d162a6ffb2ec8940f45480a56482961555c49 has metadata fields with unsupported types: ['_split_overlap']. Only str, int, bool, and List[str] are supported. The values of these fields will be discarded.\n",
            "WARNING:haystack_integrations.document_stores.pinecone.document_store:Document ac67443ea6c25915ccf155b1478434a6113b5168e0c45da64d90f7aa98c2e2a2 has metadata fields with unsupported types: ['_split_overlap']. Only str, int, bool, and List[str] are supported. The values of these fields will be discarded.\n",
            "WARNING:haystack_integrations.document_stores.pinecone.document_store:Document b73d824ed6a7aa2f0611d11c1a094a957e28b6a29215377f3edd9e2ba4fb741e has metadata fields with unsupported types: ['_split_overlap']. Only str, int, bool, and List[str] are supported. The values of these fields will be discarded.\n",
            "WARNING:haystack_integrations.document_stores.pinecone.document_store:Document 84ef63225cf2213074ddaa4324b4e9e9a4e07ae6facecbf89c0e00efdc0928f1 has metadata fields with unsupported types: ['_split_overlap']. Only str, int, bool, and List[str] are supported. The values of these fields will be discarded.\n",
            "WARNING:haystack_integrations.document_stores.pinecone.document_store:Document 4b31136d2cf7de41f667c6bc7d1685677d6b5ad03916150cc35a3194a8ed7941 has metadata fields with unsupported types: ['_split_overlap']. Only str, int, bool, and List[str] are supported. The values of these fields will be discarded.\n",
            "WARNING:haystack_integrations.document_stores.pinecone.document_store:Document 64e4801eecd26cb226af42a2ac760063fd5532fc565da887f19af36084114329 has metadata fields with unsupported types: ['_split_overlap']. Only str, int, bool, and List[str] are supported. The values of these fields will be discarded.\n",
            "WARNING:haystack_integrations.document_stores.pinecone.document_store:Document 13fe1d3797f6ef9c7a0472f948dfdfb8163e622cc00c87caded21083a9718a41 has metadata fields with unsupported types: ['_split_overlap']. Only str, int, bool, and List[str] are supported. The values of these fields will be discarded.\n",
            "WARNING:haystack_integrations.document_stores.pinecone.document_store:Document fa1e2066e42d0b5de74bcf444eed307d32daf404ab5f1b8a8e553ecdea810c3a has metadata fields with unsupported types: ['_split_overlap']. Only str, int, bool, and List[str] are supported. The values of these fields will be discarded.\n",
            "WARNING:haystack_integrations.document_stores.pinecone.document_store:Document 199382a647c0841b5c54df8bdd4e7d02df5a773ab9abf395f9377f6dec526b61 has metadata fields with unsupported types: ['_split_overlap']. Only str, int, bool, and List[str] are supported. The values of these fields will be discarded.\n",
            "WARNING:haystack_integrations.document_stores.pinecone.document_store:Document d228d241d35901cd26df4097fc48c0c15de97ee2e4e7b98c9064cd752ea057b4 has metadata fields with unsupported types: ['_split_overlap']. Only str, int, bool, and List[str] are supported. The values of these fields will be discarded.\n",
            "WARNING:haystack_integrations.document_stores.pinecone.document_store:Document 94ec2a8c8361a2b13edaf5f9037cf281e7c847eb6da69bba5951cae7276db6e7 has metadata fields with unsupported types: ['_split_overlap']. Only str, int, bool, and List[str] are supported. The values of these fields will be discarded.\n",
            "WARNING:haystack_integrations.document_stores.pinecone.document_store:Document b17a016cda284c57f56721e0873f5598b5e32ad29391d639b7b2d820d3520a36 has metadata fields with unsupported types: ['_split_overlap']. Only str, int, bool, and List[str] are supported. The values of these fields will be discarded.\n",
            "WARNING:haystack_integrations.document_stores.pinecone.document_store:Document 44bd3948959aa09d04f8f2657f8ea44dc22015374ade65dfaf4d898f84ab7d51 has metadata fields with unsupported types: ['_split_overlap']. Only str, int, bool, and List[str] are supported. The values of these fields will be discarded.\n",
            "WARNING:haystack_integrations.document_stores.pinecone.document_store:Document 9807915f4dfe4a7bdd6d19e83f1328cdf4c9ff3bbf6e09d167edbf831aba86c7 has metadata fields with unsupported types: ['_split_overlap']. Only str, int, bool, and List[str] are supported. The values of these fields will be discarded.\n",
            "WARNING:haystack_integrations.document_stores.pinecone.document_store:Document 852c4ea2a54af6b164246e0e112890c227879c2fbf753615f0ad4c40090a5e2a has metadata fields with unsupported types: ['_split_overlap']. Only str, int, bool, and List[str] are supported. The values of these fields will be discarded.\n",
            "WARNING:haystack_integrations.document_stores.pinecone.document_store:Document e9d16295ac8c51d1cefc27e648ec6a2a5e2352be7d6f348effd19cdcbad1befe has metadata fields with unsupported types: ['_split_overlap']. Only str, int, bool, and List[str] are supported. The values of these fields will be discarded.\n",
            "WARNING:haystack_integrations.document_stores.pinecone.document_store:Document 9cee3cce2acdfdc8897178ec7af9221156179a55f25581faaee738bf35406b7f has metadata fields with unsupported types: ['_split_overlap']. Only str, int, bool, and List[str] are supported. The values of these fields will be discarded.\n",
            "WARNING:haystack_integrations.document_stores.pinecone.document_store:Document 1e336e370fde1f2d015f8386ec9bd1b2c027a6eaf97cfdcb272840e961874857 has metadata fields with unsupported types: ['_split_overlap']. Only str, int, bool, and List[str] are supported. The values of these fields will be discarded.\n",
            "WARNING:haystack_integrations.document_stores.pinecone.document_store:Document 3558424cc6496d44affe817dc6ac1c651174b6bc9990898e4973f0ba8e5ae0bf has metadata fields with unsupported types: ['_split_overlap']. Only str, int, bool, and List[str] are supported. The values of these fields will be discarded.\n",
            "WARNING:haystack_integrations.document_stores.pinecone.document_store:Document fbdcb1e043a7907d6594b64ef523f3429a400253bb37072c3d78a49dad0ab67d has metadata fields with unsupported types: ['_split_overlap']. Only str, int, bool, and List[str] are supported. The values of these fields will be discarded.\n",
            "WARNING:haystack_integrations.document_stores.pinecone.document_store:Document d7e2bf1d971bec4959ae636c6301c6202c4f693799899a84d5451d4c84790368 has metadata fields with unsupported types: ['_split_overlap']. Only str, int, bool, and List[str] are supported. The values of these fields will be discarded.\n",
            "WARNING:haystack_integrations.document_stores.pinecone.document_store:Document d5de0c31551d64cf3840e53b2473f12b77843d750f5335ddadf88566540ecb1d has metadata fields with unsupported types: ['_split_overlap']. Only str, int, bool, and List[str] are supported. The values of these fields will be discarded.\n",
            "WARNING:haystack_integrations.document_stores.pinecone.document_store:Document 4c4551b79cdc2626b7ac1e19f9fc1275f0f9a621dac2db6b3c8ddffea0d3c5ee has metadata fields with unsupported types: ['_split_overlap']. Only str, int, bool, and List[str] are supported. The values of these fields will be discarded.\n",
            "WARNING:haystack_integrations.document_stores.pinecone.document_store:Document c256e25c548f172855522eaa9080b50c1fb707868b0793a838d989d5bf1804e5 has metadata fields with unsupported types: ['_split_overlap']. Only str, int, bool, and List[str] are supported. The values of these fields will be discarded.\n",
            "WARNING:haystack_integrations.document_stores.pinecone.document_store:Document 80f9451485145c42bd4335cc4a6cb66be40f3e0b2d979d454ec51664deb6c72a has metadata fields with unsupported types: ['_split_overlap']. Only str, int, bool, and List[str] are supported. The values of these fields will be discarded.\n",
            "WARNING:haystack_integrations.document_stores.pinecone.document_store:Document 02cb05a5c327ca40f7709668fe63402821b9936dd3196a1ef9bae68647923afb has metadata fields with unsupported types: ['_split_overlap']. Only str, int, bool, and List[str] are supported. The values of these fields will be discarded.\n",
            "WARNING:haystack_integrations.document_stores.pinecone.document_store:Document daae4818fe4b4cbafb9397c6b74cd27befeef22cd9779c01f1a61694bfbceba7 has metadata fields with unsupported types: ['_split_overlap']. Only str, int, bool, and List[str] are supported. The values of these fields will be discarded.\n"
          ]
        },
        {
          "output_type": "display_data",
          "data": {
            "text/plain": [
              "Upserted vectors:   0%|          | 0/221 [00:00<?, ?it/s]"
            ],
            "application/vnd.jupyter.widget-view+json": {
              "version_major": 2,
              "version_minor": 0,
              "model_id": "43d06898167a40f7ad18ff1114c97e85"
            }
          },
          "metadata": {}
        },
        {
          "output_type": "display_data",
          "data": {
            "image/png": "[encoded data removed]",
            "text/plain": [
              "<IPython.core.display.Image object>"
            ]
          },
          "metadata": {}
        }
      ],
      "source": [
        "from pathlib import Path\n",
        "\n",
        "preprocessing_pipeline.run(data = {\"document_joiner\": { \"documents\" : ready_list }})\n",
        "# preprocessing_pipeline.inputs()\n",
        "preprocessing_pipeline.show()"
      ]
    },
    {
      "cell_type": "markdown",
      "id": "9eae0c4f1384253e",
      "metadata": {
        "collapsed": false,
        "id": "9eae0c4f1384253e"
      },
      "source": [
        "## Test RAG with Pinecone Document Store"
      ]
    },
    {
      "cell_type": "markdown",
      "id": "75a635b2d20f0142",
      "metadata": {
        "collapsed": false,
        "id": "75a635b2d20f0142"
      },
      "source": [
        "Restart the kernel and run the following code to test the RAG pipeline with the populated Pinecone Document Store."
      ]
    },
    {
      "cell_type": "markdown",
      "id": "65f24295",
      "metadata": {
        "id": "65f24295"
      },
      "source": [
        "Initialize Pinecone"
      ]
    },
    {
      "cell_type": "markdown",
      "id": "2e9a81cd",
      "metadata": {
        "id": "2e9a81cd"
      },
      "source": [
        "Prepare pipeline components"
      ]
    },
    {
      "cell_type": "markdown",
      "id": "58ebaae516e5343c",
      "metadata": {
        "collapsed": false,
        "id": "58ebaae516e5343c"
      },
      "source": [
        "Create pipeline to run a query"
      ]
    },
    {
      "cell_type": "code",
      "execution_count": null,
      "id": "1b38c8ef5aacfe0",
      "metadata": {
        "id": "1b38c8ef5aacfe0"
      },
      "outputs": [],
      "source": [
        "from haystack.components.embedders import SentenceTransformersDocumentEmbedder, SentenceTransformersTextEmbedder\n",
        "from haystack_integrations.components.retrievers.pinecone import PineconeEmbeddingRetriever\n",
        "from haystack.components.generators import OpenAIGenerator\n",
        "from haystack.components.builders.answer_builder import AnswerBuilder\n",
        "from haystack.components.builders.prompt_builder import PromptBuilder\n",
        "from haystack import Pipeline\n",
        "\n",
        "template = \"\"\"\n",
        "    Given these documents, answer the question.\\nDocuments:\n",
        "    {% for doc in documents %}\n",
        "        {{ doc.content }}\n",
        "    {% endfor %}\n",
        "\n",
        "    \\nQuestion: {{question}}\n",
        "    \\nAnswer:\n",
        "\"\"\"\n",
        "\n",
        "document_embedder = SentenceTransformersDocumentEmbedder(model=\"sentence-transformers/all-MiniLM-L6-v2\")\n",
        "text_embedder = SentenceTransformersTextEmbedder(model=\"sentence-transformers/all-MiniLM-L6-v2\")\n",
        "retriever = PineconeEmbeddingRetriever(document_store=document_store)\n",
        "generator = OpenAIGenerator()\n",
        "answer_builder = AnswerBuilder()\n",
        "prompt_builder = PromptBuilder(template=template)\n",
        "\n",
        "rag_pipeline = Pipeline()\n",
        "rag_pipeline.add_component(\"text_embedder\", text_embedder)\n",
        "rag_pipeline.add_component(\"retriever\", retriever)\n",
        "rag_pipeline.add_component(\"prompt_builder\", prompt_builder)\n",
        "rag_pipeline.add_component(\"llm\", generator)\n",
        "rag_pipeline.add_component(\"answer_builder\", answer_builder)\n",
        "\n",
        "rag_pipeline.connect(\"text_embedder.embedding\", \"retriever.query_embedding\")\n",
        "rag_pipeline.connect(\"retriever\", \"prompt_builder.documents\")\n",
        "rag_pipeline.connect(\"prompt_builder\", \"llm\")\n",
        "rag_pipeline.connect(\"llm.replies\", \"answer_builder.replies\")\n",
        "rag_pipeline.connect(\"retriever\", \"answer_builder.documents\")"
      ]
    },
    {
      "cell_type": "markdown",
      "id": "f7c6c62a9fa033a1",
      "metadata": {
        "collapsed": false,
        "id": "f7c6c62a9fa033a1"
      },
      "source": [
        "Run the pipeline with a query"
      ]
    },
    {
      "cell_type": "code",
      "execution_count": null,
      "id": "d066fdea1ddd46d3",
      "metadata": {
        "id": "d066fdea1ddd46d3"
      },
      "outputs": [],
      "source": [
        "# query = \"Generate full documentation of DataAnalyzer project\"\n",
        "query = \"Show me new changes from changelog\"\n",
        "result = rag_pipeline.run({\n",
        "    \"text_embedder\": {\"text\": query},\n",
        "    \"prompt_builder\": {\"question\": query},\n",
        "    \"answer_builder\": {\"query\": query}\n",
        "})\n",
        "\n",
        "print(result['answer_builder']['answers'][0].query)\n",
        "print(result['answer_builder']['answers'][0].data)\n",
        "print(result['answer_builder']['answers'][0].documents)\n",
        "\n",
        "with open(\"output.md\", \"w\") as f:\n",
        "    f.write(result['answer_builder']['answers'][0].data)"
      ]
    }
  ],
  "metadata": {
    "colab": {
      "provenance": [],
      "include_colab_link": true
    },
    "kernelspec": {
      "display_name": "Python 3",
      "language": "python",
      "name": "python3"
    },
    "language_info": {
      "codemirror_mode": {
        "name": "ipython",
        "version": 2
      },
      "file_extension": ".py",
      "mimetype": "text/x-python",
      "name": "python",
      "nbconvert_exporter": "python",
      "pygments_lexer": "ipython2",
      "version": "2.7.6"
    },
    "widgets": {
      "application/vnd.jupyter.widget-state+json": {
        "57c824bb5a714c89b4f9a238f6d5377e": {
          "model_module": "@jupyter-widgets/controls",
          "model_name": "HBoxModel",
          "model_module_version": "1.5.0",
          "state": {
            "_dom_classes": [],
            "_model_module": "@jupyter-widgets/controls",
            "_model_module_version": "1.5.0",
            "_model_name": "HBoxModel",
            "_view_count": null,
            "_view_module": "@jupyter-widgets/controls",
            "_view_module_version": "1.5.0",
            "_view_name": "HBoxView",
            "box_style": "",
            "children": [
              "IPY_MODEL_5cfc43e812b64f12a2dac1325b224736",
              "IPY_MODEL_8d1fb253927348abb7bd014636a3c0af",
              "IPY_MODEL_1eee15fcbeed45cab7c61bccb83739f6"
            ],
            "layout": "IPY_MODEL_e0e5f2bb922547c58ab7edf6b7974e6c"
          }
        },
        "5cfc43e812b64f12a2dac1325b224736": {
          "model_module": "@jupyter-widgets/controls",
          "model_name": "HTMLModel",
          "model_module_version": "1.5.0",
          "state": {
            "_dom_classes": [],
            "_model_module": "@jupyter-widgets/controls",
            "_model_module_version": "1.5.0",
            "_model_name": "HTMLModel",
            "_view_count": null,
            "_view_module": "@jupyter-widgets/controls",
            "_view_module_version": "1.5.0",
            "_view_name": "HTMLView",
            "description": "",
            "description_tooltip": null,
            "layout": "IPY_MODEL_6bf2372b69ca493a883350b30820497e",
            "placeholder": "​",
            "style": "IPY_MODEL_1b8f585ca5864599a0d3733f64d192ed",
            "value": "Batches: 100%"
          }
        },
        "8d1fb253927348abb7bd014636a3c0af": {
          "model_module": "@jupyter-widgets/controls",
          "model_name": "FloatProgressModel",
          "model_module_version": "1.5.0",
          "state": {
            "_dom_classes": [],
            "_model_module": "@jupyter-widgets/controls",
            "_model_module_version": "1.5.0",
            "_model_name": "FloatProgressModel",
            "_view_count": null,
            "_view_module": "@jupyter-widgets/controls",
            "_view_module_version": "1.5.0",
            "_view_name": "ProgressView",
            "bar_style": "success",
            "description": "",
            "description_tooltip": null,
            "layout": "IPY_MODEL_7bf078cf265c45eb9dc9b168207a348f",
            "max": 7,
            "min": 0,
            "orientation": "horizontal",
            "style": "IPY_MODEL_73ea37dd01e74727955f6c5a3e0c5a28",
            "value": 7
          }
        },
        "1eee15fcbeed45cab7c61bccb83739f6": {
          "model_module": "@jupyter-widgets/controls",
          "model_name": "HTMLModel",
          "model_module_version": "1.5.0",
          "state": {
            "_dom_classes": [],
            "_model_module": "@jupyter-widgets/controls",
            "_model_module_version": "1.5.0",
            "_model_name": "HTMLModel",
            "_view_count": null,
            "_view_module": "@jupyter-widgets/controls",
            "_view_module_version": "1.5.0",
            "_view_name": "HTMLView",
            "description": "",
            "description_tooltip": null,
            "layout": "IPY_MODEL_fe3ac48e84644c0f97af0a0507116c0a",
            "placeholder": "​",
            "style": "IPY_MODEL_6fd4455d503646e9ad845f7f3cc55b4d",
            "value": " 7/7 [00:30&lt;00:00,  3.44s/it]"
          }
        },
        "e0e5f2bb922547c58ab7edf6b7974e6c": {
          "model_module": "@jupyter-widgets/base",
          "model_name": "LayoutModel",
          "model_module_version": "1.2.0",
          "state": {
            "_model_module": "@jupyter-widgets/base",
            "_model_module_version": "1.2.0",
            "_model_name": "LayoutModel",
            "_view_count": null,
            "_view_module": "@jupyter-widgets/base",
            "_view_module_version": "1.2.0",
            "_view_name": "LayoutView",
            "align_content": null,
            "align_items": null,
            "align_self": null,
            "border": null,
            "bottom": null,
            "display": null,
            "flex": null,
            "flex_flow": null,
            "grid_area": null,
            "grid_auto_columns": null,
            "grid_auto_flow": null,
            "grid_auto_rows": null,
            "grid_column": null,
            "grid_gap": null,
            "grid_row": null,
            "grid_template_areas": null,
            "grid_template_columns": null,
            "grid_template_rows": null,
            "height": null,
            "justify_content": null,
            "justify_items": null,
            "left": null,
            "margin": null,
            "max_height": null,
            "max_width": null,
            "min_height": null,
            "min_width": null,
            "object_fit": null,
            "object_position": null,
            "order": null,
            "overflow": null,
            "overflow_x": null,
            "overflow_y": null,
            "padding": null,
            "right": null,
            "top": null,
            "visibility": null,
            "width": null
          }
        },
        "6bf2372b69ca493a883350b30820497e": {
          "model_module": "@jupyter-widgets/base",
          "model_name": "LayoutModel",
          "model_module_version": "1.2.0",
          "state": {
            "_model_module": "@jupyter-widgets/base",
            "_model_module_version": "1.2.0",
            "_model_name": "LayoutModel",
            "_view_count": null,
            "_view_module": "@jupyter-widgets/base",
            "_view_module_version": "1.2.0",
            "_view_name": "LayoutView",
            "align_content": null,
            "align_items": null,
            "align_self": null,
            "border": null,
            "bottom": null,
            "display": null,
            "flex": null,
            "flex_flow": null,
            "grid_area": null,
            "grid_auto_columns": null,
            "grid_auto_flow": null,
            "grid_auto_rows": null,
            "grid_column": null,
            "grid_gap": null,
            "grid_row": null,
            "grid_template_areas": null,
            "grid_template_columns": null,
            "grid_template_rows": null,
            "height": null,
            "justify_content": null,
            "justify_items": null,
            "left": null,
            "margin": null,
            "max_height": null,
            "max_width": null,
            "min_height": null,
            "min_width": null,
            "object_fit": null,
            "object_position": null,
            "order": null,
            "overflow": null,
            "overflow_x": null,
            "overflow_y": null,
            "padding": null,
            "right": null,
            "top": null,
            "visibility": null,
            "width": null
          }
        },
        "1b8f585ca5864599a0d3733f64d192ed": {
          "model_module": "@jupyter-widgets/controls",
          "model_name": "DescriptionStyleModel",
          "model_module_version": "1.5.0",
          "state": {
            "_model_module": "@jupyter-widgets/controls",
            "_model_module_version": "1.5.0",
            "_model_name": "DescriptionStyleModel",
            "_view_count": null,
            "_view_module": "@jupyter-widgets/base",
            "_view_module_version": "1.2.0",
            "_view_name": "StyleView",
            "description_width": ""
          }
        },
        "7bf078cf265c45eb9dc9b168207a348f": {
          "model_module": "@jupyter-widgets/base",
          "model_name": "LayoutModel",
          "model_module_version": "1.2.0",
          "state": {
            "_model_module": "@jupyter-widgets/base",
            "_model_module_version": "1.2.0",
            "_model_name": "LayoutModel",
            "_view_count": null,
            "_view_module": "@jupyter-widgets/base",
            "_view_module_version": "1.2.0",
            "_view_name": "LayoutView",
            "align_content": null,
            "align_items": null,
            "align_self": null,
            "border": null,
            "bottom": null,
            "display": null,
            "flex": null,
            "flex_flow": null,
            "grid_area": null,
            "grid_auto_columns": null,
            "grid_auto_flow": null,
            "grid_auto_rows": null,
            "grid_column": null,
            "grid_gap": null,
            "grid_row": null,
            "grid_template_areas": null,
            "grid_template_columns": null,
            "grid_template_rows": null,
            "height": null,
            "justify_content": null,
            "justify_items": null,
            "left": null,
            "margin": null,
            "max_height": null,
            "max_width": null,
            "min_height": null,
            "min_width": null,
            "object_fit": null,
            "object_position": null,
            "order": null,
            "overflow": null,
            "overflow_x": null,
            "overflow_y": null,
            "padding": null,
            "right": null,
            "top": null,
            "visibility": null,
            "width": null
          }
        },
        "73ea37dd01e74727955f6c5a3e0c5a28": {
          "model_module": "@jupyter-widgets/controls",
          "model_name": "ProgressStyleModel",
          "model_module_version": "1.5.0",
          "state": {
            "_model_module": "@jupyter-widgets/controls",
            "_model_module_version": "1.5.0",
            "_model_name": "ProgressStyleModel",
            "_view_count": null,
            "_view_module": "@jupyter-widgets/base",
            "_view_module_version": "1.2.0",
            "_view_name": "StyleView",
            "bar_color": null,
            "description_width": ""
          }
        },
        "fe3ac48e84644c0f97af0a0507116c0a": {
          "model_module": "@jupyter-widgets/base",
          "model_name": "LayoutModel",
          "model_module_version": "1.2.0",
          "state": {
            "_model_module": "@jupyter-widgets/base",
            "_model_module_version": "1.2.0",
            "_model_name": "LayoutModel",
            "_view_count": null,
            "_view_module": "@jupyter-widgets/base",
            "_view_module_version": "1.2.0",
            "_view_name": "LayoutView",
            "align_content": null,
            "align_items": null,
            "align_self": null,
            "border": null,
            "bottom": null,
            "display": null,
            "flex": null,
            "flex_flow": null,
            "grid_area": null,
            "grid_auto_columns": null,
            "grid_auto_flow": null,
            "grid_auto_rows": null,
            "grid_column": null,
            "grid_gap": null,
            "grid_row": null,
            "grid_template_areas": null,
            "grid_template_columns": null,
            "grid_template_rows": null,
            "height": null,
            "justify_content": null,
            "justify_items": null,
            "left": null,
            "margin": null,
            "max_height": null,
            "max_width": null,
            "min_height": null,
            "min_width": null,
            "object_fit": null,
            "object_position": null,
            "order": null,
            "overflow": null,
            "overflow_x": null,
            "overflow_y": null,
            "padding": null,
            "right": null,
            "top": null,
            "visibility": null,
            "width": null
          }
        },
        "6fd4455d503646e9ad845f7f3cc55b4d": {
          "model_module": "@jupyter-widgets/controls",
          "model_name": "DescriptionStyleModel",
          "model_module_version": "1.5.0",
          "state": {
            "_model_module": "@jupyter-widgets/controls",
            "_model_module_version": "1.5.0",
            "_model_name": "DescriptionStyleModel",
            "_view_count": null,
            "_view_module": "@jupyter-widgets/base",
            "_view_module_version": "1.2.0",
            "_view_name": "StyleView",
            "description_width": ""
          }
        },
        "43d06898167a40f7ad18ff1114c97e85": {
          "model_module": "@jupyter-widgets/controls",
          "model_name": "HBoxModel",
          "model_module_version": "1.5.0",
          "state": {
            "_dom_classes": [],
            "_model_module": "@jupyter-widgets/controls",
            "_model_module_version": "1.5.0",
            "_model_name": "HBoxModel",
            "_view_count": null,
            "_view_module": "@jupyter-widgets/controls",
            "_view_module_version": "1.5.0",
            "_view_name": "HBoxView",
            "box_style": "",
            "children": [
              "IPY_MODEL_99bdf381bee045afb52ba516bbe11294",
              "IPY_MODEL_ba81b099821e4a328b98cb5c2ca0e4d5",
              "IPY_MODEL_409df05f29b646d8832b18df0c29ce26"
            ],
            "layout": "IPY_MODEL_1dded6d7c4104bb288b5c49a5b288fd1"
          }
        },
        "99bdf381bee045afb52ba516bbe11294": {
          "model_module": "@jupyter-widgets/controls",
          "model_name": "HTMLModel",
          "model_module_version": "1.5.0",
          "state": {
            "_dom_classes": [],
            "_model_module": "@jupyter-widgets/controls",
            "_model_module_version": "1.5.0",
            "_model_name": "HTMLModel",
            "_view_count": null,
            "_view_module": "@jupyter-widgets/controls",
            "_view_module_version": "1.5.0",
            "_view_name": "HTMLView",
            "description": "",
            "description_tooltip": null,
            "layout": "IPY_MODEL_603e7814842b4cb5bed3907e00662287",
            "placeholder": "​",
            "style": "IPY_MODEL_cd217ba5142a42dda8bff43c9b4b5ff7",
            "value": "Upserted vectors: 100%"
          }
        },
        "ba81b099821e4a328b98cb5c2ca0e4d5": {
          "model_module": "@jupyter-widgets/controls",
          "model_name": "FloatProgressModel",
          "model_module_version": "1.5.0",
          "state": {
            "_dom_classes": [],
            "_model_module": "@jupyter-widgets/controls",
            "_model_module_version": "1.5.0",
            "_model_name": "FloatProgressModel",
            "_view_count": null,
            "_view_module": "@jupyter-widgets/controls",
            "_view_module_version": "1.5.0",
            "_view_name": "ProgressView",
            "bar_style": "success",
            "description": "",
            "description_tooltip": null,
            "layout": "IPY_MODEL_fcfe7609a3854c698082d9fc1ec0dde9",
            "max": 221,
            "min": 0,
            "orientation": "horizontal",
            "style": "IPY_MODEL_2a2cb51c212d4f5b993b9bf0bbb79761",
            "value": 221
          }
        },
        "409df05f29b646d8832b18df0c29ce26": {
          "model_module": "@jupyter-widgets/controls",
          "model_name": "HTMLModel",
          "model_module_version": "1.5.0",
          "state": {
            "_dom_classes": [],
            "_model_module": "@jupyter-widgets/controls",
            "_model_module_version": "1.5.0",
            "_model_name": "HTMLModel",
            "_view_count": null,
            "_view_module": "@jupyter-widgets/controls",
            "_view_module_version": "1.5.0",
            "_view_name": "HTMLView",
            "description": "",
            "description_tooltip": null,
            "layout": "IPY_MODEL_1dd674ab392a4d6aa68c7cbbf9defdc9",
            "placeholder": "​",
            "style": "IPY_MODEL_df413bd0b21b45fb9b171ec605092477",
            "value": " 221/221 [03:07&lt;00:00, 127.42it/s]"
          }
        },
        "1dded6d7c4104bb288b5c49a5b288fd1": {
          "model_module": "@jupyter-widgets/base",
          "model_name": "LayoutModel",
          "model_module_version": "1.2.0",
          "state": {
            "_model_module": "@jupyter-widgets/base",
            "_model_module_version": "1.2.0",
            "_model_name": "LayoutModel",
            "_view_count": null,
            "_view_module": "@jupyter-widgets/base",
            "_view_module_version": "1.2.0",
            "_view_name": "LayoutView",
            "align_content": null,
            "align_items": null,
            "align_self": null,
            "border": null,
            "bottom": null,
            "display": null,
            "flex": null,
            "flex_flow": null,
            "grid_area": null,
            "grid_auto_columns": null,
            "grid_auto_flow": null,
            "grid_auto_rows": null,
            "grid_column": null,
            "grid_gap": null,
            "grid_row": null,
            "grid_template_areas": null,
            "grid_template_columns": null,
            "grid_template_rows": null,
            "height": null,
            "justify_content": null,
            "justify_items": null,
            "left": null,
            "margin": null,
            "max_height": null,
            "max_width": null,
            "min_height": null,
            "min_width": null,
            "object_fit": null,
            "object_position": null,
            "order": null,
            "overflow": null,
            "overflow_x": null,
            "overflow_y": null,
            "padding": null,
            "right": null,
            "top": null,
            "visibility": null,
            "width": null
          }
        },
        "603e7814842b4cb5bed3907e00662287": {
          "model_module": "@jupyter-widgets/base",
          "model_name": "LayoutModel",
          "model_module_version": "1.2.0",
          "state": {
            "_model_module": "@jupyter-widgets/base",
            "_model_module_version": "1.2.0",
            "_model_name": "LayoutModel",
            "_view_count": null,
            "_view_module": "@jupyter-widgets/base",
            "_view_module_version": "1.2.0",
            "_view_name": "LayoutView",
            "align_content": null,
            "align_items": null,
            "align_self": null,
            "border": null,
            "bottom": null,
            "display": null,
            "flex": null,
            "flex_flow": null,
            "grid_area": null,
            "grid_auto_columns": null,
            "grid_auto_flow": null,
            "grid_auto_rows": null,
            "grid_column": null,
            "grid_gap": null,
            "grid_row": null,
            "grid_template_areas": null,
            "grid_template_columns": null,
            "grid_template_rows": null,
            "height": null,
            "justify_content": null,
            "justify_items": null,
            "left": null,
            "margin": null,
            "max_height": null,
            "max_width": null,
            "min_height": null,
            "min_width": null,
            "object_fit": null,
            "object_position": null,
            "order": null,
            "overflow": null,
            "overflow_x": null,
            "overflow_y": null,
            "padding": null,
            "right": null,
            "top": null,
            "visibility": null,
            "width": null
          }
        },
        "cd217ba5142a42dda8bff43c9b4b5ff7": {
          "model_module": "@jupyter-widgets/controls",
          "model_name": "DescriptionStyleModel",
          "model_module_version": "1.5.0",
          "state": {
            "_model_module": "@jupyter-widgets/controls",
            "_model_module_version": "1.5.0",
            "_model_name": "DescriptionStyleModel",
            "_view_count": null,
            "_view_module": "@jupyter-widgets/base",
            "_view_module_version": "1.2.0",
            "_view_name": "StyleView",
            "description_width": ""
          }
        },
        "fcfe7609a3854c698082d9fc1ec0dde9": {
          "model_module": "@jupyter-widgets/base",
          "model_name": "LayoutModel",
          "model_module_version": "1.2.0",
          "state": {
            "_model_module": "@jupyter-widgets/base",
            "_model_module_version": "1.2.0",
            "_model_name": "LayoutModel",
            "_view_count": null,
            "_view_module": "@jupyter-widgets/base",
            "_view_module_version": "1.2.0",
            "_view_name": "LayoutView",
            "align_content": null,
            "align_items": null,
            "align_self": null,
            "border": null,
            "bottom": null,
            "display": null,
            "flex": null,
            "flex_flow": null,
            "grid_area": null,
            "grid_auto_columns": null,
            "grid_auto_flow": null,
            "grid_auto_rows": null,
            "grid_column": null,
            "grid_gap": null,
            "grid_row": null,
            "grid_template_areas": null,
            "grid_template_columns": null,
            "grid_template_rows": null,
            "height": null,
            "justify_content": null,
            "justify_items": null,
            "left": null,
            "margin": null,
            "max_height": null,
            "max_width": null,
            "min_height": null,
            "min_width": null,
            "object_fit": null,
            "object_position": null,
            "order": null,
            "overflow": null,
            "overflow_x": null,
            "overflow_y": null,
            "padding": null,
            "right": null,
            "top": null,
            "visibility": null,
            "width": null
          }
        },
        "2a2cb51c212d4f5b993b9bf0bbb79761": {
          "model_module": "@jupyter-widgets/controls",
          "model_name": "ProgressStyleModel",
          "model_module_version": "1.5.0",
          "state": {
            "_model_module": "@jupyter-widgets/controls",
            "_model_module_version": "1.5.0",
            "_model_name": "ProgressStyleModel",
            "_view_count": null,
            "_view_module": "@jupyter-widgets/base",
            "_view_module_version": "1.2.0",
            "_view_name": "StyleView",
            "bar_color": null,
            "description_width": ""
          }
        },
        "1dd674ab392a4d6aa68c7cbbf9defdc9": {
          "model_module": "@jupyter-widgets/base",
          "model_name": "LayoutModel",
          "model_module_version": "1.2.0",
          "state": {
            "_model_module": "@jupyter-widgets/base",
            "_model_module_version": "1.2.0",
            "_model_name": "LayoutModel",
            "_view_count": null,
            "_view_module": "@jupyter-widgets/base",
            "_view_module_version": "1.2.0",
            "_view_name": "LayoutView",
            "align_content": null,
            "align_items": null,
            "align_self": null,
            "border": null,
            "bottom": null,
            "display": null,
            "flex": null,
            "flex_flow": null,
            "grid_area": null,
            "grid_auto_columns": null,
            "grid_auto_flow": null,
            "grid_auto_rows": null,
            "grid_column": null,
            "grid_gap": null,
            "grid_row": null,
            "grid_template_areas": null,
            "grid_template_columns": null,
            "grid_template_rows": null,
            "height": null,
            "justify_content": null,
            "justify_items": null,
            "left": null,
            "margin": null,
            "max_height": null,
            "max_width": null,
            "min_height": null,
            "min_width": null,
            "object_fit": null,
            "object_position": null,
            "order": null,
            "overflow": null,
            "overflow_x": null,
            "overflow_y": null,
            "padding": null,
            "right": null,
            "top": null,
            "visibility": null,
            "width": null
          }
        },
        "df413bd0b21b45fb9b171ec605092477": {
          "model_module": "@jupyter-widgets/controls",
          "model_name": "DescriptionStyleModel",
          "model_module_version": "1.5.0",
          "state": {
            "_model_module": "@jupyter-widgets/controls",
            "_model_module_version": "1.5.0",
            "_model_name": "DescriptionStyleModel",
            "_view_count": null,
            "_view_module": "@jupyter-widgets/base",
            "_view_module_version": "1.2.0",
            "_view_name": "StyleView",
            "description_width": ""
          }
        }
      }
    }
  },
  "nbformat": 4,
  "nbformat_minor": 5
}