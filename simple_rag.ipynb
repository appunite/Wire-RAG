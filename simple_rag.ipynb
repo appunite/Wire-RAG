{
 "cells": [
  {
   "cell_type": "code",
   "execution_count": 1,
   "id": "initial_id",
   "metadata": {
    "collapsed": true,
    "ExecuteTime": {
     "end_time": "2024-09-16T12:34:16.609270Z",
     "start_time": "2024-09-16T12:34:16.216270Z"
    }
   },
   "outputs": [],
   "source": [
    "import openai\n",
    "from dotenv import load_dotenv\n",
    "import os\n",
    "\n",
    "# Load OpenAI API key from .env file\n",
    "load_dotenv()\n",
    "openai.api_key = os.getenv(\"OPENAI_API_KEY\")"
   ]
  },
  {
   "cell_type": "code",
   "outputs": [
    {
     "data": {
      "text/plain": "151"
     },
     "execution_count": 11,
     "metadata": {},
     "output_type": "execute_result"
    }
   ],
   "source": [
    "from datasets import load_dataset\n",
    "from haystack import Document\n",
    "from haystack.document_stores.in_memory import InMemoryDocumentStore\n",
    "from haystack.components.retrievers.in_memory import InMemoryBM25Retriever\n",
    "from haystack import Pipeline\n",
    "from haystack.components.generators import OpenAIGenerator\n",
    "from haystack.components.builders.answer_builder import AnswerBuilder\n",
    "from haystack.components.builders.prompt_builder import PromptBuilder\n",
    "\n",
    "\n",
    "# Create a RAG query pipeline\n",
    "prompt_template = \"\"\"\n",
    "    Given these documents, answer the question.\\nDocuments:\n",
    "    {% for doc in documents %}\n",
    "        {{ doc.content }}\n",
    "    {% endfor %}\n",
    "\n",
    "    \\nQuestion: {{question}}\n",
    "    \\nAnswer:\n",
    "\"\"\"\n",
    "\n",
    "rag_pipeline = Pipeline()\n",
    "rag_pipeline.add_component(instance=InMemoryBM25Retriever(document_store=InMemoryDocumentStore()), name=\"retriever\")\n",
    "rag_pipeline.add_component(instance=PromptBuilder(template=prompt_template), name=\"prompt_builder\")\n",
    "rag_pipeline.add_component(instance=OpenAIGenerator(), name=\"llm\")\n",
    "rag_pipeline.add_component(instance=AnswerBuilder(), name=\"answer_builder\")\n",
    "rag_pipeline.connect(\"retriever\", \"prompt_builder.documents\")\n",
    "rag_pipeline.connect(\"prompt_builder\", \"llm\")\n",
    "rag_pipeline.connect(\"llm.replies\", \"answer_builder.replies\")\n",
    "rag_pipeline.connect(\"retriever\", \"answer_builder.documents\")\n",
    "\n",
    "# Draw the pipeline\n",
    "rag_pipeline.draw(\"./rag_pipeline.png\")"
   ],
   "metadata": {
    "collapsed": false,
    "ExecuteTime": {
     "end_time": "2024-09-16T12:38:22.230891Z",
     "start_time": "2024-09-16T12:38:18.654859Z"
    }
   },
   "id": "e603ad7af0c2c66",
   "execution_count": 11
  },
  {
   "cell_type": "code",
   "outputs": [],
   "source": [
    "documents = [Document(content=\"There are over 7,000 languages spoken around the world today.\"),\n",
    "\t\t\t       Document(content=\"Elephants have been observed to behave in a way that indicates a high level of self-awareness, such as recognizing themselves in mirrors.\"),\n",
    "\t\t\t       Document(content=\"In certain parts of the world, like the Maldives, Puerto Rico, and San Diego, you can witness the phenomenon of bioluminescent waves.\")]\n",
    "rag_pipeline.get_component(\"retriever\").document_store.write_documents(documents)"
   ],
   "metadata": {
    "collapsed": false
   },
   "id": "fb9e055ba6593bf7"
  },
  {
   "cell_type": "code",
   "outputs": [
    {
     "name": "stdout",
     "output_type": "stream",
     "text": [
      "How many languages are there?\n",
      "There are over 7,000 languages spoken around the world today.\n",
      "[Document(id=cfe93bc1c274908801e6670440bf2bbba54fad792770d57421f85ffa2a4fcc94, content: 'There are over 7,000 languages spoken around the world today.', score: 14.697908314805233), Document(id=809bb7b9cdd0ffc53a138ae56f78b765a8b2fc70d771728702a950476e2464a5, content: '[28] It is possible to go diving and see the ruins. The secretariat of the UNESCO Convention on the ...', meta: {'url': 'https://en.wikipedia.org/wiki/Lighthouse_of_Alexandria', '_split_id': 9}, score: 11.402664863437517), Document(id=bb2c5f3d2e2e2bf28d599c7b686ab47ba10fbc13c07279e612d8632af81e5d71, content: 'The Roman writer Pliny the Elder, writing in the first century AD, argued that the Great Pyramid had...', meta: {'url': 'https://en.wikipedia.org/wiki/Great_Pyramid_of_Giza', '_split_id': 16}, score: 9.948798320669107), Document(id=0b3ec68a3754c399d2160c93c36ea172c318edad9310828c7d056392956f884f, content: 'The building was rectangular, not square, surrounded by a colonnade of thirty-six columns. There was...', meta: {'url': 'https://en.wikipedia.org/wiki/Mausoleum_at_Halicarnassus', '_split_id': 9}, score: 9.942052623900786), Document(id=a3ee3a9a55b47ff651ae11dc56d84d2b6f8d931b795bd866c14eacfa56000965, content: 'Within it, too, are to be seen large masses of rock, by the weight of which the artist steadied it w...', meta: {'url': 'https://en.wikipedia.org/wiki/Colossus_of_Rhodes', '_split_id': 9}, score: 9.93174134694785), Document(id=f100f5f3af3ab7b4b146fb6ae877732ba959d4f1469a80869b1018fb6322847b, content: '[5]\n",
      "The dimensions of the pyramid were 280 royal cubits (146.7 m; 481.4 ft) high, a base length of 4...', meta: {'url': 'https://en.wikipedia.org/wiki/Great_Pyramid_of_Giza', '_split_id': 1}, score: 9.90109629892049), Document(id=29298f630a7bcda1c8daf46301f0147b20b35161cc9957b75e3fe928734ebd4a, content: 'The Greek habits of syncretism assimilated all foreign gods under some form of the Olympian pantheon...', meta: {'url': 'https://en.wikipedia.org/wiki/Temple_of_Artemis', '_split_id': 17}, score: 9.50991170678554), Document(id=067d34bb826ab555d09f838ba676842c23ec4421ca9c79d62cb9b52cd880f5ce, content: '[98] Petrie concluded: \"but these relations of areas and of circular ratio are so systematic that we...', meta: {'url': 'https://en.wikipedia.org/wiki/Great_Pyramid_of_Giza', '_split_id': 27}, score: 9.369346862664193), Document(id=1d3b00c0c761487040b62edb06fdcd47b84a7ea8e35382c474f9107bcb7f2afe, content: 'The construction of the Hanging Gardens has also been attributed to the legendary queen Semiramis[4]...', meta: {'url': 'https://en.wikipedia.org/wiki/Hanging_Gardens_of_Babylon', '_split_id': 1}, score: 9.355947046176885), Document(id=62b740443778bd783e082734cf3b57684f1ff204afcb42f473f32987ee79f9e0, content: '[79] The bedrock reaches a height of almost 6 metres (20 ft) above the pyramid base at the location ...', meta: {'url': 'https://en.wikipedia.org/wiki/Great_Pyramid_of_Giza', '_split_id': 22}, score: 9.321987515199057)]\n"
     ]
    }
   ],
   "source": [
    "question = \"How many languages are there?\"\n",
    "result = rag_pipeline.run(\n",
    "            {\n",
    "                \"retriever\": {\"query\": question},\n",
    "                \"prompt_builder\": {\"question\": question},\n",
    "                \"answer_builder\": {\"query\": question},\n",
    "            }\n",
    "        )\n",
    "print(result['answer_builder']['answers'][0].query)\n",
    "print(result['answer_builder']['answers'][0].data)\n",
    "print(result['answer_builder']['answers'][0].documents)"
   ],
   "metadata": {
    "collapsed": false,
    "ExecuteTime": {
     "end_time": "2024-09-16T12:38:28.381975Z",
     "start_time": "2024-09-16T12:38:27.572578Z"
    }
   },
   "id": "1f2af96c718477c3",
   "execution_count": 12
  },
  {
   "cell_type": "code",
   "outputs": [],
   "source": [
    "dataset = load_dataset(\"bilgeyucel/seven-wonders\", split=\"train\")\n",
    "docs = [Document(content=doc[\"content\"], meta=doc[\"meta\"]) for doc in dataset]\n",
    "rag_pipeline.get_component(\"retriever\").document_store.write_documents(docs)"
   ],
   "metadata": {
    "collapsed": false
   },
   "id": "98a0c8f72a856e2e"
  },
  {
   "cell_type": "code",
   "outputs": [
    {
     "name": "stdout",
     "output_type": "stream",
     "text": [
      "How old is great pyramid of Giza?\n",
      "The Great Pyramid of Giza is approximately 4600 years old.\n",
      "[Document(id=76faac9079190122b6af0e7a46f8ad79d04f8243aee0fe9fea8c999bc2dfea19, content: 'The Great Pyramid of Giza[a] is the largest Egyptian pyramid and the tomb of Fourth Dynasty pharaoh ...', meta: {'url': 'https://en.wikipedia.org/wiki/Great_Pyramid_of_Giza', '_split_id': 0}, score: 12.873353552923584), Document(id=e42388e23323dad64d9cd5dd5e93fa1391d93be3dc161236d789e2eb7de99546, content: 'These were entrusted to a boat builder, Haj Ahmed Yusuf, who worked out how the pieces fit together....', meta: {'url': 'https://en.wikipedia.org/wiki/Great_Pyramid_of_Giza', '_split_id': 60}, score: 12.228349913056208), Document(id=62b740443778bd783e082734cf3b57684f1ff204afcb42f473f32987ee79f9e0, content: '[79] The bedrock reaches a height of almost 6 metres (20 ft) above the pyramid base at the location ...', meta: {'url': 'https://en.wikipedia.org/wiki/Great_Pyramid_of_Giza', '_split_id': 22}, score: 11.981132004688764), Document(id=a7d4a6a3583720b098f051b2f4539b41f33e26b63a67ef39ef43d8b28d1bfa3d, content: '[89]\n",
      "Worker graffiti found at Giza suggest haulers were divided into zau (singular za), groups of 40...', meta: {'url': 'https://en.wikipedia.org/wiki/Great_Pyramid_of_Giza', '_split_id': 24}, score: 11.826530716235803), Document(id=28bc51f66d2848f6295b131d1dac66c25a869064927e200014f383611d059c2d, content: '(2010)[36]\n",
      "\n",
      "2613–2577 BC\n",
      "\n",
      "The Great Pyramid has been determined to be about 4600 years old by two pr...', meta: {'url': 'https://en.wikipedia.org/wiki/Great_Pyramid_of_Giza', '_split_id': 7}, score: 11.49314533271674), Document(id=bb2c5f3d2e2e2bf28d599c7b686ab47ba10fbc13c07279e612d8632af81e5d71, content: 'The Roman writer Pliny the Elder, writing in the first century AD, argued that the Great Pyramid had...', meta: {'url': 'https://en.wikipedia.org/wiki/Great_Pyramid_of_Giza', '_split_id': 16}, score: 11.48825893869488), Document(id=6ecad0a097c97191ef1c6bf17d7d8f26a30989c749af37b1ac74e50d1e577b83, content: 'Pyramid complex\n",
      "See also: Giza pyramid complex\n",
      "The Great Pyramid is surrounded by a complex of sever...', meta: {'url': 'https://en.wikipedia.org/wiki/Great_Pyramid_of_Giza', '_split_id': 58}, score: 11.294613172784064), Document(id=4a988f268c10bbb6af9a18063a14460b7e0126c7ed1befb2be17c9cbbc4bb064, content: 'The earliest pharaonic name of seal impressions is that of Khufu, the latest of Pepi II. Worker graf...', meta: {'url': 'https://en.wikipedia.org/wiki/Great_Pyramid_of_Giza', '_split_id': 4}, score: 11.184629390275513), Document(id=f100f5f3af3ab7b4b146fb6ae877732ba959d4f1469a80869b1018fb6322847b, content: '[5]\n",
      "The dimensions of the pyramid were 280 royal cubits (146.7 m; 481.4 ft) high, a base length of 4...', meta: {'url': 'https://en.wikipedia.org/wiki/Great_Pyramid_of_Giza', '_split_id': 1}, score: 11.101564258020424), Document(id=9f49570771ee549d64bf9dc35494a69294ee1c4639df47150a672629dc6cc10e, content: '[202]\n",
      "\n",
      "Looting\n",
      "Authors Bob Brier and Hoyt Hobbs claim that \"all the pyramids were robbed\" by the New...', meta: {'url': 'https://en.wikipedia.org/wiki/Great_Pyramid_of_Giza', '_split_id': 62}, score: 11.039208013844968)]\n"
     ]
    }
   ],
   "source": [
    "question = \"How old is great pyramid of Giza?\"\n",
    "result = rag_pipeline.run(\n",
    "            {\n",
    "                \"retriever\": {\"query\": question},\n",
    "                \"prompt_builder\": {\"question\": question},\n",
    "                \"answer_builder\": {\"query\": question},\n",
    "            }\n",
    "        )\n",
    "print(result['answer_builder']['answers'][0].query)\n",
    "print(result['answer_builder']['answers'][0].data)\n",
    "print(result['answer_builder']['answers'][0].documents)"
   ],
   "metadata": {
    "collapsed": false,
    "ExecuteTime": {
     "end_time": "2024-09-16T12:39:32.600089Z",
     "start_time": "2024-09-16T12:39:31.872452Z"
    }
   },
   "id": "432155ea88427a9a",
   "execution_count": 14
  }
 ],
 "metadata": {
  "kernelspec": {
   "display_name": "Python 3",
   "language": "python",
   "name": "python3"
  },
  "language_info": {
   "codemirror_mode": {
    "name": "ipython",
    "version": 2
   },
   "file_extension": ".py",
   "mimetype": "text/x-python",
   "name": "python",
   "nbconvert_exporter": "python",
   "pygments_lexer": "ipython2",
   "version": "2.7.6"
  }
 },
 "nbformat": 4,
 "nbformat_minor": 5
}
