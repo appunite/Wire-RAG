{
 "cells": [
  {
   "cell_type": "code",
   "outputs": [],
   "source": [
    "from haystack.components.writers import DocumentWriter\n",
    "from haystack.components.converters import MarkdownToDocument, PyPDFToDocument, TextFileToDocument\n",
    "from haystack.components.preprocessors import DocumentSplitter, DocumentCleaner\n",
    "from haystack.components.routers import FileTypeRouter\n",
    "from haystack.components.joiners import DocumentJoiner\n",
    "from haystack.components.embedders import SentenceTransformersDocumentEmbedder\n",
    "from haystack import Pipeline\n",
    "from haystack.document_stores.in_memory import InMemoryDocumentStore\n",
    "\n",
    "document_store = InMemoryDocumentStore()\n",
    "file_type_router = FileTypeRouter(mime_types=[\"text/plain\", \"application/pdf\", \"text/markdown\"])\n",
    "text_file_converter = TextFileToDocument()\n",
    "markdown_converter = MarkdownToDocument()\n",
    "pdf_converter = PyPDFToDocument()\n",
    "document_joiner = DocumentJoiner()"
   ],
   "metadata": {
    "collapsed": false,
    "ExecuteTime": {
     "end_time": "2024-09-18T10:48:50.356796Z",
     "start_time": "2024-09-18T10:48:50.352771Z"
    }
   },
   "id": "a745131d322d28",
   "execution_count": 18
  },
  {
   "cell_type": "code",
   "outputs": [],
   "source": [
    "document_cleaner = DocumentCleaner()\n",
    "document_splitter = DocumentSplitter(split_by=\"word\", split_length=150, split_overlap=50)"
   ],
   "metadata": {
    "collapsed": false,
    "ExecuteTime": {
     "end_time": "2024-09-18T10:48:50.368691Z",
     "start_time": "2024-09-18T10:48:50.357318Z"
    }
   },
   "id": "5142cfb8161abc1",
   "execution_count": 19
  },
  {
   "cell_type": "code",
   "outputs": [],
   "source": [
    "document_embedder = SentenceTransformersDocumentEmbedder(model=\"sentence-transformers/all-MiniLM-L6-v2\")\n",
    "document_writer = DocumentWriter(document_store)"
   ],
   "metadata": {
    "collapsed": false,
    "ExecuteTime": {
     "end_time": "2024-09-18T10:48:50.378624Z",
     "start_time": "2024-09-18T10:48:50.369687Z"
    }
   },
   "id": "52cabefb46937d22",
   "execution_count": 20
  },
  {
   "cell_type": "code",
   "outputs": [
    {
     "data": {
      "text/plain": "<haystack.core.pipeline.pipeline.Pipeline object at 0x000002706BF5B680>\n🚅 Components\n  - file_type_router: FileTypeRouter\n  - text_file_converter: TextFileToDocument\n  - markdown_converter: MarkdownToDocument\n  - pypdf_converter: PyPDFToDocument\n  - document_joiner: DocumentJoiner\n  - document_cleaner: DocumentCleaner\n  - document_splitter: DocumentSplitter\n  - document_embedder: SentenceTransformersDocumentEmbedder\n  - document_writer: DocumentWriter\n🛤️ Connections\n  - file_type_router.text/plain -> text_file_converter.sources (List[Path])\n  - file_type_router.application/pdf -> pypdf_converter.sources (List[Path])\n  - file_type_router.text/markdown -> markdown_converter.sources (List[Path])\n  - text_file_converter.documents -> document_joiner.documents (List[Document])\n  - markdown_converter.documents -> document_joiner.documents (List[Document])\n  - pypdf_converter.documents -> document_joiner.documents (List[Document])\n  - document_joiner.documents -> document_cleaner.documents (List[Document])\n  - document_cleaner.documents -> document_splitter.documents (List[Document])\n  - document_splitter.documents -> document_embedder.documents (List[Document])\n  - document_embedder.documents -> document_writer.documents (List[Document])"
     },
     "execution_count": 21,
     "metadata": {},
     "output_type": "execute_result"
    }
   ],
   "source": [
    "preprocessing_pipeline = Pipeline()\n",
    "preprocessing_pipeline.add_component(instance=file_type_router, name=\"file_type_router\")\n",
    "preprocessing_pipeline.add_component(instance=text_file_converter, name=\"text_file_converter\")\n",
    "preprocessing_pipeline.add_component(instance=markdown_converter, name=\"markdown_converter\")\n",
    "preprocessing_pipeline.add_component(instance=pdf_converter, name=\"pypdf_converter\")\n",
    "preprocessing_pipeline.add_component(instance=document_joiner, name=\"document_joiner\")\n",
    "preprocessing_pipeline.add_component(instance=document_cleaner, name=\"document_cleaner\")\n",
    "preprocessing_pipeline.add_component(instance=document_splitter, name=\"document_splitter\")\n",
    "preprocessing_pipeline.add_component(instance=document_embedder, name=\"document_embedder\")\n",
    "preprocessing_pipeline.add_component(instance=document_writer, name=\"document_writer\")\n",
    "\n",
    "preprocessing_pipeline.connect(\"file_type_router.text/plain\", \"text_file_converter.sources\")\n",
    "preprocessing_pipeline.connect(\"file_type_router.application/pdf\", \"pypdf_converter.sources\")\n",
    "preprocessing_pipeline.connect(\"file_type_router.text/markdown\", \"markdown_converter.sources\")\n",
    "preprocessing_pipeline.connect(\"text_file_converter\", \"document_joiner\")\n",
    "preprocessing_pipeline.connect(\"pypdf_converter\", \"document_joiner\")\n",
    "preprocessing_pipeline.connect(\"markdown_converter\", \"document_joiner\")\n",
    "preprocessing_pipeline.connect(\"document_joiner\", \"document_cleaner\")\n",
    "preprocessing_pipeline.connect(\"document_cleaner\", \"document_splitter\")\n",
    "preprocessing_pipeline.connect(\"document_splitter\", \"document_embedder\")\n",
    "preprocessing_pipeline.connect(\"document_embedder\", \"document_writer\")"
   ],
   "metadata": {
    "collapsed": false,
    "ExecuteTime": {
     "end_time": "2024-09-18T10:48:50.389006Z",
     "start_time": "2024-09-18T10:48:50.379621Z"
    }
   },
   "id": "f0df56147ec0fad8",
   "execution_count": 21
  },
  {
   "cell_type": "code",
   "outputs": [
    {
     "name": "stderr",
     "output_type": "stream",
     "text": [
      "Converting markdown files to Documents: 100%|██████████| 8/8 [00:00<00:00, 2664.74it/s]\n"
     ]
    },
    {
     "data": {
      "text/plain": "Batches:   0%|          | 0/1 [00:00<?, ?it/s]",
      "application/vnd.jupyter.widget-view+json": {
       "version_major": 2,
       "version_minor": 0,
       "model_id": "ee234126b0a648a583ad52bec4b53498"
      }
     },
     "metadata": {},
     "output_type": "display_data"
    },
    {
     "data": {
      "text/plain": "{'document_writer': {'documents_written': 25}}"
     },
     "execution_count": 22,
     "metadata": {},
     "output_type": "execute_result"
    }
   ],
   "source": [
    "from pathlib import Path\n",
    "\n",
    "preprocessing_pipeline.run({\"file_type_router\": {\"sources\": list(Path(Path('./Data/Test_Case')).glob(\"**/*\"))}})"
   ],
   "metadata": {
    "collapsed": false,
    "ExecuteTime": {
     "end_time": "2024-09-18T10:48:50.667999Z",
     "start_time": "2024-09-18T10:48:50.389999Z"
    }
   },
   "id": "7a1c47cb85342d86",
   "execution_count": 22
  },
  {
   "cell_type": "code",
   "outputs": [],
   "source": [
    "import openai\n",
    "from dotenv import load_dotenv\n",
    "import os\n",
    "\n",
    "# Load OpenAI API key from .env file\n",
    "load_dotenv()\n",
    "openai.api_key = os.getenv(\"OPENAI_API_KEY\")"
   ],
   "metadata": {
    "collapsed": false,
    "ExecuteTime": {
     "end_time": "2024-09-18T10:48:50.671358Z",
     "start_time": "2024-09-18T10:48:50.667999Z"
    }
   },
   "id": "6bfc12597e46077",
   "execution_count": 23
  },
  {
   "cell_type": "code",
   "outputs": [
    {
     "data": {
      "text/plain": "<haystack.core.pipeline.pipeline.Pipeline object at 0x000002706BC75D90>\n🚅 Components\n  - retriever: InMemoryBM25Retriever\n  - prompt_builder: PromptBuilder\n  - llm: OpenAIGenerator\n  - answer_builder: AnswerBuilder\n🛤️ Connections\n  - retriever.documents -> prompt_builder.documents (List[Document])\n  - retriever.documents -> answer_builder.documents (List[Document])\n  - prompt_builder.prompt -> llm.prompt (str)\n  - llm.replies -> answer_builder.replies (List[str])"
     },
     "execution_count": 24,
     "metadata": {},
     "output_type": "execute_result"
    }
   ],
   "source": [
    "from haystack.components.retrievers.in_memory import InMemoryBM25Retriever\n",
    "from haystack import Pipeline\n",
    "from haystack.components.generators import OpenAIGenerator\n",
    "from haystack.components.builders.answer_builder import AnswerBuilder\n",
    "from haystack.components.builders.prompt_builder import PromptBuilder\n",
    "\n",
    "\n",
    "# Create a RAG query pipeline\n",
    "prompt_template = \"\"\"\n",
    "    Given these documents, answer the question.\\nDocuments:\n",
    "    {% for doc in documents %}\n",
    "        {{ doc.content }}\n",
    "    {% endfor %}\n",
    "\n",
    "    \\nQuestion: {{question}}\n",
    "    \\nAnswer:\n",
    "\"\"\"\n",
    "\n",
    "rag_pipeline = Pipeline()\n",
    "rag_pipeline.add_component(instance=InMemoryBM25Retriever(document_store=document_store), name=\"retriever\")\n",
    "rag_pipeline.add_component(instance=PromptBuilder(template=prompt_template), name=\"prompt_builder\")\n",
    "rag_pipeline.add_component(instance=OpenAIGenerator(), name=\"llm\")\n",
    "rag_pipeline.add_component(instance=AnswerBuilder(), name=\"answer_builder\")\n",
    "rag_pipeline.connect(\"retriever\", \"prompt_builder.documents\")\n",
    "rag_pipeline.connect(\"prompt_builder\", \"llm\")\n",
    "rag_pipeline.connect(\"llm.replies\", \"answer_builder.replies\")\n",
    "rag_pipeline.connect(\"retriever\", \"answer_builder.documents\")\n"
   ],
   "metadata": {
    "collapsed": false,
    "ExecuteTime": {
     "end_time": "2024-09-18T10:48:50.856588Z",
     "start_time": "2024-09-18T10:48:50.671358Z"
    }
   },
   "id": "1b38c8ef5aacfe0",
   "execution_count": 24
  },
  {
   "cell_type": "code",
   "outputs": [
    {
     "name": "stdout",
     "output_type": "stream",
     "text": [
      "Generate full documentation of DataAnalyzer project\n",
      "# DataAnalyzer Project Documentation\n",
      "\n",
      "## Overview\n",
      "The DataAnalyzer project provides a flexible and optimized solution for processing datasets to generate useful statistics and insights. The project is designed to handle datasets of varying sizes efficiently.\n",
      "\n",
      "## Module Information\n",
      "- Module Name: DataAnalyzer\n",
      "- Current Version: 2.5.0\n",
      "- Author: Tech Solutions\n",
      "\n",
      "## Functions\n",
      "1. **analyze_data(dataset: list) -> dict**\n",
      "   - Description: This function calculates basic statistics such as Mean, Median, and Standard Deviation from the input dataset.\n",
      "   - Parameters:\n",
      "     - dataset (list): Input list of numerical values.\n",
      "   - Returns: A dictionary containing the calculated statistics.\n",
      "   - Usage Example: \n",
      "     ```python\n",
      "     from DataAnalyzer import analyze_data\n",
      "     dataset = [12, 45, 67, 23, 89]\n",
      "     stats = analyze_data(dataset)\n",
      "     print(stats)\n",
      "     ```\n",
      "\n",
      "2. **visualize_data(dataset: list, chart_type: str = 'bar') -> None**\n",
      "   - Description: This function generates visualizations for the provided dataset in the form of bar, line, or scatter charts.\n",
      "   - Parameters:\n",
      "     - dataset (list): Input list of values.\n",
      "     - chart_type (str): Type of chart to generate (default is 'bar').\n",
      "   - Returns: None\n",
      "\n",
      "## Dependencies\n",
      "- Python 3.8+\n",
      "- matplotlib\n",
      "- numpy\n",
      "\n",
      "## Installation\n",
      "1. Install the DataAnalyzer package using pip:\n",
      "   ```\n",
      "   pip install data-analyzer\n",
      "   ```\n",
      "\n",
      "## How to Use\n",
      "1. Import the module into your Python script.\n",
      "2. Call the functions as demonstrated in the usage examples provided above.\n",
      "\n",
      "## Additional Notes\n",
      "- The DataAnalyzer project aims to provide a fast and optimized approach to data analysis, suitable for personal and academic projects.\n",
      "- For large-scale datasets, consider using alternative solutions optimized for handling extensive data volumes.\n",
      "[Document(id=5858b0617db9c1b474fa484f0a3bec8317fded4cfcdae84552bbee3249faf4d0, content: 'Code Documentation for DataAnalyzer.py\n",
      "Module Name: DataAnalyzer\n",
      "Version: 1.0.0\n",
      "Author: Tech Solutio...', meta: {'file_path': 'Data\\\\Test_Case\\\\1.pdf', 'source_id': '1416f0a216fd69c6e9a9028316744a042dc4663e8c0873b02eca4661feb987a2', 'page_number': 1, 'split_id': 0, 'split_idx_start': 0, '_split_overlap': []}, score: 9.843553626966113, embedding: vector of size 384), Document(id=29a7dae24a4df16e8953fc75558c569e82cd47e3c6919d810fe9e81d12287724, content: 'DataAnalyzer Version: 2.5.0\n",
      "Author: Tech Innovations Overview The DataAnalyzer package provides a fa...', meta: {'file_path': 'Data\\\\Test_Case\\\\1.md', 'source_id': 'fa6b471b2169c5cf6b138e74e2f334fba71150573d6d513d052a67560a947eac', 'page_number': 1, 'split_id': 0, 'split_idx_start': 0, '_split_overlap': []}, score: 7.15501741119407, embedding: vector of size 384), Document(id=317094e95a461034dab2952073d52e1365e624a8cd11948f5f150fbbe51980ae, content: 'README Project Description This Java project is designed to demonstrate basic input/output handling....', meta: {'file_path': 'Data\\\\Test_Case\\\\2.md', 'source_id': 'ebdee72975da0e6d66faaf7ab0c3e275cf59e74438c5a7461c3692734ca77596', 'page_number': 1, 'split_id': 0, 'split_idx_start': 0, '_split_overlap': []}, score: 6.345429670524084, embedding: vector of size 384), Document(id=136bcc65efa842bf4dab45cc51c0b89df20d582eb2c965c08134364c020bc1ac, content: '# Java Code Documentation\n",
      "## Overview\n",
      "This document describes the structure and functionality of the...', meta: {'file_path': 'Data\\\\Test_Case\\\\2.pdf', 'source_id': '76c338e9aceda03cf4153d7b185487351515e7f129f6b7d9ca9c2ddfec9a2be5', 'page_number': 1, 'split_id': 0, 'split_idx_start': 0, '_split_overlap': [{'doc_id': 'a6c0e5304630bcd37e2dad1fff7ab046d0d9965e26384b08d134d08a3bf009cd', 'range': (0, 366)}]}, score: 6.060984635543656, embedding: vector of size 384), Document(id=3aca361c8962d6556c966b5d8576d91034778781053db20e93abd0f2a52fd7d6, content: 'README Project Description This Ruby script is designed for text analysis, not basic string reversal...', meta: {'file_path': 'Data\\\\Test_Case\\\\5.md', 'source_id': '8fc343842065a5149f581ff978730fe914a91bb430ec0479c23d31e716217cfc', 'page_number': 1, 'split_id': 0, 'split_idx_start': 0, '_split_overlap': []}, score: 5.980542503567867, embedding: vector of size 384), Document(id=f8095bb51fd0ca30e9441d241726f212b835eeede0acc572eb9f667dc51eb7d1, content: 'Web Scraping Tool Project Description This Python project is used to download images from a website....', meta: {'file_path': 'Data\\\\Test_Case\\\\6.md', 'source_id': '749586ca91878f2c0fd74590ce4724e93253dabd5519f8fef4214e21ae50cfe5', 'page_number': 1, 'split_id': 0, 'split_idx_start': 0, '_split_overlap': []}, score: 5.91354770438449, embedding: vector of size 384), Document(id=43d89de410abee85f1612ac4cb5847334e4285d77ca9cdc14f6ea232f676b10b, content: 'README Project Description This Python script is an interactive command-line tool designed for proce...', meta: {'file_path': 'Data\\\\Test_Case\\\\3.md', 'source_id': 'f19225d52b2230e510de7cb747efed97f2d1335dfd2ae2a017f0c3c969213f5c', 'page_number': 1, 'split_id': 0, 'split_idx_start': 0, '_split_overlap': []}, score: 5.826828608574849, embedding: vector of size 384), Document(id=4024b191a3d0fba2398d46001bc77d9ccba8e5c49abac14da2619e42e08e81a6, content: '# Python Web Scraping Documentation\n",
      "## Overview\n",
      "This document provides a detailed explanation of a P...', meta: {'file_path': 'Data\\\\Test_Case\\\\6.pdf', 'source_id': '67a154ef1e5a4fe4683febd967009cda6f6222bcee05a967002a28d45c61c9f4', 'page_number': 1, 'split_id': 0, 'split_idx_start': 0, '_split_overlap': []}, score: 5.619366427963531, embedding: vector of size 384), Document(id=e6ef7d61759d1e13272ab421c3267741c2ac7318c93c115919c8cfbfd43b1735, content: '# JavaScript Code Documentation\n",
      "## Overview\n",
      "This document provides an overview of a JavaScript appli...', meta: {'file_path': 'Data\\\\Test_Case\\\\4.pdf', 'source_id': '169f5c62eda67548ed0fe3a3099ea84a4fde8eefb7422d877f3fb33185a676be', 'page_number': 1, 'split_id': 0, 'split_idx_start': 0, '_split_overlap': []}, score: 5.618810158906699, embedding: vector of size 384), Document(id=d31353d87d7ca681ee279935513d29960d555b733dc313fb64d18020487ae467, content: '# Ruby Code Documentation\n",
      "## Overview\n",
      "This document outlines the implementation of a simple Ruby scr...', meta: {'file_path': 'Data\\\\Test_Case\\\\5.pdf', 'source_id': 'e296dd3d2aa8e6c78cdbb4d23d59b17ead359092172c246eeef5beafb967aafa', 'page_number': 1, 'split_id': 0, 'split_idx_start': 0, '_split_overlap': []}, score: 5.601330064756786, embedding: vector of size 384)]\n"
     ]
    }
   ],
   "source": [
    "question = \"Generate full documentation of DataAnalyzer project\"\n",
    "result = rag_pipeline.run(\n",
    "            {\n",
    "                \"retriever\": {\"query\": question},\n",
    "                \"prompt_builder\": {\"question\": question},\n",
    "                \"answer_builder\": {\"query\": question},\n",
    "            }\n",
    "        )\n",
    "print(result['answer_builder']['answers'][0].query)\n",
    "print(result['answer_builder']['answers'][0].data)\n",
    "print(result['answer_builder']['answers'][0].documents)\n",
    "\n",
    "with open(\"./Data/Outputs/output.md\", \"w\") as f:\n",
    "    f.write(result['answer_builder']['answers'][0].data)"
   ],
   "metadata": {
    "collapsed": false,
    "ExecuteTime": {
     "end_time": "2024-09-18T10:48:56.081921Z",
     "start_time": "2024-09-18T10:48:50.857103Z"
    }
   },
   "id": "d066fdea1ddd46d3",
   "execution_count": 25
  }
 ],
 "metadata": {
  "kernelspec": {
   "display_name": "Python 3",
   "language": "python",
   "name": "python3"
  },
  "language_info": {
   "codemirror_mode": {
    "name": "ipython",
    "version": 2
   },
   "file_extension": ".py",
   "mimetype": "text/x-python",
   "name": "python",
   "nbconvert_exporter": "python",
   "pygments_lexer": "ipython2",
   "version": "2.7.6"
  }
 },
 "nbformat": 4,
 "nbformat_minor": 5
}
